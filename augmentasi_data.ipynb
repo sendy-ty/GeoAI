{
  "cells": [
    {
      "cell_type": "code",
      "execution_count": null,
      "id": "D1qUmP8sdPrH",
      "metadata": {
        "id": "D1qUmP8sdPrH"
      },
      "outputs": [],
      "source": [
        "# STEP 1: Mount Google Drive\n",
        "from google.colab import drive\n",
        "drive.mount('/content/drive')"
      ]
    },
    {
      "cell_type": "code",
      "execution_count": null,
      "id": "b1994133-349a-4317-b508-19b0e4ac33a0",
      "metadata": {
        "id": "b1994133-349a-4317-b508-19b0e4ac33a0"
      },
      "outputs": [],
      "source": [
        "# STEP 2: Install libraries\n",
        "!pip install -U albumentations\n",
        "!pip install opencv-python"
      ]
    },
    {
      "cell_type": "code",
      "execution_count": null,
      "id": "e2a9731e-5bf6-46a1-b108-1afbc82eb44b",
      "metadata": {
        "id": "e2a9731e-5bf6-46a1-b108-1afbc82eb44b"
      },
      "outputs": [],
      "source": [
        "# STEP 3 : Verifikasi instalasi albumentations\n",
        "import albumentations as A\n",
        "import cv2\n",
        "print(\"Albumentations versi\",A.__version__)\n",
        "print(\"OpenCV versi\",cv2.__version__)"
      ]
    },
    {
      "cell_type": "code",
      "execution_count": null,
      "id": "732ffbfa-9caa-42de-a637-476d257df0dd",
      "metadata": {
        "id": "732ffbfa-9caa-42de-a637-476d257df0dd"
      },
      "outputs": [],
      "source": [
        "# STEP 4: Import libraries\n",
        "import os\n",
        "import cv2\n",
        "import random\n",
        "import shutil\n",
        "import albumentations as A\n",
        "from google.colab import drive"
      ]
    },
    {
      "cell_type": "code",
      "execution_count": null,
      "id": "b735126f-b8d0-46b2-860a-a8f5bb66df67",
      "metadata": {
        "id": "b735126f-b8d0-46b2-860a-a8f5bb66df67"
      },
      "outputs": [],
      "source": [
        "# STEP 5: Setup paths\n",
        "image_dir = '/content/drive/MyDrive/train/images'\n",
        "label_dir = '/content/drive/MyDrive/train/labels'\n",
        "\n",
        "output_base = '/content/drive/MyDrive/augmented'\n",
        "output_train_img = os.path.join(output_base, 'train/images')\n",
        "output_train_lbl = os.path.join(output_base, 'train/labels')\n",
        "output_val_img = os.path.join(output_base, 'val/images')\n",
        "output_val_lbl = os.path.join(output_base, 'val/labels')\n",
        "\n",
        "# Buat folder output\n",
        "for path in [output_train_img, output_train_lbl, output_val_img, output_val_lbl]:\n",
        "    os.makedirs(path, exist_ok=True)"
      ]
    },
    {
      "cell_type": "code",
      "execution_count": null,
      "id": "uyDBW9GtvZvG",
      "metadata": {
        "id": "uyDBW9GtvZvG"
      },
      "outputs": [],
      "source": [
        "# STEP 6: Start Augmentation\n",
        "\n",
        "# Fungsi baca label YOLO\n",
        "def read_yolo_label(label_path):\n",
        "    if not os.path.exists(label_path):\n",
        "        return [], []\n",
        "    with open(label_path, 'r') as f:\n",
        "        lines = f.readlines()\n",
        "    bboxes = []\n",
        "    class_labels = []\n",
        "    for line in lines:\n",
        "        parts = line.strip().split()\n",
        "        if len(parts) == 5:\n",
        "            cls, x, y, w, h = map(float, parts)\n",
        "            bboxes.append([x, y, w, h])\n",
        "            class_labels.append(int(cls))\n",
        "    return bboxes, class_labels\n",
        "\n",
        "# Simpan label ke file\n",
        "def save_yolo_label(path, bboxes, class_labels):\n",
        "    with open(path, 'w') as f:\n",
        "        for box, cls in zip(bboxes, class_labels):\n",
        "            x, y, w, h = box\n",
        "            f.write(f\"{int(cls)} {x:.6f} {y:.6f} {w:.6f} {h:.6f}\\n\")\n",
        "\n",
        "# Fungsi augmentasi\n",
        "def apply_aug(image, bboxes, class_labels, transform):\n",
        "    transformed = transform(image=image, bboxes=bboxes, class_labels=class_labels)\n",
        "    return transformed['image'], transformed['bboxes'], transformed['class_labels']\n",
        "\n",
        "# Augmentasi yang dilakukan\n",
        "def get_augmentations():\n",
        "    return {\n",
        "        'rot90': A.Rotate(limit=(90, 90), p=1),     # Rotasi 90 derajat\n",
        "        'rot180': A.Rotate(limit=(180, 180), p=1),  # Rotasi 180 derajat\n",
        "        'rot270': A.Rotate(limit=(270, 270), p=1),  # Rotasi 270 derajat\n",
        "        'hflip': A.HorizontalFlip(p=1),             # Flip Horizontal\n",
        "        'vflip': A.VerticalFlip(p=1),               # Flip Vertikal\n",
        "        'bright': A.RandomBrightnessContrast(p=1),  # Contrast Adjustment\n",
        "    }\n",
        "\n",
        "# Ambil semua file gambar\n",
        "image_files = [f for f in os.listdir(image_dir) if f.lower().endswith(('.jpg', '.jpeg', '.png'))]\n",
        "\n",
        "all_augmented = []\n",
        "\n",
        "# Proses setiap gambar\n",
        "for img_file in image_files:\n",
        "    img_path = os.path.join(image_dir, img_file)\n",
        "    label_path = os.path.join(label_dir, os.path.splitext(img_file)[0] + '.txt')\n",
        "\n",
        "    image = cv2.imread(img_path)\n",
        "    bboxes, class_labels = read_yolo_label(label_path)\n",
        "\n",
        "    name_base = os.path.splitext(img_file)[0]\n",
        "\n",
        "    # Data asli\n",
        "    all_augmented.append((image, bboxes, class_labels, f'{name_base}_orig'))\n",
        "\n",
        "    # Augmentasi\n",
        "    augmentations = get_augmentations()\n",
        "    for aug_name, aug_op in augmentations.items():\n",
        "        composed = A.Compose([aug_op], bbox_params=A.BboxParams(format='yolo', label_fields=['class_labels']))\n",
        "        img_aug, boxes_aug, cls_aug = apply_aug(image, bboxes, class_labels, composed)\n",
        "        all_augmented.append((img_aug, boxes_aug, cls_aug, f'{name_base}_{aug_name}'))\n",
        "\n",
        "# Acak dan split 80:20\n",
        "random.shuffle(all_augmented)\n",
        "split_idx = int(0.8 * len(all_augmented))\n",
        "train_data = all_augmented[:split_idx]\n",
        "val_data = all_augmented[split_idx:]\n",
        "\n",
        "# Simpan data ke folder\n",
        "def save_dataset(data_list, img_dir, lbl_dir):\n",
        "    for img, boxes, clss, name in data_list:\n",
        "        img_path = os.path.join(img_dir, f'{name}.jpg')\n",
        "        lbl_path = os.path.join(lbl_dir, f'{name}.txt')\n",
        "        cv2.imwrite(img_path, img)\n",
        "        save_yolo_label(lbl_path, boxes, clss)\n",
        "\n",
        "save_dataset(train_data, output_train_img, output_train_lbl)\n",
        "save_dataset(val_data, output_val_img, output_val_lbl)\n",
        "\n",
        "print(f\"✅ Selesai! Total data: {len(all_augmented)}\")\n",
        "print(f\"📁 Train: {len(train_data)}\")\n",
        "print(f\"📁 Val: {len(val_data)}\")"
      ]
    }
  ],
  "metadata": {
    "accelerator": "GPU",
    "colab": {
      "gpuType": "T4",
      "provenance": []
    },
    "kernelspec": {
      "display_name": "Python 3",
      "name": "python3"
    },
    "language_info": {
      "codemirror_mode": {
        "name": "ipython",
        "version": 3
      },
      "file_extension": ".py",
      "mimetype": "text/x-python",
      "name": "python",
      "nbconvert_exporter": "python",
      "pygments_lexer": "ipython3",
      "version": "3.12.10"
    }
  },
  "nbformat": 4,
  "nbformat_minor": 5
}