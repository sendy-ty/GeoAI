{
  "cells": [
    {
      "cell_type": "code",
      "source": [
        "# Step 1 : Mount Google Drive\n",
        "from google.colab import drive\n",
        "drive.mount('/content/drive')"
      ],
      "metadata": {
        "id": "iLhDwesKZ_T7",
        "outputId": "a39af731-553c-4834-afa3-f8783bedc0be",
        "colab": {
          "base_uri": "https://localhost:8080/"
        }
      },
      "id": "iLhDwesKZ_T7",
      "execution_count": null,
      "outputs": [
        {
          "output_type": "stream",
          "name": "stdout",
          "text": [
            "Mounted at /content/drive\n"
          ]
        }
      ]
    },
    {
      "cell_type": "code",
      "execution_count": null,
      "id": "e79636ca-732e-43fa-8412-9f76656b0b5d",
      "metadata": {
        "id": "e79636ca-732e-43fa-8412-9f76656b0b5d",
        "outputId": "07df75cb-966f-4c44-e442-3fcccd5ca4b6",
        "colab": {
          "base_uri": "https://localhost:8080/"
        }
      },
      "outputs": [
        {
          "output_type": "stream",
          "name": "stdout",
          "text": [
            "Collecting ultralytics\n",
            "  Downloading ultralytics-8.3.162-py3-none-any.whl.metadata (37 kB)\n",
            "Requirement already satisfied: numpy>=1.23.0 in /usr/local/lib/python3.11/dist-packages (from ultralytics) (2.0.2)\n",
            "Requirement already satisfied: matplotlib>=3.3.0 in /usr/local/lib/python3.11/dist-packages (from ultralytics) (3.10.0)\n",
            "Requirement already satisfied: opencv-python>=4.6.0 in /usr/local/lib/python3.11/dist-packages (from ultralytics) (4.11.0.86)\n",
            "Requirement already satisfied: pillow>=7.1.2 in /usr/local/lib/python3.11/dist-packages (from ultralytics) (11.2.1)\n",
            "Requirement already satisfied: pyyaml>=5.3.1 in /usr/local/lib/python3.11/dist-packages (from ultralytics) (6.0.2)\n",
            "Requirement already satisfied: requests>=2.23.0 in /usr/local/lib/python3.11/dist-packages (from ultralytics) (2.32.3)\n",
            "Requirement already satisfied: scipy>=1.4.1 in /usr/local/lib/python3.11/dist-packages (from ultralytics) (1.15.3)\n",
            "Requirement already satisfied: torch>=1.8.0 in /usr/local/lib/python3.11/dist-packages (from ultralytics) (2.6.0+cu124)\n",
            "Requirement already satisfied: torchvision>=0.9.0 in /usr/local/lib/python3.11/dist-packages (from ultralytics) (0.21.0+cu124)\n",
            "Requirement already satisfied: tqdm>=4.64.0 in /usr/local/lib/python3.11/dist-packages (from ultralytics) (4.67.1)\n",
            "Requirement already satisfied: psutil in /usr/local/lib/python3.11/dist-packages (from ultralytics) (5.9.5)\n",
            "Requirement already satisfied: py-cpuinfo in /usr/local/lib/python3.11/dist-packages (from ultralytics) (9.0.0)\n",
            "Requirement already satisfied: pandas>=1.1.4 in /usr/local/lib/python3.11/dist-packages (from ultralytics) (2.2.2)\n",
            "Collecting ultralytics-thop>=2.0.0 (from ultralytics)\n",
            "  Downloading ultralytics_thop-2.0.14-py3-none-any.whl.metadata (9.4 kB)\n",
            "Requirement already satisfied: contourpy>=1.0.1 in /usr/local/lib/python3.11/dist-packages (from matplotlib>=3.3.0->ultralytics) (1.3.2)\n",
            "Requirement already satisfied: cycler>=0.10 in /usr/local/lib/python3.11/dist-packages (from matplotlib>=3.3.0->ultralytics) (0.12.1)\n",
            "Requirement already satisfied: fonttools>=4.22.0 in /usr/local/lib/python3.11/dist-packages (from matplotlib>=3.3.0->ultralytics) (4.58.4)\n",
            "Requirement already satisfied: kiwisolver>=1.3.1 in /usr/local/lib/python3.11/dist-packages (from matplotlib>=3.3.0->ultralytics) (1.4.8)\n",
            "Requirement already satisfied: packaging>=20.0 in /usr/local/lib/python3.11/dist-packages (from matplotlib>=3.3.0->ultralytics) (24.2)\n",
            "Requirement already satisfied: pyparsing>=2.3.1 in /usr/local/lib/python3.11/dist-packages (from matplotlib>=3.3.0->ultralytics) (3.2.3)\n",
            "Requirement already satisfied: python-dateutil>=2.7 in /usr/local/lib/python3.11/dist-packages (from matplotlib>=3.3.0->ultralytics) (2.9.0.post0)\n",
            "Requirement already satisfied: pytz>=2020.1 in /usr/local/lib/python3.11/dist-packages (from pandas>=1.1.4->ultralytics) (2025.2)\n",
            "Requirement already satisfied: tzdata>=2022.7 in /usr/local/lib/python3.11/dist-packages (from pandas>=1.1.4->ultralytics) (2025.2)\n",
            "Requirement already satisfied: charset-normalizer<4,>=2 in /usr/local/lib/python3.11/dist-packages (from requests>=2.23.0->ultralytics) (3.4.2)\n",
            "Requirement already satisfied: idna<4,>=2.5 in /usr/local/lib/python3.11/dist-packages (from requests>=2.23.0->ultralytics) (3.10)\n",
            "Requirement already satisfied: urllib3<3,>=1.21.1 in /usr/local/lib/python3.11/dist-packages (from requests>=2.23.0->ultralytics) (2.4.0)\n",
            "Requirement already satisfied: certifi>=2017.4.17 in /usr/local/lib/python3.11/dist-packages (from requests>=2.23.0->ultralytics) (2025.6.15)\n",
            "Requirement already satisfied: filelock in /usr/local/lib/python3.11/dist-packages (from torch>=1.8.0->ultralytics) (3.18.0)\n",
            "Requirement already satisfied: typing-extensions>=4.10.0 in /usr/local/lib/python3.11/dist-packages (from torch>=1.8.0->ultralytics) (4.14.0)\n",
            "Requirement already satisfied: networkx in /usr/local/lib/python3.11/dist-packages (from torch>=1.8.0->ultralytics) (3.5)\n",
            "Requirement already satisfied: jinja2 in /usr/local/lib/python3.11/dist-packages (from torch>=1.8.0->ultralytics) (3.1.6)\n",
            "Requirement already satisfied: fsspec in /usr/local/lib/python3.11/dist-packages (from torch>=1.8.0->ultralytics) (2025.3.2)\n",
            "Collecting nvidia-cuda-nvrtc-cu12==12.4.127 (from torch>=1.8.0->ultralytics)\n",
            "  Downloading nvidia_cuda_nvrtc_cu12-12.4.127-py3-none-manylinux2014_x86_64.whl.metadata (1.5 kB)\n",
            "Collecting nvidia-cuda-runtime-cu12==12.4.127 (from torch>=1.8.0->ultralytics)\n",
            "  Downloading nvidia_cuda_runtime_cu12-12.4.127-py3-none-manylinux2014_x86_64.whl.metadata (1.5 kB)\n",
            "Collecting nvidia-cuda-cupti-cu12==12.4.127 (from torch>=1.8.0->ultralytics)\n",
            "  Downloading nvidia_cuda_cupti_cu12-12.4.127-py3-none-manylinux2014_x86_64.whl.metadata (1.6 kB)\n",
            "Collecting nvidia-cudnn-cu12==9.1.0.70 (from torch>=1.8.0->ultralytics)\n",
            "  Downloading nvidia_cudnn_cu12-9.1.0.70-py3-none-manylinux2014_x86_64.whl.metadata (1.6 kB)\n",
            "Collecting nvidia-cublas-cu12==12.4.5.8 (from torch>=1.8.0->ultralytics)\n",
            "  Downloading nvidia_cublas_cu12-12.4.5.8-py3-none-manylinux2014_x86_64.whl.metadata (1.5 kB)\n",
            "Collecting nvidia-cufft-cu12==11.2.1.3 (from torch>=1.8.0->ultralytics)\n",
            "  Downloading nvidia_cufft_cu12-11.2.1.3-py3-none-manylinux2014_x86_64.whl.metadata (1.5 kB)\n",
            "Collecting nvidia-curand-cu12==10.3.5.147 (from torch>=1.8.0->ultralytics)\n",
            "  Downloading nvidia_curand_cu12-10.3.5.147-py3-none-manylinux2014_x86_64.whl.metadata (1.5 kB)\n",
            "Collecting nvidia-cusolver-cu12==11.6.1.9 (from torch>=1.8.0->ultralytics)\n",
            "  Downloading nvidia_cusolver_cu12-11.6.1.9-py3-none-manylinux2014_x86_64.whl.metadata (1.6 kB)\n",
            "Collecting nvidia-cusparse-cu12==12.3.1.170 (from torch>=1.8.0->ultralytics)\n",
            "  Downloading nvidia_cusparse_cu12-12.3.1.170-py3-none-manylinux2014_x86_64.whl.metadata (1.6 kB)\n",
            "Requirement already satisfied: nvidia-cusparselt-cu12==0.6.2 in /usr/local/lib/python3.11/dist-packages (from torch>=1.8.0->ultralytics) (0.6.2)\n",
            "Requirement already satisfied: nvidia-nccl-cu12==2.21.5 in /usr/local/lib/python3.11/dist-packages (from torch>=1.8.0->ultralytics) (2.21.5)\n",
            "Requirement already satisfied: nvidia-nvtx-cu12==12.4.127 in /usr/local/lib/python3.11/dist-packages (from torch>=1.8.0->ultralytics) (12.4.127)\n",
            "Collecting nvidia-nvjitlink-cu12==12.4.127 (from torch>=1.8.0->ultralytics)\n",
            "  Downloading nvidia_nvjitlink_cu12-12.4.127-py3-none-manylinux2014_x86_64.whl.metadata (1.5 kB)\n",
            "Requirement already satisfied: triton==3.2.0 in /usr/local/lib/python3.11/dist-packages (from torch>=1.8.0->ultralytics) (3.2.0)\n",
            "Requirement already satisfied: sympy==1.13.1 in /usr/local/lib/python3.11/dist-packages (from torch>=1.8.0->ultralytics) (1.13.1)\n",
            "Requirement already satisfied: mpmath<1.4,>=1.1.0 in /usr/local/lib/python3.11/dist-packages (from sympy==1.13.1->torch>=1.8.0->ultralytics) (1.3.0)\n",
            "Requirement already satisfied: six>=1.5 in /usr/local/lib/python3.11/dist-packages (from python-dateutil>=2.7->matplotlib>=3.3.0->ultralytics) (1.17.0)\n",
            "Requirement already satisfied: MarkupSafe>=2.0 in /usr/local/lib/python3.11/dist-packages (from jinja2->torch>=1.8.0->ultralytics) (3.0.2)\n",
            "Downloading ultralytics-8.3.162-py3-none-any.whl (1.0 MB)\n",
            "\u001b[2K   \u001b[90m━━━━━━━━━━━━━━━━━━━━━━━━━━━━━━━━━━━━━━━━\u001b[0m \u001b[32m1.0/1.0 MB\u001b[0m \u001b[31m33.9 MB/s\u001b[0m eta \u001b[36m0:00:00\u001b[0m\n",
            "\u001b[?25hDownloading nvidia_cublas_cu12-12.4.5.8-py3-none-manylinux2014_x86_64.whl (363.4 MB)\n",
            "\u001b[2K   \u001b[90m━━━━━━━━━━━━━━━━━━━━━━━━━━━━━━━━━━━━━━━━\u001b[0m \u001b[32m363.4/363.4 MB\u001b[0m \u001b[31m4.6 MB/s\u001b[0m eta \u001b[36m0:00:00\u001b[0m\n",
            "\u001b[?25hDownloading nvidia_cuda_cupti_cu12-12.4.127-py3-none-manylinux2014_x86_64.whl (13.8 MB)\n",
            "\u001b[2K   \u001b[90m━━━━━━━━━━━━━━━━━━━━━━━━━━━━━━━━━━━━━━━━\u001b[0m \u001b[32m13.8/13.8 MB\u001b[0m \u001b[31m100.7 MB/s\u001b[0m eta \u001b[36m0:00:00\u001b[0m\n",
            "\u001b[?25hDownloading nvidia_cuda_nvrtc_cu12-12.4.127-py3-none-manylinux2014_x86_64.whl (24.6 MB)\n",
            "\u001b[2K   \u001b[90m━━━━━━━━━━━━━━━━━━━━━━━━━━━━━━━━━━━━━━━━\u001b[0m \u001b[32m24.6/24.6 MB\u001b[0m \u001b[31m85.8 MB/s\u001b[0m eta \u001b[36m0:00:00\u001b[0m\n",
            "\u001b[?25hDownloading nvidia_cuda_runtime_cu12-12.4.127-py3-none-manylinux2014_x86_64.whl (883 kB)\n",
            "\u001b[2K   \u001b[90m━━━━━━━━━━━━━━━━━━━━━━━━━━━━━━━━━━━━━━━━\u001b[0m \u001b[32m883.7/883.7 kB\u001b[0m \u001b[31m40.0 MB/s\u001b[0m eta \u001b[36m0:00:00\u001b[0m\n",
            "\u001b[?25hDownloading nvidia_cudnn_cu12-9.1.0.70-py3-none-manylinux2014_x86_64.whl (664.8 MB)\n",
            "\u001b[2K   \u001b[90m━━━━━━━━━━━━━━━━━━━━━━━━━━━━━━━━━━━━━━━━\u001b[0m \u001b[32m664.8/664.8 MB\u001b[0m \u001b[31m2.8 MB/s\u001b[0m eta \u001b[36m0:00:00\u001b[0m\n",
            "\u001b[?25hDownloading nvidia_cufft_cu12-11.2.1.3-py3-none-manylinux2014_x86_64.whl (211.5 MB)\n",
            "\u001b[2K   \u001b[90m━━━━━━━━━━━━━━━━━━━━━━━━━━━━━━━━━━━━━━━━\u001b[0m \u001b[32m211.5/211.5 MB\u001b[0m \u001b[31m5.6 MB/s\u001b[0m eta \u001b[36m0:00:00\u001b[0m\n",
            "\u001b[?25hDownloading nvidia_curand_cu12-10.3.5.147-py3-none-manylinux2014_x86_64.whl (56.3 MB)\n",
            "\u001b[2K   \u001b[90m━━━━━━━━━━━━━━━━━━━━━━━━━━━━━━━━━━━━━━━━\u001b[0m \u001b[32m56.3/56.3 MB\u001b[0m \u001b[31m12.2 MB/s\u001b[0m eta \u001b[36m0:00:00\u001b[0m\n",
            "\u001b[?25hDownloading nvidia_cusolver_cu12-11.6.1.9-py3-none-manylinux2014_x86_64.whl (127.9 MB)\n",
            "\u001b[2K   \u001b[90m━━━━━━━━━━━━━━━━━━━━━━━━━━━━━━━━━━━━━━━━\u001b[0m \u001b[32m127.9/127.9 MB\u001b[0m \u001b[31m7.5 MB/s\u001b[0m eta \u001b[36m0:00:00\u001b[0m\n",
            "\u001b[?25hDownloading nvidia_cusparse_cu12-12.3.1.170-py3-none-manylinux2014_x86_64.whl (207.5 MB)\n",
            "\u001b[2K   \u001b[90m━━━━━━━━━━━━━━━━━━━━━━━━━━━━━━━━━━━━━━━━\u001b[0m \u001b[32m207.5/207.5 MB\u001b[0m \u001b[31m5.7 MB/s\u001b[0m eta \u001b[36m0:00:00\u001b[0m\n",
            "\u001b[?25hDownloading nvidia_nvjitlink_cu12-12.4.127-py3-none-manylinux2014_x86_64.whl (21.1 MB)\n",
            "\u001b[2K   \u001b[90m━━━━━━━━━━━━━━━━━━━━━━━━━━━━━━━━━━━━━━━━\u001b[0m \u001b[32m21.1/21.1 MB\u001b[0m \u001b[31m67.1 MB/s\u001b[0m eta \u001b[36m0:00:00\u001b[0m\n",
            "\u001b[?25hDownloading ultralytics_thop-2.0.14-py3-none-any.whl (26 kB)\n",
            "Installing collected packages: nvidia-nvjitlink-cu12, nvidia-curand-cu12, nvidia-cufft-cu12, nvidia-cuda-runtime-cu12, nvidia-cuda-nvrtc-cu12, nvidia-cuda-cupti-cu12, nvidia-cublas-cu12, nvidia-cusparse-cu12, nvidia-cudnn-cu12, nvidia-cusolver-cu12, ultralytics-thop, ultralytics\n",
            "  Attempting uninstall: nvidia-nvjitlink-cu12\n",
            "    Found existing installation: nvidia-nvjitlink-cu12 12.5.82\n",
            "    Uninstalling nvidia-nvjitlink-cu12-12.5.82:\n",
            "      Successfully uninstalled nvidia-nvjitlink-cu12-12.5.82\n",
            "  Attempting uninstall: nvidia-curand-cu12\n",
            "    Found existing installation: nvidia-curand-cu12 10.3.6.82\n",
            "    Uninstalling nvidia-curand-cu12-10.3.6.82:\n",
            "      Successfully uninstalled nvidia-curand-cu12-10.3.6.82\n",
            "  Attempting uninstall: nvidia-cufft-cu12\n",
            "    Found existing installation: nvidia-cufft-cu12 11.2.3.61\n",
            "    Uninstalling nvidia-cufft-cu12-11.2.3.61:\n",
            "      Successfully uninstalled nvidia-cufft-cu12-11.2.3.61\n",
            "  Attempting uninstall: nvidia-cuda-runtime-cu12\n",
            "    Found existing installation: nvidia-cuda-runtime-cu12 12.5.82\n",
            "    Uninstalling nvidia-cuda-runtime-cu12-12.5.82:\n",
            "      Successfully uninstalled nvidia-cuda-runtime-cu12-12.5.82\n",
            "  Attempting uninstall: nvidia-cuda-nvrtc-cu12\n",
            "    Found existing installation: nvidia-cuda-nvrtc-cu12 12.5.82\n",
            "    Uninstalling nvidia-cuda-nvrtc-cu12-12.5.82:\n",
            "      Successfully uninstalled nvidia-cuda-nvrtc-cu12-12.5.82\n",
            "  Attempting uninstall: nvidia-cuda-cupti-cu12\n",
            "    Found existing installation: nvidia-cuda-cupti-cu12 12.5.82\n",
            "    Uninstalling nvidia-cuda-cupti-cu12-12.5.82:\n",
            "      Successfully uninstalled nvidia-cuda-cupti-cu12-12.5.82\n",
            "  Attempting uninstall: nvidia-cublas-cu12\n",
            "    Found existing installation: nvidia-cublas-cu12 12.5.3.2\n",
            "    Uninstalling nvidia-cublas-cu12-12.5.3.2:\n",
            "      Successfully uninstalled nvidia-cublas-cu12-12.5.3.2\n",
            "  Attempting uninstall: nvidia-cusparse-cu12\n",
            "    Found existing installation: nvidia-cusparse-cu12 12.5.1.3\n",
            "    Uninstalling nvidia-cusparse-cu12-12.5.1.3:\n",
            "      Successfully uninstalled nvidia-cusparse-cu12-12.5.1.3\n",
            "  Attempting uninstall: nvidia-cudnn-cu12\n",
            "    Found existing installation: nvidia-cudnn-cu12 9.3.0.75\n",
            "    Uninstalling nvidia-cudnn-cu12-9.3.0.75:\n",
            "      Successfully uninstalled nvidia-cudnn-cu12-9.3.0.75\n",
            "  Attempting uninstall: nvidia-cusolver-cu12\n",
            "    Found existing installation: nvidia-cusolver-cu12 11.6.3.83\n",
            "    Uninstalling nvidia-cusolver-cu12-11.6.3.83:\n",
            "      Successfully uninstalled nvidia-cusolver-cu12-11.6.3.83\n",
            "Successfully installed nvidia-cublas-cu12-12.4.5.8 nvidia-cuda-cupti-cu12-12.4.127 nvidia-cuda-nvrtc-cu12-12.4.127 nvidia-cuda-runtime-cu12-12.4.127 nvidia-cudnn-cu12-9.1.0.70 nvidia-cufft-cu12-11.2.1.3 nvidia-curand-cu12-10.3.5.147 nvidia-cusolver-cu12-11.6.1.9 nvidia-cusparse-cu12-12.3.1.170 nvidia-nvjitlink-cu12-12.4.127 ultralytics-8.3.162 ultralytics-thop-2.0.14\n"
          ]
        }
      ],
      "source": [
        "# Step 2 : Install Ultralytics\n",
        "!pip install -U ultralytics"
      ]
    },
    {
      "cell_type": "code",
      "source": [
        "# Step 3 : Training model YOLO\n",
        "\n",
        "from ultralytics import YOLO\n",
        "\n",
        "# Load model YOLO\n",
        "model = YOLO('/content/drive/MyDrive/GeoAI/model/yolo11m.pt')\n",
        "\n",
        "# Mulai training\n",
        "model.train(\n",
        "    data='/content/drive/MyDrive/GeoAI/data.yaml',\n",
        "    epochs=50,\n",
        "    imgsz=640,\n",
        "    batch=8,\n",
        "    project='/content/drive/MyDrive/GeoAI/hasil_training_model',\n",
        "    name='yolov11x_deteksi_sawit',\n",
        "    optimizer='SGD',\n",
        "    device=0,\n",
        "    patience=20,\n",
        ")"
      ],
      "metadata": {
        "id": "SNd3pz67Uu2K",
        "outputId": "f076c675-2ff5-485c-d4ff-82189b3e9700",
        "colab": {
          "base_uri": "https://localhost:8080/"
        }
      },
      "id": "SNd3pz67Uu2K",
      "execution_count": null,
      "outputs": [
        {
          "output_type": "stream",
          "name": "stdout",
          "text": [
            "Creating new Ultralytics Settings v0.0.6 file ✅ \n",
            "View Ultralytics Settings with 'yolo settings' or at '/root/.config/Ultralytics/settings.json'\n",
            "Update Settings with 'yolo settings key=value', i.e. 'yolo settings runs_dir=path/to/dir'. For help see https://docs.ultralytics.com/quickstart/#ultralytics-settings.\n",
            "Ultralytics 8.3.162 🚀 Python-3.11.13 torch-2.6.0+cu124 CUDA:0 (Tesla T4, 15095MiB)\n",
            "\u001b[34m\u001b[1mengine/trainer: \u001b[0magnostic_nms=False, amp=True, augment=False, auto_augment=randaugment, batch=8, bgr=0.0, box=7.5, cache=False, cfg=None, classes=None, close_mosaic=10, cls=0.5, conf=None, copy_paste=0.0, copy_paste_mode=flip, cos_lr=False, cutmix=0.0, data=/content/drive/MyDrive/GeoAI/data.yaml, degrees=0.0, deterministic=True, device=0, dfl=1.5, dnn=False, dropout=0.0, dynamic=False, embed=None, epochs=50, erasing=0.4, exist_ok=False, fliplr=0.5, flipud=0.0, format=torchscript, fraction=1.0, freeze=None, half=False, hsv_h=0.015, hsv_s=0.7, hsv_v=0.4, imgsz=640, int8=False, iou=0.7, keras=False, kobj=1.0, line_width=None, lr0=0.01, lrf=0.01, mask_ratio=4, max_det=300, mixup=0.0, mode=train, model=/content/drive/MyDrive/GeoAI/model/yolo11m.pt, momentum=0.937, mosaic=1.0, multi_scale=False, name=yolov11x_deteksi_sawit, nbs=64, nms=False, opset=None, optimize=False, optimizer=SGD, overlap_mask=True, patience=20, perspective=0.0, plots=True, pose=12.0, pretrained=True, profile=False, project=/content/drive/MyDrive/GeoAI/hasil_training_model, rect=False, resume=False, retina_masks=False, save=True, save_conf=False, save_crop=False, save_dir=/content/drive/MyDrive/GeoAI/hasil_training_model/yolov11x_deteksi_sawit, save_frames=False, save_json=False, save_period=-1, save_txt=False, scale=0.5, seed=0, shear=0.0, show=False, show_boxes=True, show_conf=True, show_labels=True, simplify=True, single_cls=False, source=None, split=val, stream_buffer=False, task=detect, time=None, tracker=botsort.yaml, translate=0.1, val=True, verbose=True, vid_stride=1, visualize=False, warmup_bias_lr=0.1, warmup_epochs=3.0, warmup_momentum=0.8, weight_decay=0.0005, workers=8, workspace=None\n",
            "Downloading https://ultralytics.com/assets/Arial.ttf to '/root/.config/Ultralytics/Arial.ttf'...\n"
          ]
        },
        {
          "output_type": "stream",
          "name": "stderr",
          "text": [
            "100%|██████████| 755k/755k [00:00<00:00, 27.8MB/s]"
          ]
        },
        {
          "output_type": "stream",
          "name": "stdout",
          "text": [
            "Overriding model.yaml nc=80 with nc=1\n",
            "\n",
            "                   from  n    params  module                                       arguments                     \n",
            "  0                  -1  1      1856  ultralytics.nn.modules.conv.Conv             [3, 64, 3, 2]                 \n",
            "  1                  -1  1     73984  ultralytics.nn.modules.conv.Conv             [64, 128, 3, 2]               \n",
            "  2                  -1  1    111872  ultralytics.nn.modules.block.C3k2            [128, 256, 1, True, 0.25]     \n",
            "  3                  -1  1    590336  ultralytics.nn.modules.conv.Conv             [256, 256, 3, 2]              \n",
            "  4                  -1  1    444928  ultralytics.nn.modules.block.C3k2            [256, 512, 1, True, 0.25]     \n",
            "  5                  -1  1   2360320  ultralytics.nn.modules.conv.Conv             [512, 512, 3, 2]              \n",
            "  6                  -1  1   1380352  ultralytics.nn.modules.block.C3k2            [512, 512, 1, True]           \n",
            "  7                  -1  1   2360320  ultralytics.nn.modules.conv.Conv             [512, 512, 3, 2]              \n",
            "  8                  -1  1   1380352  ultralytics.nn.modules.block.C3k2            [512, 512, 1, True]           \n",
            "  9                  -1  1    656896  ultralytics.nn.modules.block.SPPF            [512, 512, 5]                 \n",
            " 10                  -1  1    990976  ultralytics.nn.modules.block.C2PSA           [512, 512, 1]                 \n",
            " 11                  -1  1         0  torch.nn.modules.upsampling.Upsample         [None, 2, 'nearest']          \n",
            " 12             [-1, 6]  1         0  ultralytics.nn.modules.conv.Concat           [1]                           \n"
          ]
        },
        {
          "output_type": "stream",
          "name": "stderr",
          "text": [
            "\n"
          ]
        },
        {
          "output_type": "stream",
          "name": "stdout",
          "text": [
            " 13                  -1  1   1642496  ultralytics.nn.modules.block.C3k2            [1024, 512, 1, True]          \n",
            " 14                  -1  1         0  torch.nn.modules.upsampling.Upsample         [None, 2, 'nearest']          \n",
            " 15             [-1, 4]  1         0  ultralytics.nn.modules.conv.Concat           [1]                           \n",
            " 16                  -1  1    542720  ultralytics.nn.modules.block.C3k2            [1024, 256, 1, True]          \n",
            " 17                  -1  1    590336  ultralytics.nn.modules.conv.Conv             [256, 256, 3, 2]              \n",
            " 18            [-1, 13]  1         0  ultralytics.nn.modules.conv.Concat           [1]                           \n",
            " 19                  -1  1   1511424  ultralytics.nn.modules.block.C3k2            [768, 512, 1, True]           \n",
            " 20                  -1  1   2360320  ultralytics.nn.modules.conv.Conv             [512, 512, 3, 2]              \n",
            " 21            [-1, 10]  1         0  ultralytics.nn.modules.conv.Concat           [1]                           \n",
            " 22                  -1  1   1642496  ultralytics.nn.modules.block.C3k2            [1024, 512, 1, True]          \n",
            " 23        [16, 19, 22]  1   1411795  ultralytics.nn.modules.head.Detect           [1, [256, 512, 512]]          \n",
            "YOLO11m summary: 231 layers, 20,053,779 parameters, 20,053,763 gradients, 68.2 GFLOPs\n",
            "\n",
            "Transferred 643/649 items from pretrained weights\n",
            "Freezing layer 'model.23.dfl.conv.weight'\n",
            "\u001b[34m\u001b[1mAMP: \u001b[0mrunning Automatic Mixed Precision (AMP) checks...\n",
            "Downloading https://github.com/ultralytics/assets/releases/download/v8.3.0/yolo11n.pt to 'yolo11n.pt'...\n"
          ]
        },
        {
          "output_type": "stream",
          "name": "stderr",
          "text": [
            "100%|██████████| 5.35M/5.35M [00:00<00:00, 127MB/s]\n"
          ]
        },
        {
          "output_type": "stream",
          "name": "stdout",
          "text": [
            "\u001b[34m\u001b[1mAMP: \u001b[0mchecks passed ✅\n",
            "\u001b[34m\u001b[1mtrain: \u001b[0mFast image access ✅ (ping: 0.4±0.1 ms, read: 0.5±0.1 MB/s, size: 180.0 KB)\n"
          ]
        },
        {
          "output_type": "stream",
          "name": "stderr",
          "text": [
            "\u001b[34m\u001b[1mtrain: \u001b[0mScanning /content/drive/MyDrive/GeoAI/hasil_augmented/train/labels... 1047 images, 192 backgrounds, 0 corrupt: 100%|██████████| 1047/1047 [04:51<00:00,  3.60it/s]\n"
          ]
        },
        {
          "output_type": "stream",
          "name": "stdout",
          "text": [
            "\u001b[34m\u001b[1mtrain: \u001b[0mNew cache created: /content/drive/MyDrive/GeoAI/hasil_augmented/train/labels.cache\n",
            "\u001b[34m\u001b[1malbumentations: \u001b[0mBlur(p=0.01, blur_limit=(3, 7)), MedianBlur(p=0.01, blur_limit=(3, 7)), ToGray(p=0.01, method='weighted_average', num_output_channels=3), CLAHE(p=0.01, clip_limit=(1.0, 4.0), tile_grid_size=(8, 8))\n",
            "\u001b[34m\u001b[1mval: \u001b[0mFast image access ✅ (ping: 17.5±36.8 ms, read: 0.5±0.2 MB/s, size: 168.8 KB)\n"
          ]
        },
        {
          "output_type": "stream",
          "name": "stderr",
          "text": [
            "\u001b[34m\u001b[1mval: \u001b[0mScanning /content/drive/MyDrive/GeoAI/hasil_augmented/val/labels... 262 images, 46 backgrounds, 0 corrupt: 100%|██████████| 262/262 [01:11<00:00,  3.69it/s]"
          ]
        },
        {
          "output_type": "stream",
          "name": "stdout",
          "text": [
            "\u001b[34m\u001b[1mval: \u001b[0mNew cache created: /content/drive/MyDrive/GeoAI/hasil_augmented/val/labels.cache\n"
          ]
        },
        {
          "output_type": "stream",
          "name": "stderr",
          "text": [
            "\n"
          ]
        },
        {
          "output_type": "stream",
          "name": "stdout",
          "text": [
            "Plotting labels to /content/drive/MyDrive/GeoAI/hasil_training_model/yolov11x_deteksi_sawit/labels.jpg... \n",
            "\u001b[34m\u001b[1moptimizer:\u001b[0m SGD(lr=0.01, momentum=0.937) with parameter groups 106 weight(decay=0.0), 113 weight(decay=0.0005), 112 bias(decay=0.0)\n",
            "Image sizes 640 train, 640 val\n",
            "Using 2 dataloader workers\n",
            "Logging results to \u001b[1m/content/drive/MyDrive/GeoAI/hasil_training_model/yolov11x_deteksi_sawit\u001b[0m\n",
            "Starting training for 50 epochs...\n",
            "\n",
            "      Epoch    GPU_mem   box_loss   cls_loss   dfl_loss  Instances       Size\n"
          ]
        },
        {
          "output_type": "stream",
          "name": "stderr",
          "text": [
            "       1/50      4.21G      1.616      1.631      1.803        144        640: 100%|██████████| 131/131 [00:45<00:00,  2.88it/s]\n",
            "                 Class     Images  Instances      Box(P          R      mAP50  mAP50-95): 100%|██████████| 17/17 [00:08<00:00,  1.98it/s]"
          ]
        },
        {
          "output_type": "stream",
          "name": "stdout",
          "text": [
            "                   all        262       3112      0.862      0.908      0.951      0.638\n"
          ]
        },
        {
          "output_type": "stream",
          "name": "stderr",
          "text": [
            "\n"
          ]
        },
        {
          "output_type": "stream",
          "name": "stdout",
          "text": [
            "\n",
            "      Epoch    GPU_mem   box_loss   cls_loss   dfl_loss  Instances       Size\n"
          ]
        },
        {
          "output_type": "stream",
          "name": "stderr",
          "text": [
            "       2/50      5.01G      1.257     0.7522      1.284        155        640: 100%|██████████| 131/131 [00:42<00:00,  3.09it/s]\n",
            "                 Class     Images  Instances      Box(P          R      mAP50  mAP50-95): 100%|██████████| 17/17 [00:04<00:00,  3.96it/s]"
          ]
        },
        {
          "output_type": "stream",
          "name": "stdout",
          "text": [
            "                   all        262       3112      0.881      0.904      0.957      0.618\n"
          ]
        },
        {
          "output_type": "stream",
          "name": "stderr",
          "text": [
            "\n"
          ]
        },
        {
          "output_type": "stream",
          "name": "stdout",
          "text": [
            "\n",
            "      Epoch    GPU_mem   box_loss   cls_loss   dfl_loss  Instances       Size\n"
          ]
        },
        {
          "output_type": "stream",
          "name": "stderr",
          "text": [
            "       3/50      5.05G      1.268     0.7825      1.289        101        640: 100%|██████████| 131/131 [00:43<00:00,  3.02it/s]\n",
            "                 Class     Images  Instances      Box(P          R      mAP50  mAP50-95): 100%|██████████| 17/17 [00:04<00:00,  3.41it/s]"
          ]
        },
        {
          "output_type": "stream",
          "name": "stdout",
          "text": [
            "                   all        262       3112      0.874      0.919       0.96      0.619\n"
          ]
        },
        {
          "output_type": "stream",
          "name": "stderr",
          "text": [
            "\n"
          ]
        },
        {
          "output_type": "stream",
          "name": "stdout",
          "text": [
            "\n",
            "      Epoch    GPU_mem   box_loss   cls_loss   dfl_loss  Instances       Size\n"
          ]
        },
        {
          "output_type": "stream",
          "name": "stderr",
          "text": [
            "       4/50       5.1G       1.28     0.7168      1.296        111        640: 100%|██████████| 131/131 [00:43<00:00,  2.99it/s]\n",
            "                 Class     Images  Instances      Box(P          R      mAP50  mAP50-95): 100%|██████████| 17/17 [00:04<00:00,  4.05it/s]"
          ]
        },
        {
          "output_type": "stream",
          "name": "stdout",
          "text": [
            "                   all        262       3112      0.889      0.933      0.966      0.665\n"
          ]
        },
        {
          "output_type": "stream",
          "name": "stderr",
          "text": [
            "\n"
          ]
        },
        {
          "output_type": "stream",
          "name": "stdout",
          "text": [
            "\n",
            "      Epoch    GPU_mem   box_loss   cls_loss   dfl_loss  Instances       Size\n"
          ]
        },
        {
          "output_type": "stream",
          "name": "stderr",
          "text": [
            "       5/50      5.14G      1.208     0.6935      1.256        205        640: 100%|██████████| 131/131 [00:45<00:00,  2.91it/s]\n",
            "                 Class     Images  Instances      Box(P          R      mAP50  mAP50-95): 100%|██████████| 17/17 [00:04<00:00,  3.89it/s]"
          ]
        },
        {
          "output_type": "stream",
          "name": "stdout",
          "text": [
            "                   all        262       3112      0.901      0.931       0.97      0.677\n"
          ]
        },
        {
          "output_type": "stream",
          "name": "stderr",
          "text": [
            "\n"
          ]
        },
        {
          "output_type": "stream",
          "name": "stdout",
          "text": [
            "\n",
            "      Epoch    GPU_mem   box_loss   cls_loss   dfl_loss  Instances       Size\n"
          ]
        },
        {
          "output_type": "stream",
          "name": "stderr",
          "text": [
            "       6/50      5.18G      1.189     0.6591      1.256         84        640: 100%|██████████| 131/131 [00:45<00:00,  2.90it/s]\n",
            "                 Class     Images  Instances      Box(P          R      mAP50  mAP50-95): 100%|██████████| 17/17 [00:04<00:00,  3.43it/s]\n"
          ]
        },
        {
          "output_type": "stream",
          "name": "stdout",
          "text": [
            "                   all        262       3112      0.907      0.926      0.972      0.685\n",
            "\n",
            "      Epoch    GPU_mem   box_loss   cls_loss   dfl_loss  Instances       Size\n"
          ]
        },
        {
          "output_type": "stream",
          "name": "stderr",
          "text": [
            "       7/50      5.23G      1.179     0.6387      1.241        169        640: 100%|██████████| 131/131 [00:44<00:00,  2.92it/s]\n",
            "                 Class     Images  Instances      Box(P          R      mAP50  mAP50-95): 100%|██████████| 17/17 [00:04<00:00,  4.04it/s]"
          ]
        },
        {
          "output_type": "stream",
          "name": "stdout",
          "text": [
            "                   all        262       3112      0.907      0.924      0.972      0.677\n"
          ]
        },
        {
          "output_type": "stream",
          "name": "stderr",
          "text": [
            "\n"
          ]
        },
        {
          "output_type": "stream",
          "name": "stdout",
          "text": [
            "\n",
            "      Epoch    GPU_mem   box_loss   cls_loss   dfl_loss  Instances       Size\n"
          ]
        },
        {
          "output_type": "stream",
          "name": "stderr",
          "text": [
            "       8/50      5.27G      1.169     0.6203      1.245        127        640: 100%|██████████| 131/131 [00:43<00:00,  3.04it/s]\n",
            "                 Class     Images  Instances      Box(P          R      mAP50  mAP50-95): 100%|██████████| 17/17 [00:05<00:00,  3.31it/s]"
          ]
        },
        {
          "output_type": "stream",
          "name": "stdout",
          "text": [
            "                   all        262       3112      0.899      0.938       0.97      0.691\n"
          ]
        },
        {
          "output_type": "stream",
          "name": "stderr",
          "text": [
            "\n"
          ]
        },
        {
          "output_type": "stream",
          "name": "stdout",
          "text": [
            "\n",
            "      Epoch    GPU_mem   box_loss   cls_loss   dfl_loss  Instances       Size\n"
          ]
        },
        {
          "output_type": "stream",
          "name": "stderr",
          "text": [
            "       9/50      5.32G      1.138       0.61      1.218         57        640: 100%|██████████| 131/131 [00:45<00:00,  2.88it/s]\n",
            "                 Class     Images  Instances      Box(P          R      mAP50  mAP50-95): 100%|██████████| 17/17 [00:04<00:00,  4.03it/s]"
          ]
        },
        {
          "output_type": "stream",
          "name": "stdout",
          "text": [
            "                   all        262       3112      0.896      0.944      0.973      0.689\n"
          ]
        },
        {
          "output_type": "stream",
          "name": "stderr",
          "text": [
            "\n"
          ]
        },
        {
          "output_type": "stream",
          "name": "stdout",
          "text": [
            "\n",
            "      Epoch    GPU_mem   box_loss   cls_loss   dfl_loss  Instances       Size\n"
          ]
        },
        {
          "output_type": "stream",
          "name": "stderr",
          "text": [
            "      10/50      5.63G      1.131     0.5967      1.223         91        640: 100%|██████████| 131/131 [00:42<00:00,  3.05it/s]\n",
            "                 Class     Images  Instances      Box(P          R      mAP50  mAP50-95): 100%|██████████| 17/17 [00:04<00:00,  3.52it/s]"
          ]
        },
        {
          "output_type": "stream",
          "name": "stdout",
          "text": [
            "                   all        262       3112      0.908       0.94      0.975      0.709\n"
          ]
        },
        {
          "output_type": "stream",
          "name": "stderr",
          "text": [
            "\n"
          ]
        },
        {
          "output_type": "stream",
          "name": "stdout",
          "text": [
            "\n",
            "      Epoch    GPU_mem   box_loss   cls_loss   dfl_loss  Instances       Size\n"
          ]
        },
        {
          "output_type": "stream",
          "name": "stderr",
          "text": [
            "      11/50      5.68G      1.112     0.5792        1.2        161        640: 100%|██████████| 131/131 [00:45<00:00,  2.89it/s]\n",
            "                 Class     Images  Instances      Box(P          R      mAP50  mAP50-95): 100%|██████████| 17/17 [00:04<00:00,  3.72it/s]"
          ]
        },
        {
          "output_type": "stream",
          "name": "stdout",
          "text": [
            "                   all        262       3112      0.914      0.942      0.976      0.709\n"
          ]
        },
        {
          "output_type": "stream",
          "name": "stderr",
          "text": [
            "\n"
          ]
        },
        {
          "output_type": "stream",
          "name": "stdout",
          "text": [
            "\n",
            "      Epoch    GPU_mem   box_loss   cls_loss   dfl_loss  Instances       Size\n"
          ]
        },
        {
          "output_type": "stream",
          "name": "stderr",
          "text": [
            "      12/50      5.72G      1.102     0.5798      1.193         93        640: 100%|██████████| 131/131 [00:43<00:00,  3.05it/s]\n",
            "                 Class     Images  Instances      Box(P          R      mAP50  mAP50-95): 100%|██████████| 17/17 [00:04<00:00,  3.97it/s]"
          ]
        },
        {
          "output_type": "stream",
          "name": "stdout",
          "text": [
            "                   all        262       3112      0.901      0.949      0.973      0.717\n"
          ]
        },
        {
          "output_type": "stream",
          "name": "stderr",
          "text": [
            "\n"
          ]
        },
        {
          "output_type": "stream",
          "name": "stdout",
          "text": [
            "\n",
            "      Epoch    GPU_mem   box_loss   cls_loss   dfl_loss  Instances       Size\n"
          ]
        },
        {
          "output_type": "stream",
          "name": "stderr",
          "text": [
            "      13/50      5.77G      1.082     0.5632      1.185         96        640: 100%|██████████| 131/131 [00:44<00:00,  2.91it/s]\n",
            "                 Class     Images  Instances      Box(P          R      mAP50  mAP50-95): 100%|██████████| 17/17 [00:04<00:00,  3.57it/s]\n"
          ]
        },
        {
          "output_type": "stream",
          "name": "stdout",
          "text": [
            "                   all        262       3112      0.915      0.934      0.976      0.708\n",
            "\n",
            "      Epoch    GPU_mem   box_loss   cls_loss   dfl_loss  Instances       Size\n"
          ]
        },
        {
          "output_type": "stream",
          "name": "stderr",
          "text": [
            "      14/50      5.81G      1.074     0.5547      1.184        126        640: 100%|██████████| 131/131 [00:42<00:00,  3.05it/s]\n",
            "                 Class     Images  Instances      Box(P          R      mAP50  mAP50-95): 100%|██████████| 17/17 [00:04<00:00,  4.02it/s]"
          ]
        },
        {
          "output_type": "stream",
          "name": "stdout",
          "text": [
            "                   all        262       3112      0.919      0.936      0.977       0.72\n"
          ]
        },
        {
          "output_type": "stream",
          "name": "stderr",
          "text": [
            "\n"
          ]
        },
        {
          "output_type": "stream",
          "name": "stdout",
          "text": [
            "\n",
            "      Epoch    GPU_mem   box_loss   cls_loss   dfl_loss  Instances       Size\n"
          ]
        },
        {
          "output_type": "stream",
          "name": "stderr",
          "text": [
            "      15/50      5.85G      1.061     0.5607      1.174        125        640: 100%|██████████| 131/131 [00:44<00:00,  2.94it/s]\n",
            "                 Class     Images  Instances      Box(P          R      mAP50  mAP50-95): 100%|██████████| 17/17 [00:05<00:00,  3.29it/s]"
          ]
        },
        {
          "output_type": "stream",
          "name": "stdout",
          "text": [
            "                   all        262       3112      0.916      0.948      0.975      0.715\n"
          ]
        },
        {
          "output_type": "stream",
          "name": "stderr",
          "text": [
            "\n"
          ]
        },
        {
          "output_type": "stream",
          "name": "stdout",
          "text": [
            "\n",
            "      Epoch    GPU_mem   box_loss   cls_loss   dfl_loss  Instances       Size\n"
          ]
        },
        {
          "output_type": "stream",
          "name": "stderr",
          "text": [
            "      16/50       5.9G      1.054     0.5436      1.167         88        640: 100%|██████████| 131/131 [00:42<00:00,  3.06it/s]\n",
            "                 Class     Images  Instances      Box(P          R      mAP50  mAP50-95): 100%|██████████| 17/17 [00:04<00:00,  4.08it/s]"
          ]
        },
        {
          "output_type": "stream",
          "name": "stdout",
          "text": [
            "                   all        262       3112      0.918       0.95      0.979      0.728\n"
          ]
        },
        {
          "output_type": "stream",
          "name": "stderr",
          "text": [
            "\n"
          ]
        },
        {
          "output_type": "stream",
          "name": "stdout",
          "text": [
            "\n",
            "      Epoch    GPU_mem   box_loss   cls_loss   dfl_loss  Instances       Size\n"
          ]
        },
        {
          "output_type": "stream",
          "name": "stderr",
          "text": [
            "      17/50      5.94G      1.034      0.526       1.16         68        640: 100%|██████████| 131/131 [00:44<00:00,  2.94it/s]\n",
            "                 Class     Images  Instances      Box(P          R      mAP50  mAP50-95): 100%|██████████| 17/17 [00:04<00:00,  3.42it/s]"
          ]
        },
        {
          "output_type": "stream",
          "name": "stdout",
          "text": [
            "                   all        262       3112      0.931      0.951      0.981       0.73\n"
          ]
        },
        {
          "output_type": "stream",
          "name": "stderr",
          "text": [
            "\n"
          ]
        },
        {
          "output_type": "stream",
          "name": "stdout",
          "text": [
            "\n",
            "      Epoch    GPU_mem   box_loss   cls_loss   dfl_loss  Instances       Size\n"
          ]
        },
        {
          "output_type": "stream",
          "name": "stderr",
          "text": [
            "      18/50      5.99G      1.037     0.5241      1.158        104        640: 100%|██████████| 131/131 [00:45<00:00,  2.89it/s]\n",
            "                 Class     Images  Instances      Box(P          R      mAP50  mAP50-95): 100%|██████████| 17/17 [00:04<00:00,  4.00it/s]"
          ]
        },
        {
          "output_type": "stream",
          "name": "stdout",
          "text": [
            "                   all        262       3112      0.916      0.952      0.979      0.731\n"
          ]
        },
        {
          "output_type": "stream",
          "name": "stderr",
          "text": [
            "\n"
          ]
        },
        {
          "output_type": "stream",
          "name": "stdout",
          "text": [
            "\n",
            "      Epoch    GPU_mem   box_loss   cls_loss   dfl_loss  Instances       Size\n"
          ]
        },
        {
          "output_type": "stream",
          "name": "stderr",
          "text": [
            "      19/50      6.03G      1.027     0.5258      1.163        164        640: 100%|██████████| 131/131 [00:44<00:00,  2.91it/s]\n",
            "                 Class     Images  Instances      Box(P          R      mAP50  mAP50-95): 100%|██████████| 17/17 [00:04<00:00,  3.69it/s]"
          ]
        },
        {
          "output_type": "stream",
          "name": "stdout",
          "text": [
            "                   all        262       3112      0.929       0.95      0.981      0.739\n"
          ]
        },
        {
          "output_type": "stream",
          "name": "stderr",
          "text": [
            "\n"
          ]
        },
        {
          "output_type": "stream",
          "name": "stdout",
          "text": [
            "\n",
            "      Epoch    GPU_mem   box_loss   cls_loss   dfl_loss  Instances       Size\n"
          ]
        },
        {
          "output_type": "stream",
          "name": "stderr",
          "text": [
            "      20/50      6.08G      1.012     0.5113      1.149        104        640: 100%|██████████| 131/131 [00:45<00:00,  2.89it/s]\n",
            "                 Class     Images  Instances      Box(P          R      mAP50  mAP50-95): 100%|██████████| 17/17 [00:04<00:00,  3.66it/s]\n"
          ]
        },
        {
          "output_type": "stream",
          "name": "stdout",
          "text": [
            "                   all        262       3112      0.922      0.956      0.981      0.735\n",
            "\n",
            "      Epoch    GPU_mem   box_loss   cls_loss   dfl_loss  Instances       Size\n"
          ]
        },
        {
          "output_type": "stream",
          "name": "stderr",
          "text": [
            "      21/50      6.12G     0.9957     0.5087      1.134        154        640: 100%|██████████| 131/131 [00:42<00:00,  3.07it/s]\n",
            "                 Class     Images  Instances      Box(P          R      mAP50  mAP50-95): 100%|██████████| 17/17 [00:04<00:00,  3.95it/s]"
          ]
        },
        {
          "output_type": "stream",
          "name": "stdout",
          "text": [
            "                   all        262       3112      0.923      0.953      0.978      0.735\n"
          ]
        },
        {
          "output_type": "stream",
          "name": "stderr",
          "text": [
            "\n"
          ]
        },
        {
          "output_type": "stream",
          "name": "stdout",
          "text": [
            "\n",
            "      Epoch    GPU_mem   box_loss   cls_loss   dfl_loss  Instances       Size\n"
          ]
        },
        {
          "output_type": "stream",
          "name": "stderr",
          "text": [
            "      22/50      6.17G      0.993     0.5058      1.133        174        640: 100%|██████████| 131/131 [00:43<00:00,  3.01it/s]\n",
            "                 Class     Images  Instances      Box(P          R      mAP50  mAP50-95): 100%|██████████| 17/17 [00:04<00:00,  3.93it/s]"
          ]
        },
        {
          "output_type": "stream",
          "name": "stdout",
          "text": [
            "                   all        262       3112      0.927      0.954      0.979      0.735\n"
          ]
        },
        {
          "output_type": "stream",
          "name": "stderr",
          "text": [
            "\n"
          ]
        },
        {
          "output_type": "stream",
          "name": "stdout",
          "text": [
            "\n",
            "      Epoch    GPU_mem   box_loss   cls_loss   dfl_loss  Instances       Size\n"
          ]
        },
        {
          "output_type": "stream",
          "name": "stderr",
          "text": [
            "      23/50      6.21G     0.9771     0.4933      1.125        100        640: 100%|██████████| 131/131 [00:42<00:00,  3.05it/s]\n",
            "                 Class     Images  Instances      Box(P          R      mAP50  mAP50-95): 100%|██████████| 17/17 [00:04<00:00,  3.82it/s]"
          ]
        },
        {
          "output_type": "stream",
          "name": "stdout",
          "text": [
            "                   all        262       3112      0.937       0.95      0.982      0.746\n"
          ]
        },
        {
          "output_type": "stream",
          "name": "stderr",
          "text": [
            "\n"
          ]
        },
        {
          "output_type": "stream",
          "name": "stdout",
          "text": [
            "\n",
            "      Epoch    GPU_mem   box_loss   cls_loss   dfl_loss  Instances       Size\n"
          ]
        },
        {
          "output_type": "stream",
          "name": "stderr",
          "text": [
            "      24/50      6.25G     0.9667     0.4863      1.115        101        640: 100%|██████████| 131/131 [00:45<00:00,  2.90it/s]\n",
            "                 Class     Images  Instances      Box(P          R      mAP50  mAP50-95): 100%|██████████| 17/17 [00:04<00:00,  3.59it/s]"
          ]
        },
        {
          "output_type": "stream",
          "name": "stdout",
          "text": [
            "                   all        262       3112      0.931      0.947      0.981      0.742\n"
          ]
        },
        {
          "output_type": "stream",
          "name": "stderr",
          "text": [
            "\n"
          ]
        },
        {
          "output_type": "stream",
          "name": "stdout",
          "text": [
            "\n",
            "      Epoch    GPU_mem   box_loss   cls_loss   dfl_loss  Instances       Size\n"
          ]
        },
        {
          "output_type": "stream",
          "name": "stderr",
          "text": [
            "      25/50       6.3G     0.9692     0.4843      1.128         71        640: 100%|██████████| 131/131 [00:42<00:00,  3.05it/s]\n",
            "                 Class     Images  Instances      Box(P          R      mAP50  mAP50-95): 100%|██████████| 17/17 [00:04<00:00,  4.11it/s]"
          ]
        },
        {
          "output_type": "stream",
          "name": "stdout",
          "text": [
            "                   all        262       3112      0.936      0.949      0.982      0.758\n"
          ]
        },
        {
          "output_type": "stream",
          "name": "stderr",
          "text": [
            "\n"
          ]
        },
        {
          "output_type": "stream",
          "name": "stdout",
          "text": [
            "\n",
            "      Epoch    GPU_mem   box_loss   cls_loss   dfl_loss  Instances       Size\n"
          ]
        },
        {
          "output_type": "stream",
          "name": "stderr",
          "text": [
            "      26/50      6.34G      0.963     0.4782      1.116        162        640: 100%|██████████| 131/131 [00:44<00:00,  2.94it/s]\n",
            "                 Class     Images  Instances      Box(P          R      mAP50  mAP50-95): 100%|██████████| 17/17 [00:04<00:00,  3.63it/s]"
          ]
        },
        {
          "output_type": "stream",
          "name": "stdout",
          "text": [
            "                   all        262       3112      0.928      0.961      0.982      0.748\n"
          ]
        },
        {
          "output_type": "stream",
          "name": "stderr",
          "text": [
            "\n"
          ]
        },
        {
          "output_type": "stream",
          "name": "stdout",
          "text": [
            "\n",
            "      Epoch    GPU_mem   box_loss   cls_loss   dfl_loss  Instances       Size\n"
          ]
        },
        {
          "output_type": "stream",
          "name": "stderr",
          "text": [
            "      27/50      6.39G     0.9494     0.4723      1.115         58        640: 100%|██████████| 131/131 [00:42<00:00,  3.05it/s]\n",
            "                 Class     Images  Instances      Box(P          R      mAP50  mAP50-95): 100%|██████████| 17/17 [00:04<00:00,  4.11it/s]"
          ]
        },
        {
          "output_type": "stream",
          "name": "stdout",
          "text": [
            "                   all        262       3112      0.941      0.948      0.983      0.757\n"
          ]
        },
        {
          "output_type": "stream",
          "name": "stderr",
          "text": [
            "\n"
          ]
        },
        {
          "output_type": "stream",
          "name": "stdout",
          "text": [
            "\n",
            "      Epoch    GPU_mem   box_loss   cls_loss   dfl_loss  Instances       Size\n"
          ]
        },
        {
          "output_type": "stream",
          "name": "stderr",
          "text": [
            "      28/50      6.43G     0.9387     0.4646      1.103        106        640: 100%|██████████| 131/131 [00:43<00:00,  3.04it/s]\n",
            "                 Class     Images  Instances      Box(P          R      mAP50  mAP50-95): 100%|██████████| 17/17 [00:04<00:00,  3.60it/s]"
          ]
        },
        {
          "output_type": "stream",
          "name": "stdout",
          "text": [
            "                   all        262       3112      0.932      0.958      0.981      0.762\n"
          ]
        },
        {
          "output_type": "stream",
          "name": "stderr",
          "text": [
            "\n"
          ]
        },
        {
          "output_type": "stream",
          "name": "stdout",
          "text": [
            "\n",
            "      Epoch    GPU_mem   box_loss   cls_loss   dfl_loss  Instances       Size\n"
          ]
        },
        {
          "output_type": "stream",
          "name": "stderr",
          "text": [
            "      29/50      6.48G     0.9246     0.4539      1.099        130        640: 100%|██████████| 131/131 [00:44<00:00,  2.96it/s]\n",
            "                 Class     Images  Instances      Box(P          R      mAP50  mAP50-95): 100%|██████████| 17/17 [00:04<00:00,  4.08it/s]"
          ]
        },
        {
          "output_type": "stream",
          "name": "stdout",
          "text": [
            "                   all        262       3112      0.942      0.956      0.983      0.767\n"
          ]
        },
        {
          "output_type": "stream",
          "name": "stderr",
          "text": [
            "\n"
          ]
        },
        {
          "output_type": "stream",
          "name": "stdout",
          "text": [
            "\n",
            "      Epoch    GPU_mem   box_loss   cls_loss   dfl_loss  Instances       Size\n"
          ]
        },
        {
          "output_type": "stream",
          "name": "stderr",
          "text": [
            "      30/50      6.52G     0.9255     0.4577      1.106        157        640: 100%|██████████| 131/131 [00:44<00:00,  2.95it/s]\n",
            "                 Class     Images  Instances      Box(P          R      mAP50  mAP50-95): 100%|██████████| 17/17 [00:04<00:00,  3.47it/s]"
          ]
        },
        {
          "output_type": "stream",
          "name": "stdout",
          "text": [
            "                   all        262       3112       0.94      0.969      0.986      0.764\n"
          ]
        },
        {
          "output_type": "stream",
          "name": "stderr",
          "text": [
            "\n"
          ]
        },
        {
          "output_type": "stream",
          "name": "stdout",
          "text": [
            "\n",
            "      Epoch    GPU_mem   box_loss   cls_loss   dfl_loss  Instances       Size\n"
          ]
        },
        {
          "output_type": "stream",
          "name": "stderr",
          "text": [
            "      31/50      6.56G     0.9061     0.4479      1.088        205        640: 100%|██████████| 131/131 [00:43<00:00,  3.01it/s]\n",
            "                 Class     Images  Instances      Box(P          R      mAP50  mAP50-95): 100%|██████████| 17/17 [00:04<00:00,  4.08it/s]"
          ]
        },
        {
          "output_type": "stream",
          "name": "stdout",
          "text": [
            "                   all        262       3112      0.933      0.959      0.983      0.765\n"
          ]
        },
        {
          "output_type": "stream",
          "name": "stderr",
          "text": [
            "\n"
          ]
        },
        {
          "output_type": "stream",
          "name": "stdout",
          "text": [
            "\n",
            "      Epoch    GPU_mem   box_loss   cls_loss   dfl_loss  Instances       Size\n"
          ]
        },
        {
          "output_type": "stream",
          "name": "stderr",
          "text": [
            "      32/50      6.61G     0.8998     0.4462      1.085         97        640: 100%|██████████| 131/131 [00:42<00:00,  3.05it/s]\n",
            "                 Class     Images  Instances      Box(P          R      mAP50  mAP50-95): 100%|██████████| 17/17 [00:04<00:00,  3.55it/s]"
          ]
        },
        {
          "output_type": "stream",
          "name": "stdout",
          "text": [
            "                   all        262       3112      0.945      0.963      0.985      0.766\n"
          ]
        },
        {
          "output_type": "stream",
          "name": "stderr",
          "text": [
            "\n"
          ]
        },
        {
          "output_type": "stream",
          "name": "stdout",
          "text": [
            "\n",
            "      Epoch    GPU_mem   box_loss   cls_loss   dfl_loss  Instances       Size\n"
          ]
        },
        {
          "output_type": "stream",
          "name": "stderr",
          "text": [
            "      33/50      6.65G     0.8941     0.4442      1.091        131        640: 100%|██████████| 131/131 [00:43<00:00,  3.02it/s]\n",
            "                 Class     Images  Instances      Box(P          R      mAP50  mAP50-95): 100%|██████████| 17/17 [00:04<00:00,  4.06it/s]"
          ]
        },
        {
          "output_type": "stream",
          "name": "stdout",
          "text": [
            "                   all        262       3112      0.934      0.961      0.983      0.771\n"
          ]
        },
        {
          "output_type": "stream",
          "name": "stderr",
          "text": [
            "\n"
          ]
        },
        {
          "output_type": "stream",
          "name": "stdout",
          "text": [
            "\n",
            "      Epoch    GPU_mem   box_loss   cls_loss   dfl_loss  Instances       Size\n"
          ]
        },
        {
          "output_type": "stream",
          "name": "stderr",
          "text": [
            "      34/50       6.7G     0.8765     0.4302      1.067        226        640: 100%|██████████| 131/131 [00:44<00:00,  2.93it/s]\n",
            "                 Class     Images  Instances      Box(P          R      mAP50  mAP50-95): 100%|██████████| 17/17 [00:04<00:00,  3.61it/s]"
          ]
        },
        {
          "output_type": "stream",
          "name": "stdout",
          "text": [
            "                   all        262       3112      0.935      0.972      0.985      0.773\n"
          ]
        },
        {
          "output_type": "stream",
          "name": "stderr",
          "text": [
            "\n"
          ]
        },
        {
          "output_type": "stream",
          "name": "stdout",
          "text": [
            "\n",
            "      Epoch    GPU_mem   box_loss   cls_loss   dfl_loss  Instances       Size\n"
          ]
        },
        {
          "output_type": "stream",
          "name": "stderr",
          "text": [
            "      35/50      6.74G     0.8658     0.4266       1.07        130        640: 100%|██████████| 131/131 [00:45<00:00,  2.89it/s]\n",
            "                 Class     Images  Instances      Box(P          R      mAP50  mAP50-95): 100%|██████████| 17/17 [00:04<00:00,  3.75it/s]"
          ]
        },
        {
          "output_type": "stream",
          "name": "stdout",
          "text": [
            "                   all        262       3112       0.95      0.966      0.986      0.778\n"
          ]
        },
        {
          "output_type": "stream",
          "name": "stderr",
          "text": [
            "\n"
          ]
        },
        {
          "output_type": "stream",
          "name": "stdout",
          "text": [
            "\n",
            "      Epoch    GPU_mem   box_loss   cls_loss   dfl_loss  Instances       Size\n"
          ]
        },
        {
          "output_type": "stream",
          "name": "stderr",
          "text": [
            "      36/50      6.89G     0.8571     0.4163      1.071        151        640: 100%|██████████| 131/131 [00:44<00:00,  2.93it/s]\n",
            "                 Class     Images  Instances      Box(P          R      mAP50  mAP50-95): 100%|██████████| 17/17 [00:04<00:00,  4.06it/s]"
          ]
        },
        {
          "output_type": "stream",
          "name": "stdout",
          "text": [
            "                   all        262       3112      0.954      0.962      0.986      0.779\n"
          ]
        },
        {
          "output_type": "stream",
          "name": "stderr",
          "text": [
            "\n"
          ]
        },
        {
          "output_type": "stream",
          "name": "stdout",
          "text": [
            "\n",
            "      Epoch    GPU_mem   box_loss   cls_loss   dfl_loss  Instances       Size\n"
          ]
        },
        {
          "output_type": "stream",
          "name": "stderr",
          "text": [
            "      37/50      6.93G     0.8405     0.4123      1.051         67        640: 100%|██████████| 131/131 [00:44<00:00,  2.95it/s]\n",
            "                 Class     Images  Instances      Box(P          R      mAP50  mAP50-95): 100%|██████████| 17/17 [00:05<00:00,  3.29it/s]"
          ]
        },
        {
          "output_type": "stream",
          "name": "stdout",
          "text": [
            "                   all        262       3112      0.944      0.967      0.986      0.782\n"
          ]
        },
        {
          "output_type": "stream",
          "name": "stderr",
          "text": [
            "\n"
          ]
        },
        {
          "output_type": "stream",
          "name": "stdout",
          "text": [
            "\n",
            "      Epoch    GPU_mem   box_loss   cls_loss   dfl_loss  Instances       Size\n"
          ]
        },
        {
          "output_type": "stream",
          "name": "stderr",
          "text": [
            "      38/50      6.98G     0.8366     0.4014      1.059         74        640: 100%|██████████| 131/131 [00:45<00:00,  2.89it/s]\n",
            "                 Class     Images  Instances      Box(P          R      mAP50  mAP50-95): 100%|██████████| 17/17 [00:04<00:00,  4.11it/s]"
          ]
        },
        {
          "output_type": "stream",
          "name": "stdout",
          "text": [
            "                   all        262       3112      0.943      0.978      0.987      0.786\n"
          ]
        },
        {
          "output_type": "stream",
          "name": "stderr",
          "text": [
            "\n"
          ]
        },
        {
          "output_type": "stream",
          "name": "stdout",
          "text": [
            "\n",
            "      Epoch    GPU_mem   box_loss   cls_loss   dfl_loss  Instances       Size\n"
          ]
        },
        {
          "output_type": "stream",
          "name": "stderr",
          "text": [
            "      39/50      7.02G     0.8262     0.4024      1.052        158        640: 100%|██████████| 131/131 [00:45<00:00,  2.91it/s]\n",
            "                 Class     Images  Instances      Box(P          R      mAP50  mAP50-95): 100%|██████████| 17/17 [00:04<00:00,  4.07it/s]"
          ]
        },
        {
          "output_type": "stream",
          "name": "stdout",
          "text": [
            "                   all        262       3112       0.95      0.975      0.988      0.791\n"
          ]
        },
        {
          "output_type": "stream",
          "name": "stderr",
          "text": [
            "\n"
          ]
        },
        {
          "output_type": "stream",
          "name": "stdout",
          "text": [
            "\n",
            "      Epoch    GPU_mem   box_loss   cls_loss   dfl_loss  Instances       Size\n"
          ]
        },
        {
          "output_type": "stream",
          "name": "stderr",
          "text": [
            "      40/50      7.07G      0.822     0.3966      1.056        100        640: 100%|██████████| 131/131 [00:44<00:00,  2.92it/s]\n",
            "                 Class     Images  Instances      Box(P          R      mAP50  mAP50-95): 100%|██████████| 17/17 [00:05<00:00,  3.35it/s]"
          ]
        },
        {
          "output_type": "stream",
          "name": "stdout",
          "text": [
            "                   all        262       3112      0.947      0.975      0.987      0.792\n"
          ]
        },
        {
          "output_type": "stream",
          "name": "stderr",
          "text": [
            "\n"
          ]
        },
        {
          "output_type": "stream",
          "name": "stdout",
          "text": [
            "Closing dataloader mosaic\n",
            "\u001b[34m\u001b[1malbumentations: \u001b[0mBlur(p=0.01, blur_limit=(3, 7)), MedianBlur(p=0.01, blur_limit=(3, 7)), ToGray(p=0.01, method='weighted_average', num_output_channels=3), CLAHE(p=0.01, clip_limit=(1.0, 4.0), tile_grid_size=(8, 8))\n",
            "\n",
            "      Epoch    GPU_mem   box_loss   cls_loss   dfl_loss  Instances       Size\n"
          ]
        },
        {
          "output_type": "stream",
          "name": "stderr",
          "text": [
            "      41/50      7.11G     0.8116     0.3752      1.066         73        640: 100%|██████████| 131/131 [00:45<00:00,  2.89it/s]\n",
            "                 Class     Images  Instances      Box(P          R      mAP50  mAP50-95): 100%|██████████| 17/17 [00:04<00:00,  4.07it/s]"
          ]
        },
        {
          "output_type": "stream",
          "name": "stdout",
          "text": [
            "                   all        262       3112      0.954      0.972      0.988      0.787\n"
          ]
        },
        {
          "output_type": "stream",
          "name": "stderr",
          "text": [
            "\n"
          ]
        },
        {
          "output_type": "stream",
          "name": "stdout",
          "text": [
            "\n",
            "      Epoch    GPU_mem   box_loss   cls_loss   dfl_loss  Instances       Size\n"
          ]
        },
        {
          "output_type": "stream",
          "name": "stderr",
          "text": [
            "      42/50      7.16G     0.7801     0.3539       1.05         73        640: 100%|██████████| 131/131 [00:42<00:00,  3.07it/s]\n",
            "                 Class     Images  Instances      Box(P          R      mAP50  mAP50-95): 100%|██████████| 17/17 [00:04<00:00,  3.45it/s]"
          ]
        },
        {
          "output_type": "stream",
          "name": "stdout",
          "text": [
            "                   all        262       3112      0.955      0.973      0.988      0.792\n"
          ]
        },
        {
          "output_type": "stream",
          "name": "stderr",
          "text": [
            "\n"
          ]
        },
        {
          "output_type": "stream",
          "name": "stdout",
          "text": [
            "\n",
            "      Epoch    GPU_mem   box_loss   cls_loss   dfl_loss  Instances       Size\n"
          ]
        },
        {
          "output_type": "stream",
          "name": "stderr",
          "text": [
            "      43/50      4.65G     0.7761     0.3488       1.06         66        640: 100%|██████████| 131/131 [00:42<00:00,  3.06it/s]\n",
            "                 Class     Images  Instances      Box(P          R      mAP50  mAP50-95): 100%|██████████| 17/17 [00:04<00:00,  4.10it/s]"
          ]
        },
        {
          "output_type": "stream",
          "name": "stdout",
          "text": [
            "                   all        262       3112      0.965      0.969       0.99        0.8\n"
          ]
        },
        {
          "output_type": "stream",
          "name": "stderr",
          "text": [
            "\n"
          ]
        },
        {
          "output_type": "stream",
          "name": "stdout",
          "text": [
            "\n",
            "      Epoch    GPU_mem   box_loss   cls_loss   dfl_loss  Instances       Size\n"
          ]
        },
        {
          "output_type": "stream",
          "name": "stderr",
          "text": [
            "      44/50      5.14G     0.7523     0.3368      1.035         86        640: 100%|██████████| 131/131 [00:43<00:00,  2.99it/s]\n",
            "                 Class     Images  Instances      Box(P          R      mAP50  mAP50-95): 100%|██████████| 17/17 [00:04<00:00,  3.63it/s]"
          ]
        },
        {
          "output_type": "stream",
          "name": "stdout",
          "text": [
            "                   all        262       3112      0.954      0.982       0.99      0.806\n"
          ]
        },
        {
          "output_type": "stream",
          "name": "stderr",
          "text": [
            "\n"
          ]
        },
        {
          "output_type": "stream",
          "name": "stdout",
          "text": [
            "\n",
            "      Epoch    GPU_mem   box_loss   cls_loss   dfl_loss  Instances       Size\n"
          ]
        },
        {
          "output_type": "stream",
          "name": "stderr",
          "text": [
            "      45/50      5.14G     0.7258     0.3245      1.017         61        640: 100%|██████████| 131/131 [00:44<00:00,  2.94it/s]\n",
            "                 Class     Images  Instances      Box(P          R      mAP50  mAP50-95): 100%|██████████| 17/17 [00:04<00:00,  3.91it/s]"
          ]
        },
        {
          "output_type": "stream",
          "name": "stdout",
          "text": [
            "                   all        262       3112      0.961      0.978      0.989      0.809\n"
          ]
        },
        {
          "output_type": "stream",
          "name": "stderr",
          "text": [
            "\n"
          ]
        },
        {
          "output_type": "stream",
          "name": "stdout",
          "text": [
            "\n",
            "      Epoch    GPU_mem   box_loss   cls_loss   dfl_loss  Instances       Size\n"
          ]
        },
        {
          "output_type": "stream",
          "name": "stderr",
          "text": [
            "      46/50      5.14G     0.7223     0.3264      1.017         98        640: 100%|██████████| 131/131 [00:44<00:00,  2.97it/s]\n",
            "                 Class     Images  Instances      Box(P          R      mAP50  mAP50-95): 100%|██████████| 17/17 [00:04<00:00,  4.08it/s]"
          ]
        },
        {
          "output_type": "stream",
          "name": "stdout",
          "text": [
            "                   all        262       3112      0.966      0.977      0.991      0.811\n"
          ]
        },
        {
          "output_type": "stream",
          "name": "stderr",
          "text": [
            "\n"
          ]
        },
        {
          "output_type": "stream",
          "name": "stdout",
          "text": [
            "\n",
            "      Epoch    GPU_mem   box_loss   cls_loss   dfl_loss  Instances       Size\n"
          ]
        },
        {
          "output_type": "stream",
          "name": "stderr",
          "text": [
            "      47/50      5.14G     0.7116     0.3177      1.012        101        640: 100%|██████████| 131/131 [00:43<00:00,  2.99it/s]\n",
            "                 Class     Images  Instances      Box(P          R      mAP50  mAP50-95): 100%|██████████| 17/17 [00:04<00:00,  3.91it/s]"
          ]
        },
        {
          "output_type": "stream",
          "name": "stdout",
          "text": [
            "                   all        262       3112      0.971      0.974      0.991      0.816\n"
          ]
        },
        {
          "output_type": "stream",
          "name": "stderr",
          "text": [
            "\n"
          ]
        },
        {
          "output_type": "stream",
          "name": "stdout",
          "text": [
            "\n",
            "      Epoch    GPU_mem   box_loss   cls_loss   dfl_loss  Instances       Size\n"
          ]
        },
        {
          "output_type": "stream",
          "name": "stderr",
          "text": [
            "      48/50      5.14G     0.7015     0.3212      1.012         91        640: 100%|██████████| 131/131 [00:43<00:00,  2.98it/s]\n",
            "                 Class     Images  Instances      Box(P          R      mAP50  mAP50-95): 100%|██████████| 17/17 [00:04<00:00,  4.09it/s]"
          ]
        },
        {
          "output_type": "stream",
          "name": "stdout",
          "text": [
            "                   all        262       3112      0.963      0.979       0.99      0.816\n"
          ]
        },
        {
          "output_type": "stream",
          "name": "stderr",
          "text": [
            "\n"
          ]
        },
        {
          "output_type": "stream",
          "name": "stdout",
          "text": [
            "\n",
            "      Epoch    GPU_mem   box_loss   cls_loss   dfl_loss  Instances       Size\n"
          ]
        },
        {
          "output_type": "stream",
          "name": "stderr",
          "text": [
            "      49/50      5.14G     0.6873      0.304      1.009         91        640: 100%|██████████| 131/131 [00:43<00:00,  3.01it/s]\n",
            "                 Class     Images  Instances      Box(P          R      mAP50  mAP50-95): 100%|██████████| 17/17 [00:04<00:00,  3.58it/s]"
          ]
        },
        {
          "output_type": "stream",
          "name": "stdout",
          "text": [
            "                   all        262       3112      0.968      0.981       0.99      0.817\n"
          ]
        },
        {
          "output_type": "stream",
          "name": "stderr",
          "text": [
            "\n"
          ]
        },
        {
          "output_type": "stream",
          "name": "stdout",
          "text": [
            "\n",
            "      Epoch    GPU_mem   box_loss   cls_loss   dfl_loss  Instances       Size\n"
          ]
        },
        {
          "output_type": "stream",
          "name": "stderr",
          "text": [
            "      50/50      5.14G     0.6822     0.3075      1.004         64        640: 100%|██████████| 131/131 [00:44<00:00,  2.97it/s]\n",
            "                 Class     Images  Instances      Box(P          R      mAP50  mAP50-95): 100%|██████████| 17/17 [00:04<00:00,  4.09it/s]"
          ]
        },
        {
          "output_type": "stream",
          "name": "stdout",
          "text": [
            "                   all        262       3112       0.97      0.982      0.991      0.819\n"
          ]
        },
        {
          "output_type": "stream",
          "name": "stderr",
          "text": [
            "\n"
          ]
        },
        {
          "output_type": "stream",
          "name": "stdout",
          "text": [
            "\n",
            "50 epochs completed in 0.688 hours.\n",
            "Optimizer stripped from /content/drive/MyDrive/GeoAI/hasil_training_model/yolov11x_deteksi_sawit/weights/last.pt, 40.5MB\n",
            "Optimizer stripped from /content/drive/MyDrive/GeoAI/hasil_training_model/yolov11x_deteksi_sawit/weights/best.pt, 40.5MB\n",
            "\n",
            "Validating /content/drive/MyDrive/GeoAI/hasil_training_model/yolov11x_deteksi_sawit/weights/best.pt...\n",
            "Ultralytics 8.3.162 🚀 Python-3.11.13 torch-2.6.0+cu124 CUDA:0 (Tesla T4, 15095MiB)\n",
            "YOLO11m summary (fused): 125 layers, 20,030,803 parameters, 0 gradients, 67.6 GFLOPs\n"
          ]
        },
        {
          "output_type": "stream",
          "name": "stderr",
          "text": [
            "                 Class     Images  Instances      Box(P          R      mAP50  mAP50-95): 100%|██████████| 17/17 [00:09<00:00,  1.80it/s]\n"
          ]
        },
        {
          "output_type": "stream",
          "name": "stdout",
          "text": [
            "                   all        262       3112       0.97      0.982      0.991      0.819\n",
            "Speed: 0.5ms preprocess, 12.6ms inference, 0.0ms loss, 4.5ms postprocess per image\n",
            "Results saved to \u001b[1m/content/drive/MyDrive/GeoAI/hasil_training_model/yolov11x_deteksi_sawit\u001b[0m\n"
          ]
        },
        {
          "output_type": "execute_result",
          "data": {
            "text/plain": [
              "ultralytics.utils.metrics.DetMetrics object with attributes:\n",
              "\n",
              "ap_class_index: array([0])\n",
              "box: ultralytics.utils.metrics.Metric object\n",
              "confusion_matrix: <ultralytics.utils.metrics.ConfusionMatrix object at 0x7ff08af0db90>\n",
              "curves: ['Precision-Recall(B)', 'F1-Confidence(B)', 'Precision-Confidence(B)', 'Recall-Confidence(B)']\n",
              "curves_results: [[array([          0,    0.001001,    0.002002,    0.003003,    0.004004,    0.005005,    0.006006,    0.007007,    0.008008,    0.009009,     0.01001,    0.011011,    0.012012,    0.013013,    0.014014,    0.015015,    0.016016,    0.017017,    0.018018,    0.019019,     0.02002,    0.021021,    0.022022,    0.023023,\n",
              "          0.024024,    0.025025,    0.026026,    0.027027,    0.028028,    0.029029,     0.03003,    0.031031,    0.032032,    0.033033,    0.034034,    0.035035,    0.036036,    0.037037,    0.038038,    0.039039,     0.04004,    0.041041,    0.042042,    0.043043,    0.044044,    0.045045,    0.046046,    0.047047,\n",
              "          0.048048,    0.049049,     0.05005,    0.051051,    0.052052,    0.053053,    0.054054,    0.055055,    0.056056,    0.057057,    0.058058,    0.059059,     0.06006,    0.061061,    0.062062,    0.063063,    0.064064,    0.065065,    0.066066,    0.067067,    0.068068,    0.069069,     0.07007,    0.071071,\n",
              "          0.072072,    0.073073,    0.074074,    0.075075,    0.076076,    0.077077,    0.078078,    0.079079,     0.08008,    0.081081,    0.082082,    0.083083,    0.084084,    0.085085,    0.086086,    0.087087,    0.088088,    0.089089,     0.09009,    0.091091,    0.092092,    0.093093,    0.094094,    0.095095,\n",
              "          0.096096,    0.097097,    0.098098,    0.099099,      0.1001,      0.1011,      0.1021,      0.1031,      0.1041,     0.10511,     0.10611,     0.10711,     0.10811,     0.10911,     0.11011,     0.11111,     0.11211,     0.11311,     0.11411,     0.11512,     0.11612,     0.11712,     0.11812,     0.11912,\n",
              "           0.12012,     0.12112,     0.12212,     0.12312,     0.12412,     0.12513,     0.12613,     0.12713,     0.12813,     0.12913,     0.13013,     0.13113,     0.13213,     0.13313,     0.13413,     0.13514,     0.13614,     0.13714,     0.13814,     0.13914,     0.14014,     0.14114,     0.14214,     0.14314,\n",
              "           0.14414,     0.14515,     0.14615,     0.14715,     0.14815,     0.14915,     0.15015,     0.15115,     0.15215,     0.15315,     0.15415,     0.15516,     0.15616,     0.15716,     0.15816,     0.15916,     0.16016,     0.16116,     0.16216,     0.16316,     0.16416,     0.16517,     0.16617,     0.16717,\n",
              "           0.16817,     0.16917,     0.17017,     0.17117,     0.17217,     0.17317,     0.17417,     0.17518,     0.17618,     0.17718,     0.17818,     0.17918,     0.18018,     0.18118,     0.18218,     0.18318,     0.18418,     0.18519,     0.18619,     0.18719,     0.18819,     0.18919,     0.19019,     0.19119,\n",
              "           0.19219,     0.19319,     0.19419,      0.1952,      0.1962,      0.1972,      0.1982,      0.1992,      0.2002,      0.2012,      0.2022,      0.2032,      0.2042,     0.20521,     0.20621,     0.20721,     0.20821,     0.20921,     0.21021,     0.21121,     0.21221,     0.21321,     0.21421,     0.21522,\n",
              "           0.21622,     0.21722,     0.21822,     0.21922,     0.22022,     0.22122,     0.22222,     0.22322,     0.22422,     0.22523,     0.22623,     0.22723,     0.22823,     0.22923,     0.23023,     0.23123,     0.23223,     0.23323,     0.23423,     0.23524,     0.23624,     0.23724,     0.23824,     0.23924,\n",
              "           0.24024,     0.24124,     0.24224,     0.24324,     0.24424,     0.24525,     0.24625,     0.24725,     0.24825,     0.24925,     0.25025,     0.25125,     0.25225,     0.25325,     0.25425,     0.25526,     0.25626,     0.25726,     0.25826,     0.25926,     0.26026,     0.26126,     0.26226,     0.26326,\n",
              "           0.26426,     0.26527,     0.26627,     0.26727,     0.26827,     0.26927,     0.27027,     0.27127,     0.27227,     0.27327,     0.27427,     0.27528,     0.27628,     0.27728,     0.27828,     0.27928,     0.28028,     0.28128,     0.28228,     0.28328,     0.28428,     0.28529,     0.28629,     0.28729,\n",
              "           0.28829,     0.28929,     0.29029,     0.29129,     0.29229,     0.29329,     0.29429,      0.2953,      0.2963,      0.2973,      0.2983,      0.2993,      0.3003,      0.3013,      0.3023,      0.3033,      0.3043,     0.30531,     0.30631,     0.30731,     0.30831,     0.30931,     0.31031,     0.31131,\n",
              "           0.31231,     0.31331,     0.31431,     0.31532,     0.31632,     0.31732,     0.31832,     0.31932,     0.32032,     0.32132,     0.32232,     0.32332,     0.32432,     0.32533,     0.32633,     0.32733,     0.32833,     0.32933,     0.33033,     0.33133,     0.33233,     0.33333,     0.33433,     0.33534,\n",
              "           0.33634,     0.33734,     0.33834,     0.33934,     0.34034,     0.34134,     0.34234,     0.34334,     0.34434,     0.34535,     0.34635,     0.34735,     0.34835,     0.34935,     0.35035,     0.35135,     0.35235,     0.35335,     0.35435,     0.35536,     0.35636,     0.35736,     0.35836,     0.35936,\n",
              "           0.36036,     0.36136,     0.36236,     0.36336,     0.36436,     0.36537,     0.36637,     0.36737,     0.36837,     0.36937,     0.37037,     0.37137,     0.37237,     0.37337,     0.37437,     0.37538,     0.37638,     0.37738,     0.37838,     0.37938,     0.38038,     0.38138,     0.38238,     0.38338,\n",
              "           0.38438,     0.38539,     0.38639,     0.38739,     0.38839,     0.38939,     0.39039,     0.39139,     0.39239,     0.39339,     0.39439,      0.3954,      0.3964,      0.3974,      0.3984,      0.3994,      0.4004,      0.4014,      0.4024,      0.4034,      0.4044,     0.40541,     0.40641,     0.40741,\n",
              "           0.40841,     0.40941,     0.41041,     0.41141,     0.41241,     0.41341,     0.41441,     0.41542,     0.41642,     0.41742,     0.41842,     0.41942,     0.42042,     0.42142,     0.42242,     0.42342,     0.42442,     0.42543,     0.42643,     0.42743,     0.42843,     0.42943,     0.43043,     0.43143,\n",
              "           0.43243,     0.43343,     0.43443,     0.43544,     0.43644,     0.43744,     0.43844,     0.43944,     0.44044,     0.44144,     0.44244,     0.44344,     0.44444,     0.44545,     0.44645,     0.44745,     0.44845,     0.44945,     0.45045,     0.45145,     0.45245,     0.45345,     0.45445,     0.45546,\n",
              "           0.45646,     0.45746,     0.45846,     0.45946,     0.46046,     0.46146,     0.46246,     0.46346,     0.46446,     0.46547,     0.46647,     0.46747,     0.46847,     0.46947,     0.47047,     0.47147,     0.47247,     0.47347,     0.47447,     0.47548,     0.47648,     0.47748,     0.47848,     0.47948,\n",
              "           0.48048,     0.48148,     0.48248,     0.48348,     0.48448,     0.48549,     0.48649,     0.48749,     0.48849,     0.48949,     0.49049,     0.49149,     0.49249,     0.49349,     0.49449,      0.4955,      0.4965,      0.4975,      0.4985,      0.4995,      0.5005,      0.5015,      0.5025,      0.5035,\n",
              "            0.5045,     0.50551,     0.50651,     0.50751,     0.50851,     0.50951,     0.51051,     0.51151,     0.51251,     0.51351,     0.51451,     0.51552,     0.51652,     0.51752,     0.51852,     0.51952,     0.52052,     0.52152,     0.52252,     0.52352,     0.52452,     0.52553,     0.52653,     0.52753,\n",
              "           0.52853,     0.52953,     0.53053,     0.53153,     0.53253,     0.53353,     0.53453,     0.53554,     0.53654,     0.53754,     0.53854,     0.53954,     0.54054,     0.54154,     0.54254,     0.54354,     0.54454,     0.54555,     0.54655,     0.54755,     0.54855,     0.54955,     0.55055,     0.55155,\n",
              "           0.55255,     0.55355,     0.55455,     0.55556,     0.55656,     0.55756,     0.55856,     0.55956,     0.56056,     0.56156,     0.56256,     0.56356,     0.56456,     0.56557,     0.56657,     0.56757,     0.56857,     0.56957,     0.57057,     0.57157,     0.57257,     0.57357,     0.57457,     0.57558,\n",
              "           0.57658,     0.57758,     0.57858,     0.57958,     0.58058,     0.58158,     0.58258,     0.58358,     0.58458,     0.58559,     0.58659,     0.58759,     0.58859,     0.58959,     0.59059,     0.59159,     0.59259,     0.59359,     0.59459,      0.5956,      0.5966,      0.5976,      0.5986,      0.5996,\n",
              "            0.6006,      0.6016,      0.6026,      0.6036,      0.6046,     0.60561,     0.60661,     0.60761,     0.60861,     0.60961,     0.61061,     0.61161,     0.61261,     0.61361,     0.61461,     0.61562,     0.61662,     0.61762,     0.61862,     0.61962,     0.62062,     0.62162,     0.62262,     0.62362,\n",
              "           0.62462,     0.62563,     0.62663,     0.62763,     0.62863,     0.62963,     0.63063,     0.63163,     0.63263,     0.63363,     0.63463,     0.63564,     0.63664,     0.63764,     0.63864,     0.63964,     0.64064,     0.64164,     0.64264,     0.64364,     0.64464,     0.64565,     0.64665,     0.64765,\n",
              "           0.64865,     0.64965,     0.65065,     0.65165,     0.65265,     0.65365,     0.65465,     0.65566,     0.65666,     0.65766,     0.65866,     0.65966,     0.66066,     0.66166,     0.66266,     0.66366,     0.66466,     0.66567,     0.66667,     0.66767,     0.66867,     0.66967,     0.67067,     0.67167,\n",
              "           0.67267,     0.67367,     0.67467,     0.67568,     0.67668,     0.67768,     0.67868,     0.67968,     0.68068,     0.68168,     0.68268,     0.68368,     0.68468,     0.68569,     0.68669,     0.68769,     0.68869,     0.68969,     0.69069,     0.69169,     0.69269,     0.69369,     0.69469,      0.6957,\n",
              "            0.6967,      0.6977,      0.6987,      0.6997,      0.7007,      0.7017,      0.7027,      0.7037,      0.7047,     0.70571,     0.70671,     0.70771,     0.70871,     0.70971,     0.71071,     0.71171,     0.71271,     0.71371,     0.71471,     0.71572,     0.71672,     0.71772,     0.71872,     0.71972,\n",
              "           0.72072,     0.72172,     0.72272,     0.72372,     0.72472,     0.72573,     0.72673,     0.72773,     0.72873,     0.72973,     0.73073,     0.73173,     0.73273,     0.73373,     0.73473,     0.73574,     0.73674,     0.73774,     0.73874,     0.73974,     0.74074,     0.74174,     0.74274,     0.74374,\n",
              "           0.74474,     0.74575,     0.74675,     0.74775,     0.74875,     0.74975,     0.75075,     0.75175,     0.75275,     0.75375,     0.75475,     0.75576,     0.75676,     0.75776,     0.75876,     0.75976,     0.76076,     0.76176,     0.76276,     0.76376,     0.76476,     0.76577,     0.76677,     0.76777,\n",
              "           0.76877,     0.76977,     0.77077,     0.77177,     0.77277,     0.77377,     0.77477,     0.77578,     0.77678,     0.77778,     0.77878,     0.77978,     0.78078,     0.78178,     0.78278,     0.78378,     0.78478,     0.78579,     0.78679,     0.78779,     0.78879,     0.78979,     0.79079,     0.79179,\n",
              "           0.79279,     0.79379,     0.79479,      0.7958,      0.7968,      0.7978,      0.7988,      0.7998,      0.8008,      0.8018,      0.8028,      0.8038,      0.8048,     0.80581,     0.80681,     0.80781,     0.80881,     0.80981,     0.81081,     0.81181,     0.81281,     0.81381,     0.81481,     0.81582,\n",
              "           0.81682,     0.81782,     0.81882,     0.81982,     0.82082,     0.82182,     0.82282,     0.82382,     0.82482,     0.82583,     0.82683,     0.82783,     0.82883,     0.82983,     0.83083,     0.83183,     0.83283,     0.83383,     0.83483,     0.83584,     0.83684,     0.83784,     0.83884,     0.83984,\n",
              "           0.84084,     0.84184,     0.84284,     0.84384,     0.84484,     0.84585,     0.84685,     0.84785,     0.84885,     0.84985,     0.85085,     0.85185,     0.85285,     0.85385,     0.85485,     0.85586,     0.85686,     0.85786,     0.85886,     0.85986,     0.86086,     0.86186,     0.86286,     0.86386,\n",
              "           0.86486,     0.86587,     0.86687,     0.86787,     0.86887,     0.86987,     0.87087,     0.87187,     0.87287,     0.87387,     0.87487,     0.87588,     0.87688,     0.87788,     0.87888,     0.87988,     0.88088,     0.88188,     0.88288,     0.88388,     0.88488,     0.88589,     0.88689,     0.88789,\n",
              "           0.88889,     0.88989,     0.89089,     0.89189,     0.89289,     0.89389,     0.89489,      0.8959,      0.8969,      0.8979,      0.8989,      0.8999,      0.9009,      0.9019,      0.9029,      0.9039,      0.9049,     0.90591,     0.90691,     0.90791,     0.90891,     0.90991,     0.91091,     0.91191,\n",
              "           0.91291,     0.91391,     0.91491,     0.91592,     0.91692,     0.91792,     0.91892,     0.91992,     0.92092,     0.92192,     0.92292,     0.92392,     0.92492,     0.92593,     0.92693,     0.92793,     0.92893,     0.92993,     0.93093,     0.93193,     0.93293,     0.93393,     0.93493,     0.93594,\n",
              "           0.93694,     0.93794,     0.93894,     0.93994,     0.94094,     0.94194,     0.94294,     0.94394,     0.94494,     0.94595,     0.94695,     0.94795,     0.94895,     0.94995,     0.95095,     0.95195,     0.95295,     0.95395,     0.95495,     0.95596,     0.95696,     0.95796,     0.95896,     0.95996,\n",
              "           0.96096,     0.96196,     0.96296,     0.96396,     0.96496,     0.96597,     0.96697,     0.96797,     0.96897,     0.96997,     0.97097,     0.97197,     0.97297,     0.97397,     0.97497,     0.97598,     0.97698,     0.97798,     0.97898,     0.97998,     0.98098,     0.98198,     0.98298,     0.98398,\n",
              "           0.98498,     0.98599,     0.98699,     0.98799,     0.98899,     0.98999,     0.99099,     0.99199,     0.99299,     0.99399,     0.99499,       0.996,       0.997,       0.998,       0.999,           1]), array([[          1,           1,           1,           1,           1,           1,           1,           1,           1,           1,           1,           1,           1,           1,           1,           1,           1,           1,           1,           1,           1,           1,           1,\n",
              "                  1,           1,           1,           1,           1,           1,           1,           1,           1,           1,           1,           1,           1,           1,           1,           1,           1,           1,           1,           1,           1,           1,           1,\n",
              "                  1,           1,           1,           1,           1,           1,           1,           1,           1,           1,           1,           1,           1,           1,           1,           1,           1,           1,           1,           1,           1,           1,           1,\n",
              "                  1,           1,           1,           1,           1,           1,           1,           1,           1,           1,           1,           1,           1,           1,           1,           1,           1,           1,           1,           1,           1,           1,           1,\n",
              "                  1,           1,           1,           1,           1,           1,           1,           1,           1,           1,           1,           1,           1,           1,           1,           1,           1,           1,           1,           1,           1,           1,           1,\n",
              "                  1,           1,           1,           1,           1,           1,           1,           1,           1,           1,           1,           1,           1,           1,           1,           1,           1,           1,           1,           1,           1,           1,           1,\n",
              "                  1,           1,           1,           1,           1,           1,           1,           1,           1,           1,           1,           1,           1,           1,           1,           1,           1,           1,           1,           1,           1,           1,           1,\n",
              "                  1,           1,           1,           1,           1,           1,           1,           1,           1,           1,           1,           1,           1,           1,           1,           1,           1,           1,           1,           1,           1,           1,           1,\n",
              "                  1,           1,           1,           1,           1,           1,           1,           1,           1,           1,           1,           1,           1,           1,           1,           1,           1,           1,           1,           1,           1,           1,           1,\n",
              "                  1,           1,           1,           1,           1,           1,           1,           1,           1,           1,           1,           1,           1,           1,           1,           1,           1,           1,           1,           1,           1,           1,           1,\n",
              "                  1,           1,           1,           1,           1,           1,           1,           1,           1,           1,           1,           1,           1,           1,           1,           1,           1,           1,           1,           1,           1,           1,           1,\n",
              "                  1,           1,           1,           1,           1,           1,           1,           1,           1,           1,           1,           1,           1,           1,           1,           1,           1,           1,           1,           1,           1,           1,           1,\n",
              "                  1,           1,           1,           1,           1,           1,           1,           1,           1,           1,           1,           1,           1,           1,           1,           1,           1,           1,           1,           1,           1,           1,           1,\n",
              "                  1,           1,           1,           1,           1,           1,           1,           1,           1,           1,           1,           1,           1,           1,           1,           1,           1,           1,           1,           1,           1,           1,           1,\n",
              "                  1,           1,           1,           1,           1,           1,           1,           1,           1,           1,           1,           1,           1,           1,           1,           1,           1,           1,           1,           1,           1,           1,           1,\n",
              "                  1,           1,           1,           1,           1,           1,           1,           1,           1,           1,           1,           1,           1,           1,           1,           1,           1,           1,           1,           1,           1,           1,           1,\n",
              "                  1,           1,           1,           1,           1,           1,     0.99923,     0.99923,     0.99923,     0.99923,     0.99923,     0.99923,     0.99923,     0.99923,     0.99923,     0.99923,     0.99923,     0.99923,     0.99923,     0.99923,     0.99923,     0.99923,     0.99923,\n",
              "            0.99923,     0.99923,     0.99923,     0.99923,     0.99923,     0.99923,     0.99923,     0.99923,     0.99923,     0.99923,     0.99923,     0.99923,     0.99923,     0.99923,     0.99923,     0.99923,     0.99923,     0.99923,     0.99923,     0.99923,     0.99923,     0.99923,     0.99923,\n",
              "            0.99923,     0.99923,     0.99874,     0.99874,     0.99874,     0.99874,     0.99874,     0.99874,     0.99874,     0.99874,     0.99874,     0.99874,     0.99874,     0.99874,     0.99874,     0.99874,     0.99874,     0.99874,     0.99874,     0.99874,     0.99874,     0.99874,     0.99874,\n",
              "            0.99874,     0.99874,     0.99874,     0.99874,     0.99874,     0.99874,     0.99874,     0.99874,     0.99874,     0.99874,     0.99874,     0.99874,     0.99874,     0.99874,     0.99874,     0.99874,     0.99874,     0.99874,     0.99874,     0.99874,     0.99874,     0.99874,     0.99874,\n",
              "            0.99874,     0.99874,     0.99874,     0.99874,     0.99874,     0.99874,     0.99874,     0.99874,     0.99874,     0.99874,     0.99874,     0.99874,     0.99874,     0.99874,     0.99874,     0.99874,     0.99874,     0.99874,     0.99874,     0.99874,     0.99874,     0.99874,     0.99874,\n",
              "            0.99874,     0.99874,     0.99874,     0.99874,     0.99874,     0.99874,     0.99874,     0.99874,     0.99874,     0.99874,     0.99874,     0.99874,     0.99874,     0.99874,     0.99874,     0.99874,     0.99874,     0.99874,     0.99874,     0.99874,     0.99874,     0.99874,     0.99874,\n",
              "            0.99874,     0.99874,     0.99874,     0.99827,     0.99827,     0.99827,     0.99827,     0.99827,     0.99827,     0.99827,     0.99827,     0.99827,     0.99827,     0.99827,     0.99827,     0.99827,     0.99827,     0.99827,     0.99827,     0.99827,     0.99827,     0.99827,     0.99827,\n",
              "            0.99827,     0.99827,     0.99827,     0.99827,     0.99827,     0.99827,     0.99827,     0.99827,     0.99827,     0.99827,     0.99827,     0.99827,     0.99827,     0.99827,     0.99827,     0.99827,     0.99827,     0.99827,     0.99827,     0.99827,     0.99827,     0.99827,     0.99827,\n",
              "            0.99827,     0.99827,     0.99827,     0.99827,     0.99773,     0.99773,     0.99773,     0.99773,     0.99773,     0.99773,     0.99773,     0.99773,     0.99773,     0.99735,     0.99735,     0.99735,     0.99735,     0.99735,     0.99735,     0.99735,     0.99735,     0.99735,     0.99735,\n",
              "            0.99735,     0.99735,     0.99735,     0.99735,     0.99735,     0.99735,     0.99735,     0.99735,     0.99735,     0.99735,     0.99735,     0.99735,     0.99735,     0.99735,     0.99735,     0.99735,     0.99735,     0.99735,     0.99735,     0.99735,     0.99735,     0.99735,     0.99735,\n",
              "            0.99735,     0.99735,     0.99735,     0.99735,     0.99735,     0.99735,     0.99689,     0.99689,     0.99689,     0.99689,     0.99689,     0.99689,     0.99689,     0.99689,     0.99689,     0.99689,     0.99689,     0.99689,     0.99689,     0.99639,     0.99639,     0.99639,     0.99639,\n",
              "            0.99634,     0.99634,     0.99634,     0.99634,     0.99634,     0.99634,     0.99634,     0.99634,     0.99634,     0.99634,     0.99634,     0.99634,     0.99634,     0.99634,     0.99634,     0.99634,     0.99634,     0.99634,     0.99634,     0.99634,     0.99634,     0.99634,     0.99634,\n",
              "            0.99634,     0.99634,     0.99634,     0.99634,     0.99634,     0.99634,     0.99634,     0.99634,     0.99634,     0.99634,     0.99634,     0.99634,     0.99634,     0.99634,     0.99634,     0.99634,     0.99634,     0.99634,     0.99634,     0.99634,     0.99634,     0.99634,     0.99634,\n",
              "            0.99634,     0.99634,     0.99634,     0.99634,     0.99634,     0.99634,     0.99634,     0.99634,     0.99634,     0.99634,     0.99634,     0.99634,     0.99634,     0.99634,     0.99634,     0.99634,     0.99634,     0.99634,     0.99634,     0.99634,     0.99634,     0.99634,     0.99634,\n",
              "            0.99634,     0.99634,     0.99634,     0.99634,     0.99634,     0.99634,     0.99634,     0.99634,     0.99634,     0.99634,     0.99593,     0.99593,     0.99593,     0.99593,     0.99593,     0.99593,     0.99593,     0.99593,     0.99561,     0.99561,     0.99561,     0.99561,     0.99561,\n",
              "            0.99561,     0.99561,     0.99561,     0.99561,     0.99561,     0.99561,     0.99561,     0.99561,     0.99561,     0.99561,     0.99561,     0.99561,     0.99561,     0.99561,     0.99561,     0.99561,     0.99522,     0.99522,     0.99522,     0.99522,     0.99522,     0.99522,     0.99522,\n",
              "            0.99489,     0.99489,     0.99489,     0.99489,     0.99489,     0.99489,     0.99489,     0.99489,     0.99489,     0.99489,     0.99489,     0.99489,     0.99489,     0.99489,     0.99489,      0.9945,      0.9945,      0.9945,      0.9945,     0.99385,     0.99385,     0.99385,     0.99385,\n",
              "            0.99385,     0.99385,     0.99385,     0.99385,     0.99385,     0.99385,     0.99385,     0.99385,     0.99385,     0.99385,     0.99385,     0.99385,     0.99385,     0.99385,     0.99385,     0.99385,     0.99385,     0.99385,     0.99385,     0.99385,     0.99346,     0.99346,     0.99308,\n",
              "            0.99308,     0.99272,     0.99272,     0.99272,     0.99272,     0.99272,     0.99272,     0.99252,     0.99252,     0.99252,     0.99252,     0.99252,     0.99252,     0.99252,     0.99252,     0.99252,     0.99252,     0.99252,     0.99252,     0.99252,     0.99252,     0.99252,     0.99252,\n",
              "            0.99252,     0.99252,     0.99252,     0.99252,     0.99252,      0.9923,      0.9923,      0.9923,      0.9923,      0.9923,      0.9923,      0.9923,      0.9923,      0.9923,      0.9923,      0.9923,      0.9923,      0.9923,      0.9923,      0.9923,      0.9923,      0.9923,      0.9923,\n",
              "            0.99201,     0.99201,     0.99201,     0.99201,     0.99201,     0.99201,     0.99201,     0.99201,     0.99201,     0.99201,     0.99175,     0.99175,     0.99175,     0.99175,     0.99175,     0.99175,     0.99175,     0.99175,     0.99175,     0.99175,     0.99175,     0.99175,     0.99152,\n",
              "            0.99152,     0.99152,     0.99152,     0.99152,     0.99152,     0.99152,     0.99152,     0.99152,     0.99152,     0.99152,     0.99152,     0.99152,     0.99152,     0.99083,     0.99083,     0.99083,      0.9905,      0.9905,      0.9905,      0.9905,     0.99021,     0.99021,     0.99021,\n",
              "            0.99021,     0.99021,     0.99021,     0.99021,     0.98987,     0.98919,     0.98919,     0.98919,     0.98887,     0.98887,     0.98887,     0.98827,     0.98827,     0.98827,     0.98827,     0.98827,     0.98827,     0.98827,     0.98827,     0.98799,     0.98799,     0.98799,     0.98799,\n",
              "            0.98799,     0.98799,      0.9878,      0.9878,      0.9878,      0.9878,      0.9878,      0.9878,      0.9878,      0.9878,      0.9878,      0.9878,      0.9878,     0.98748,     0.98748,     0.98721,     0.98721,     0.98721,     0.98721,     0.98721,     0.98695,     0.98695,     0.98695,\n",
              "            0.98695,     0.98695,     0.98695,     0.98663,     0.98637,     0.98637,     0.98637,     0.98637,     0.98637,     0.98637,     0.98575,     0.98575,     0.98575,     0.98513,     0.98513,     0.98513,     0.98485,     0.98485,     0.98485,     0.98485,     0.98456,     0.98456,     0.98425,\n",
              "            0.98395,     0.98395,     0.98332,     0.98332,     0.98302,     0.98272,     0.98272,     0.98243,     0.98243,     0.98182,     0.98182,     0.98059,     0.98059,     0.98059,     0.98028,     0.97871,     0.97871,     0.97813,     0.97813,     0.97813,     0.97784,      0.9769,     0.97599,\n",
              "            0.97537,     0.97414,      0.9739,      0.9739,      0.9739,     0.97331,     0.97308,     0.97308,     0.97308,     0.97248,     0.97157,     0.97129,     0.97101,     0.97072,     0.97013,     0.96956,     0.96837,     0.96777,     0.96507,     0.96449,     0.96241,     0.95974,     0.95679,\n",
              "            0.95269,     0.95156,     0.94957,     0.94238,     0.93503,      0.9242,     0.91472,      0.8989,     0.85801,     0.60724,           0]]), 'Recall', 'Precision'], [array([          0,    0.001001,    0.002002,    0.003003,    0.004004,    0.005005,    0.006006,    0.007007,    0.008008,    0.009009,     0.01001,    0.011011,    0.012012,    0.013013,    0.014014,    0.015015,    0.016016,    0.017017,    0.018018,    0.019019,     0.02002,    0.021021,    0.022022,    0.023023,\n",
              "          0.024024,    0.025025,    0.026026,    0.027027,    0.028028,    0.029029,     0.03003,    0.031031,    0.032032,    0.033033,    0.034034,    0.035035,    0.036036,    0.037037,    0.038038,    0.039039,     0.04004,    0.041041,    0.042042,    0.043043,    0.044044,    0.045045,    0.046046,    0.047047,\n",
              "          0.048048,    0.049049,     0.05005,    0.051051,    0.052052,    0.053053,    0.054054,    0.055055,    0.056056,    0.057057,    0.058058,    0.059059,     0.06006,    0.061061,    0.062062,    0.063063,    0.064064,    0.065065,    0.066066,    0.067067,    0.068068,    0.069069,     0.07007,    0.071071,\n",
              "          0.072072,    0.073073,    0.074074,    0.075075,    0.076076,    0.077077,    0.078078,    0.079079,     0.08008,    0.081081,    0.082082,    0.083083,    0.084084,    0.085085,    0.086086,    0.087087,    0.088088,    0.089089,     0.09009,    0.091091,    0.092092,    0.093093,    0.094094,    0.095095,\n",
              "          0.096096,    0.097097,    0.098098,    0.099099,      0.1001,      0.1011,      0.1021,      0.1031,      0.1041,     0.10511,     0.10611,     0.10711,     0.10811,     0.10911,     0.11011,     0.11111,     0.11211,     0.11311,     0.11411,     0.11512,     0.11612,     0.11712,     0.11812,     0.11912,\n",
              "           0.12012,     0.12112,     0.12212,     0.12312,     0.12412,     0.12513,     0.12613,     0.12713,     0.12813,     0.12913,     0.13013,     0.13113,     0.13213,     0.13313,     0.13413,     0.13514,     0.13614,     0.13714,     0.13814,     0.13914,     0.14014,     0.14114,     0.14214,     0.14314,\n",
              "           0.14414,     0.14515,     0.14615,     0.14715,     0.14815,     0.14915,     0.15015,     0.15115,     0.15215,     0.15315,     0.15415,     0.15516,     0.15616,     0.15716,     0.15816,     0.15916,     0.16016,     0.16116,     0.16216,     0.16316,     0.16416,     0.16517,     0.16617,     0.16717,\n",
              "           0.16817,     0.16917,     0.17017,     0.17117,     0.17217,     0.17317,     0.17417,     0.17518,     0.17618,     0.17718,     0.17818,     0.17918,     0.18018,     0.18118,     0.18218,     0.18318,     0.18418,     0.18519,     0.18619,     0.18719,     0.18819,     0.18919,     0.19019,     0.19119,\n",
              "           0.19219,     0.19319,     0.19419,      0.1952,      0.1962,      0.1972,      0.1982,      0.1992,      0.2002,      0.2012,      0.2022,      0.2032,      0.2042,     0.20521,     0.20621,     0.20721,     0.20821,     0.20921,     0.21021,     0.21121,     0.21221,     0.21321,     0.21421,     0.21522,\n",
              "           0.21622,     0.21722,     0.21822,     0.21922,     0.22022,     0.22122,     0.22222,     0.22322,     0.22422,     0.22523,     0.22623,     0.22723,     0.22823,     0.22923,     0.23023,     0.23123,     0.23223,     0.23323,     0.23423,     0.23524,     0.23624,     0.23724,     0.23824,     0.23924,\n",
              "           0.24024,     0.24124,     0.24224,     0.24324,     0.24424,     0.24525,     0.24625,     0.24725,     0.24825,     0.24925,     0.25025,     0.25125,     0.25225,     0.25325,     0.25425,     0.25526,     0.25626,     0.25726,     0.25826,     0.25926,     0.26026,     0.26126,     0.26226,     0.26326,\n",
              "           0.26426,     0.26527,     0.26627,     0.26727,     0.26827,     0.26927,     0.27027,     0.27127,     0.27227,     0.27327,     0.27427,     0.27528,     0.27628,     0.27728,     0.27828,     0.27928,     0.28028,     0.28128,     0.28228,     0.28328,     0.28428,     0.28529,     0.28629,     0.28729,\n",
              "           0.28829,     0.28929,     0.29029,     0.29129,     0.29229,     0.29329,     0.29429,      0.2953,      0.2963,      0.2973,      0.2983,      0.2993,      0.3003,      0.3013,      0.3023,      0.3033,      0.3043,     0.30531,     0.30631,     0.30731,     0.30831,     0.30931,     0.31031,     0.31131,\n",
              "           0.31231,     0.31331,     0.31431,     0.31532,     0.31632,     0.31732,     0.31832,     0.31932,     0.32032,     0.32132,     0.32232,     0.32332,     0.32432,     0.32533,     0.32633,     0.32733,     0.32833,     0.32933,     0.33033,     0.33133,     0.33233,     0.33333,     0.33433,     0.33534,\n",
              "           0.33634,     0.33734,     0.33834,     0.33934,     0.34034,     0.34134,     0.34234,     0.34334,     0.34434,     0.34535,     0.34635,     0.34735,     0.34835,     0.34935,     0.35035,     0.35135,     0.35235,     0.35335,     0.35435,     0.35536,     0.35636,     0.35736,     0.35836,     0.35936,\n",
              "           0.36036,     0.36136,     0.36236,     0.36336,     0.36436,     0.36537,     0.36637,     0.36737,     0.36837,     0.36937,     0.37037,     0.37137,     0.37237,     0.37337,     0.37437,     0.37538,     0.37638,     0.37738,     0.37838,     0.37938,     0.38038,     0.38138,     0.38238,     0.38338,\n",
              "           0.38438,     0.38539,     0.38639,     0.38739,     0.38839,     0.38939,     0.39039,     0.39139,     0.39239,     0.39339,     0.39439,      0.3954,      0.3964,      0.3974,      0.3984,      0.3994,      0.4004,      0.4014,      0.4024,      0.4034,      0.4044,     0.40541,     0.40641,     0.40741,\n",
              "           0.40841,     0.40941,     0.41041,     0.41141,     0.41241,     0.41341,     0.41441,     0.41542,     0.41642,     0.41742,     0.41842,     0.41942,     0.42042,     0.42142,     0.42242,     0.42342,     0.42442,     0.42543,     0.42643,     0.42743,     0.42843,     0.42943,     0.43043,     0.43143,\n",
              "           0.43243,     0.43343,     0.43443,     0.43544,     0.43644,     0.43744,     0.43844,     0.43944,     0.44044,     0.44144,     0.44244,     0.44344,     0.44444,     0.44545,     0.44645,     0.44745,     0.44845,     0.44945,     0.45045,     0.45145,     0.45245,     0.45345,     0.45445,     0.45546,\n",
              "           0.45646,     0.45746,     0.45846,     0.45946,     0.46046,     0.46146,     0.46246,     0.46346,     0.46446,     0.46547,     0.46647,     0.46747,     0.46847,     0.46947,     0.47047,     0.47147,     0.47247,     0.47347,     0.47447,     0.47548,     0.47648,     0.47748,     0.47848,     0.47948,\n",
              "           0.48048,     0.48148,     0.48248,     0.48348,     0.48448,     0.48549,     0.48649,     0.48749,     0.48849,     0.48949,     0.49049,     0.49149,     0.49249,     0.49349,     0.49449,      0.4955,      0.4965,      0.4975,      0.4985,      0.4995,      0.5005,      0.5015,      0.5025,      0.5035,\n",
              "            0.5045,     0.50551,     0.50651,     0.50751,     0.50851,     0.50951,     0.51051,     0.51151,     0.51251,     0.51351,     0.51451,     0.51552,     0.51652,     0.51752,     0.51852,     0.51952,     0.52052,     0.52152,     0.52252,     0.52352,     0.52452,     0.52553,     0.52653,     0.52753,\n",
              "           0.52853,     0.52953,     0.53053,     0.53153,     0.53253,     0.53353,     0.53453,     0.53554,     0.53654,     0.53754,     0.53854,     0.53954,     0.54054,     0.54154,     0.54254,     0.54354,     0.54454,     0.54555,     0.54655,     0.54755,     0.54855,     0.54955,     0.55055,     0.55155,\n",
              "           0.55255,     0.55355,     0.55455,     0.55556,     0.55656,     0.55756,     0.55856,     0.55956,     0.56056,     0.56156,     0.56256,     0.56356,     0.56456,     0.56557,     0.56657,     0.56757,     0.56857,     0.56957,     0.57057,     0.57157,     0.57257,     0.57357,     0.57457,     0.57558,\n",
              "           0.57658,     0.57758,     0.57858,     0.57958,     0.58058,     0.58158,     0.58258,     0.58358,     0.58458,     0.58559,     0.58659,     0.58759,     0.58859,     0.58959,     0.59059,     0.59159,     0.59259,     0.59359,     0.59459,      0.5956,      0.5966,      0.5976,      0.5986,      0.5996,\n",
              "            0.6006,      0.6016,      0.6026,      0.6036,      0.6046,     0.60561,     0.60661,     0.60761,     0.60861,     0.60961,     0.61061,     0.61161,     0.61261,     0.61361,     0.61461,     0.61562,     0.61662,     0.61762,     0.61862,     0.61962,     0.62062,     0.62162,     0.62262,     0.62362,\n",
              "           0.62462,     0.62563,     0.62663,     0.62763,     0.62863,     0.62963,     0.63063,     0.63163,     0.63263,     0.63363,     0.63463,     0.63564,     0.63664,     0.63764,     0.63864,     0.63964,     0.64064,     0.64164,     0.64264,     0.64364,     0.64464,     0.64565,     0.64665,     0.64765,\n",
              "           0.64865,     0.64965,     0.65065,     0.65165,     0.65265,     0.65365,     0.65465,     0.65566,     0.65666,     0.65766,     0.65866,     0.65966,     0.66066,     0.66166,     0.66266,     0.66366,     0.66466,     0.66567,     0.66667,     0.66767,     0.66867,     0.66967,     0.67067,     0.67167,\n",
              "           0.67267,     0.67367,     0.67467,     0.67568,     0.67668,     0.67768,     0.67868,     0.67968,     0.68068,     0.68168,     0.68268,     0.68368,     0.68468,     0.68569,     0.68669,     0.68769,     0.68869,     0.68969,     0.69069,     0.69169,     0.69269,     0.69369,     0.69469,      0.6957,\n",
              "            0.6967,      0.6977,      0.6987,      0.6997,      0.7007,      0.7017,      0.7027,      0.7037,      0.7047,     0.70571,     0.70671,     0.70771,     0.70871,     0.70971,     0.71071,     0.71171,     0.71271,     0.71371,     0.71471,     0.71572,     0.71672,     0.71772,     0.71872,     0.71972,\n",
              "           0.72072,     0.72172,     0.72272,     0.72372,     0.72472,     0.72573,     0.72673,     0.72773,     0.72873,     0.72973,     0.73073,     0.73173,     0.73273,     0.73373,     0.73473,     0.73574,     0.73674,     0.73774,     0.73874,     0.73974,     0.74074,     0.74174,     0.74274,     0.74374,\n",
              "           0.74474,     0.74575,     0.74675,     0.74775,     0.74875,     0.74975,     0.75075,     0.75175,     0.75275,     0.75375,     0.75475,     0.75576,     0.75676,     0.75776,     0.75876,     0.75976,     0.76076,     0.76176,     0.76276,     0.76376,     0.76476,     0.76577,     0.76677,     0.76777,\n",
              "           0.76877,     0.76977,     0.77077,     0.77177,     0.77277,     0.77377,     0.77477,     0.77578,     0.77678,     0.77778,     0.77878,     0.77978,     0.78078,     0.78178,     0.78278,     0.78378,     0.78478,     0.78579,     0.78679,     0.78779,     0.78879,     0.78979,     0.79079,     0.79179,\n",
              "           0.79279,     0.79379,     0.79479,      0.7958,      0.7968,      0.7978,      0.7988,      0.7998,      0.8008,      0.8018,      0.8028,      0.8038,      0.8048,     0.80581,     0.80681,     0.80781,     0.80881,     0.80981,     0.81081,     0.81181,     0.81281,     0.81381,     0.81481,     0.81582,\n",
              "           0.81682,     0.81782,     0.81882,     0.81982,     0.82082,     0.82182,     0.82282,     0.82382,     0.82482,     0.82583,     0.82683,     0.82783,     0.82883,     0.82983,     0.83083,     0.83183,     0.83283,     0.83383,     0.83483,     0.83584,     0.83684,     0.83784,     0.83884,     0.83984,\n",
              "           0.84084,     0.84184,     0.84284,     0.84384,     0.84484,     0.84585,     0.84685,     0.84785,     0.84885,     0.84985,     0.85085,     0.85185,     0.85285,     0.85385,     0.85485,     0.85586,     0.85686,     0.85786,     0.85886,     0.85986,     0.86086,     0.86186,     0.86286,     0.86386,\n",
              "           0.86486,     0.86587,     0.86687,     0.86787,     0.86887,     0.86987,     0.87087,     0.87187,     0.87287,     0.87387,     0.87487,     0.87588,     0.87688,     0.87788,     0.87888,     0.87988,     0.88088,     0.88188,     0.88288,     0.88388,     0.88488,     0.88589,     0.88689,     0.88789,\n",
              "           0.88889,     0.88989,     0.89089,     0.89189,     0.89289,     0.89389,     0.89489,      0.8959,      0.8969,      0.8979,      0.8989,      0.8999,      0.9009,      0.9019,      0.9029,      0.9039,      0.9049,     0.90591,     0.90691,     0.90791,     0.90891,     0.90991,     0.91091,     0.91191,\n",
              "           0.91291,     0.91391,     0.91491,     0.91592,     0.91692,     0.91792,     0.91892,     0.91992,     0.92092,     0.92192,     0.92292,     0.92392,     0.92492,     0.92593,     0.92693,     0.92793,     0.92893,     0.92993,     0.93093,     0.93193,     0.93293,     0.93393,     0.93493,     0.93594,\n",
              "           0.93694,     0.93794,     0.93894,     0.93994,     0.94094,     0.94194,     0.94294,     0.94394,     0.94494,     0.94595,     0.94695,     0.94795,     0.94895,     0.94995,     0.95095,     0.95195,     0.95295,     0.95395,     0.95495,     0.95596,     0.95696,     0.95796,     0.95896,     0.95996,\n",
              "           0.96096,     0.96196,     0.96296,     0.96396,     0.96496,     0.96597,     0.96697,     0.96797,     0.96897,     0.96997,     0.97097,     0.97197,     0.97297,     0.97397,     0.97497,     0.97598,     0.97698,     0.97798,     0.97898,     0.97998,     0.98098,     0.98198,     0.98298,     0.98398,\n",
              "           0.98498,     0.98599,     0.98699,     0.98799,     0.98899,     0.98999,     0.99099,     0.99199,     0.99299,     0.99399,     0.99499,       0.996,       0.997,       0.998,       0.999,           1]), array([[    0.87574,     0.87574,     0.90492,     0.91351,     0.92047,     0.92446,     0.92798,     0.93165,     0.93382,     0.93529,     0.93711,     0.93877,     0.93931,     0.94029,     0.94166,     0.94289,     0.94399,     0.94438,     0.94524,     0.94605,     0.94672,     0.94716,     0.94811,\n",
              "            0.94886,     0.94948,     0.95053,     0.95086,      0.9512,     0.95112,     0.95124,     0.95153,     0.95195,     0.95263,     0.95313,     0.95337,     0.95362,     0.95357,     0.95375,     0.95434,     0.95448,     0.95532,     0.95585,     0.95656,     0.95706,     0.95711,     0.95716,\n",
              "            0.95745,      0.9579,     0.95827,     0.95828,     0.95838,      0.9587,      0.9589,     0.95929,     0.95965,     0.95992,      0.9602,     0.96034,     0.96041,     0.96061,     0.96077,     0.96081,     0.96086,     0.96106,     0.96112,     0.96117,     0.96126,     0.96137,      0.9617,\n",
              "            0.96174,     0.96166,     0.96193,     0.96198,     0.96203,     0.96211,     0.96224,     0.96227,      0.9623,     0.96233,     0.96236,      0.9625,     0.96268,     0.96328,     0.96335,     0.96342,     0.96369,     0.96362,     0.96376,     0.96392,     0.96427,     0.96448,     0.96452,\n",
              "            0.96456,     0.96459,     0.96474,     0.96479,     0.96484,     0.96488,     0.96507,      0.9651,     0.96513,     0.96517,      0.9652,     0.96515,     0.96525,     0.96532,     0.96539,     0.96544,     0.96551,     0.96558,     0.96565,     0.96576,     0.96586,     0.96594,     0.96592,\n",
              "            0.96589,     0.96586,     0.96584,     0.96581,     0.96587,     0.96603,     0.96617,     0.96639,     0.96642,     0.96646,     0.96649,     0.96653,     0.96657,     0.96661,     0.96666,     0.96688,     0.96708,     0.96711,     0.96705,     0.96699,     0.96706,     0.96714,     0.96717,\n",
              "             0.9672,     0.96724,     0.96727,     0.96732,     0.96738,     0.96744,     0.96749,     0.96758,     0.96747,     0.96754,     0.96764,     0.96792,     0.96804,     0.96814,     0.96823,      0.9683,     0.96845,     0.96855,     0.96863,     0.96871,     0.96878,     0.96945,     0.96953,\n",
              "            0.96962,     0.96971,     0.96987,     0.96999,     0.97008,     0.97016,      0.9702,     0.97024,     0.97028,     0.97032,     0.97035,     0.97039,     0.97043,     0.97041,     0.97018,     0.97023,     0.97028,      0.9701,        0.97,        0.97,     0.97005,     0.97011,     0.97015,\n",
              "            0.97019,     0.97024,     0.97038,     0.97058,     0.97066,     0.97073,     0.97077,      0.9708,     0.97083,     0.97086,     0.97086,     0.97083,      0.9708,     0.97077,     0.97074,     0.97059,     0.97044,     0.97063,     0.97072,     0.97076,      0.9708,     0.97084,     0.97093,\n",
              "              0.971,     0.97098,     0.97096,     0.97094,     0.97092,      0.9709,     0.97088,     0.97086,     0.97085,     0.97094,     0.97098,     0.97095,     0.97092,     0.97089,     0.97086,     0.97088,     0.97099,       0.971,     0.97101,     0.97102,     0.97103,     0.97104,     0.97104,\n",
              "            0.97105,     0.97106,     0.97107,     0.97108,     0.97109,      0.9711,     0.97111,     0.97111,     0.97112,     0.97113,     0.97117,     0.97141,     0.97133,      0.9713,     0.97135,     0.97141,     0.97148,     0.97158,      0.9717,     0.97187,     0.97195,     0.97202,     0.97209,\n",
              "            0.97216,     0.97222,     0.97228,     0.97233,      0.9724,     0.97251,     0.97265,     0.97257,     0.97251,      0.9726,     0.97267,      0.9727,     0.97273,     0.97276,     0.97279,     0.97281,     0.97283,     0.97285,     0.97286,     0.97288,     0.97289,     0.97291,     0.97293,\n",
              "            0.97294,     0.97296,     0.97315,     0.97318,     0.97322,     0.97326,      0.9733,     0.97334,     0.97338,     0.97342,     0.97357,      0.9735,     0.97344,     0.97335,     0.97326,     0.97336,     0.97342,     0.97345,     0.97347,     0.97349,     0.97352,     0.97354,     0.97356,\n",
              "            0.97366,     0.97367,     0.97358,     0.97368,     0.97388,     0.97389,     0.97391,     0.97392,     0.97394,     0.97396,     0.97397,     0.97399,       0.974,     0.97402,       0.974,     0.97399,     0.97397,     0.97395,     0.97394,     0.97392,     0.97391,     0.97389,     0.97387,\n",
              "            0.97386,     0.97387,     0.97388,     0.97389,     0.97391,     0.97392,     0.97394,     0.97395,     0.97396,     0.97398,     0.97399,       0.974,     0.97388,     0.97407,     0.97415,     0.97431,     0.97432,     0.97433,     0.97434,     0.97435,     0.97436,     0.97437,     0.97438,\n",
              "            0.97439,     0.97439,      0.9744,     0.97441,     0.97442,     0.97443,     0.97444,     0.97445,     0.97446,     0.97452,     0.97458,     0.97449,     0.97446,     0.97447,     0.97448,     0.97448,     0.97449,      0.9745,      0.9745,     0.97451,     0.97452,     0.97453,     0.97453,\n",
              "            0.97454,     0.97455,     0.97455,     0.97456,     0.97457,     0.97458,     0.97458,     0.97459,      0.9746,      0.9746,     0.97461,     0.97476,     0.97467,     0.97477,     0.97481,     0.97485,     0.97489,      0.9749,     0.97488,     0.97485,     0.97483,      0.9748,     0.97477,\n",
              "            0.97475,      0.9748,     0.97486,     0.97493,     0.97512,     0.97518,      0.9751,     0.97503,     0.97499,     0.97494,      0.9749,     0.97493,     0.97498,     0.97504,     0.97518,     0.97511,     0.97503,     0.97501,     0.97498,     0.97496,     0.97494,     0.97491,     0.97489,\n",
              "            0.97506,     0.97515,     0.97519,     0.97521,     0.97523,     0.97525,     0.97527,     0.97529,      0.9753,     0.97532,     0.97535,     0.97543,     0.97548,      0.9754,     0.97536,     0.97549,     0.97553,     0.97557,     0.97561,     0.97565,     0.97569,     0.97572,     0.97575,\n",
              "            0.97579,     0.97578,     0.97577,     0.97575,     0.97573,     0.97572,      0.9757,     0.97568,     0.97567,     0.97565,     0.97563,     0.97578,     0.97584,     0.97589,     0.97594,     0.97579,     0.97587,     0.97607,     0.97587,      0.9757,     0.97558,     0.97552,     0.97547,\n",
              "            0.97552,     0.97564,     0.97572,     0.97584,     0.97605,     0.97602,       0.976,     0.97598,     0.97595,     0.97593,      0.9759,     0.97577,     0.97571,     0.97567,     0.97564,     0.97561,     0.97557,     0.97556,     0.97554,     0.97553,     0.97552,      0.9755,     0.97549,\n",
              "            0.97547,     0.97546,     0.97545,     0.97543,     0.97542,     0.97541,      0.9754,     0.97539,     0.97538,     0.97537,     0.97536,     0.97536,     0.97535,     0.97534,     0.97533,     0.97532,     0.97531,      0.9753,      0.9753,     0.97529,     0.97528,     0.97527,     0.97526,\n",
              "            0.97525,     0.97525,     0.97535,     0.97542,     0.97545,     0.97547,      0.9755,     0.97553,     0.97555,     0.97553,     0.97549,     0.97546,     0.97543,     0.97539,     0.97523,     0.97527,     0.97531,     0.97535,     0.97537,     0.97523,     0.97527,     0.97531,     0.97535,\n",
              "            0.97537,     0.97535,     0.97533,     0.97531,     0.97529,     0.97527,     0.97524,     0.97522,     0.97519,     0.97515,     0.97511,     0.97507,     0.97513,     0.97517,     0.97512,     0.97506,     0.97494,     0.97486,     0.97484,     0.97481,     0.97479,     0.97476,     0.97474,\n",
              "            0.97472,     0.97478,     0.97486,     0.97481,     0.97474,     0.97469,     0.97464,      0.9746,     0.97456,      0.9745,     0.97441,     0.97428,     0.97426,     0.97434,     0.97426,     0.97426,     0.97434,      0.9744,     0.97445,      0.9745,     0.97448,     0.97444,     0.97435,\n",
              "            0.97432,     0.97429,     0.97426,     0.97423,     0.97421,     0.97418,     0.97406,      0.9741,     0.97419,     0.97422,     0.97425,     0.97428,     0.97432,     0.97421,     0.97404,     0.97377,     0.97368,      0.9736,     0.97352,     0.97336,     0.97319,     0.97291,     0.97287,\n",
              "            0.97292,     0.97297,     0.97296,     0.97287,     0.97282,     0.97278,     0.97275,     0.97271,     0.97268,     0.97262,     0.97256,     0.97248,      0.9724,     0.97236,     0.97244,     0.97255,     0.97243,     0.97226,     0.97213,     0.97206,     0.97199,     0.97191,     0.97166,\n",
              "            0.97162,     0.97157,     0.97153,     0.97148,     0.97137,     0.97115,     0.97112,      0.9711,     0.97108,     0.97106,     0.97103,     0.97101,     0.97105,     0.97109,     0.97096,     0.97089,     0.97082,     0.97097,     0.97081,     0.97086,     0.97092,     0.97097,     0.97101,\n",
              "            0.97104,     0.97108,     0.97111,     0.97117,     0.97108,     0.97103,     0.97098,     0.97099,     0.97116,     0.97098,     0.97094,     0.97095,     0.97098,       0.971,     0.97103,     0.97106,     0.97083,     0.97075,     0.97078,     0.97081,     0.97084,     0.97087,     0.97084,\n",
              "            0.97067,     0.97058,     0.97059,     0.97064,     0.97068,     0.97077,     0.97053,     0.97051,     0.97049,     0.97047,     0.97045,     0.97043,     0.97041,     0.97039,     0.97052,     0.97019,     0.96983,     0.96966,     0.96961,     0.96955,     0.96945,     0.96923,     0.96933,\n",
              "            0.96921,     0.96911,     0.96902,     0.96856,     0.96862,     0.96851,     0.96864,      0.9688,     0.96907,      0.9691,     0.96905,       0.969,     0.96894,     0.96883,     0.96889,     0.96892,     0.96877,     0.96872,     0.96867,     0.96863,     0.96836,     0.96806,     0.96783,\n",
              "            0.96772,     0.96765,     0.96759,     0.96754,     0.96749,     0.96744,     0.96762,     0.96766,     0.96771,     0.96773,     0.96784,     0.96788,     0.96784,      0.9678,     0.96776,     0.96769,     0.96755,     0.96748,     0.96741,     0.96709,      0.9672,     0.96707,     0.96702,\n",
              "            0.96667,      0.9666,     0.96653,     0.96611,     0.96584,     0.96566,     0.96557,     0.96529,     0.96522,     0.96497,     0.96485,     0.96492,     0.96483,     0.96434,     0.96421,     0.96408,     0.96399,      0.9639,     0.96378,     0.96361,     0.96356,     0.96342,     0.96299,\n",
              "            0.96295,     0.96305,     0.96266,     0.96237,     0.96229,     0.96189,     0.96181,     0.96157,     0.96128,      0.9612,     0.96062,      0.9604,     0.96021,      0.9601,     0.95998,     0.95938,     0.95914,       0.959,     0.95878,     0.95859,     0.95839,     0.95804,     0.95743,\n",
              "            0.95732,     0.95726,     0.95711,     0.95687,     0.95623,     0.95583,     0.95518,     0.95478,     0.95453,     0.95441,     0.95391,     0.95399,     0.95334,     0.95298,     0.95195,     0.95167,     0.95141,     0.95128,     0.95112,     0.95015,     0.94996,     0.94925,     0.94903,\n",
              "            0.94835,     0.94783,     0.94765,      0.9474,     0.94718,     0.94652,     0.94585,     0.94509,     0.94455,     0.94354,     0.94336,     0.94292,      0.9414,     0.94128,     0.93994,     0.93931,     0.93912,     0.93819,     0.93711,     0.93559,     0.93457,       0.934,     0.93273,\n",
              "            0.93248,     0.93101,      0.9306,     0.92929,     0.92852,     0.92744,     0.92686,      0.9252,     0.92424,     0.92358,     0.92327,     0.92213,     0.91989,     0.91895,     0.91576,     0.91441,     0.91252,     0.91064,     0.90947,     0.90851,      0.9079,      0.9056,     0.90268,\n",
              "            0.90017,     0.89725,     0.89471,     0.89255,     0.88936,     0.88698,      0.8842,      0.8812,     0.87592,      0.8707,     0.86701,     0.86288,     0.85955,     0.85563,     0.84887,     0.84305,     0.83889,     0.83193,     0.82841,      0.8237,     0.82095,     0.81332,     0.80673,\n",
              "            0.80167,     0.79541,     0.78768,     0.78199,     0.77696,      0.7668,     0.75553,     0.74388,     0.73546,     0.72719,     0.71061,     0.70146,     0.68445,     0.67309,     0.65502,     0.64358,     0.62287,     0.60277,     0.58672,      0.5609,     0.54745,     0.52659,     0.50713,\n",
              "            0.48605,     0.46626,     0.44361,     0.41747,     0.38711,     0.36204,     0.34459,     0.31682,     0.29606,     0.27574,     0.24903,     0.23009,     0.20246,     0.18672,     0.16855,     0.15057,     0.13334,     0.12092,     0.10717,    0.095561,    0.080259,    0.068313,    0.061062,\n",
              "           0.049486,    0.040243,    0.028462,     0.02651,    0.023345,     0.02017,    0.016778,    0.013154,   0.0093096,   0.0073643,   0.0069573,   0.0066302,   0.0059931,   0.0052252,   0.0043692,   0.0040412,   0.0035775,   0.0030167,   0.0025787,   0.0022473,   0.0019111,   0.0012825,   0.0012401,\n",
              "          0.0011976,   0.0011552,   0.0011127,   0.0010703,   0.0010278,  0.00098535,  0.00094289,  0.00090042,  0.00085796,   0.0008155,  0.00077303,  0.00073056,  0.00068809,  0.00064562,           0,           0,           0,           0,           0,           0,           0,           0,           0,\n",
              "                  0,           0,           0,           0,           0,           0,           0,           0,           0,           0,           0,           0,           0,           0,           0,           0,           0,           0,           0,           0,           0,           0,           0,\n",
              "                  0,           0,           0,           0,           0,           0,           0,           0,           0,           0,           0]]), 'Confidence', 'F1'], [array([          0,    0.001001,    0.002002,    0.003003,    0.004004,    0.005005,    0.006006,    0.007007,    0.008008,    0.009009,     0.01001,    0.011011,    0.012012,    0.013013,    0.014014,    0.015015,    0.016016,    0.017017,    0.018018,    0.019019,     0.02002,    0.021021,    0.022022,    0.023023,\n",
              "          0.024024,    0.025025,    0.026026,    0.027027,    0.028028,    0.029029,     0.03003,    0.031031,    0.032032,    0.033033,    0.034034,    0.035035,    0.036036,    0.037037,    0.038038,    0.039039,     0.04004,    0.041041,    0.042042,    0.043043,    0.044044,    0.045045,    0.046046,    0.047047,\n",
              "          0.048048,    0.049049,     0.05005,    0.051051,    0.052052,    0.053053,    0.054054,    0.055055,    0.056056,    0.057057,    0.058058,    0.059059,     0.06006,    0.061061,    0.062062,    0.063063,    0.064064,    0.065065,    0.066066,    0.067067,    0.068068,    0.069069,     0.07007,    0.071071,\n",
              "          0.072072,    0.073073,    0.074074,    0.075075,    0.076076,    0.077077,    0.078078,    0.079079,     0.08008,    0.081081,    0.082082,    0.083083,    0.084084,    0.085085,    0.086086,    0.087087,    0.088088,    0.089089,     0.09009,    0.091091,    0.092092,    0.093093,    0.094094,    0.095095,\n",
              "          0.096096,    0.097097,    0.098098,    0.099099,      0.1001,      0.1011,      0.1021,      0.1031,      0.1041,     0.10511,     0.10611,     0.10711,     0.10811,     0.10911,     0.11011,     0.11111,     0.11211,     0.11311,     0.11411,     0.11512,     0.11612,     0.11712,     0.11812,     0.11912,\n",
              "           0.12012,     0.12112,     0.12212,     0.12312,     0.12412,     0.12513,     0.12613,     0.12713,     0.12813,     0.12913,     0.13013,     0.13113,     0.13213,     0.13313,     0.13413,     0.13514,     0.13614,     0.13714,     0.13814,     0.13914,     0.14014,     0.14114,     0.14214,     0.14314,\n",
              "           0.14414,     0.14515,     0.14615,     0.14715,     0.14815,     0.14915,     0.15015,     0.15115,     0.15215,     0.15315,     0.15415,     0.15516,     0.15616,     0.15716,     0.15816,     0.15916,     0.16016,     0.16116,     0.16216,     0.16316,     0.16416,     0.16517,     0.16617,     0.16717,\n",
              "           0.16817,     0.16917,     0.17017,     0.17117,     0.17217,     0.17317,     0.17417,     0.17518,     0.17618,     0.17718,     0.17818,     0.17918,     0.18018,     0.18118,     0.18218,     0.18318,     0.18418,     0.18519,     0.18619,     0.18719,     0.18819,     0.18919,     0.19019,     0.19119,\n",
              "           0.19219,     0.19319,     0.19419,      0.1952,      0.1962,      0.1972,      0.1982,      0.1992,      0.2002,      0.2012,      0.2022,      0.2032,      0.2042,     0.20521,     0.20621,     0.20721,     0.20821,     0.20921,     0.21021,     0.21121,     0.21221,     0.21321,     0.21421,     0.21522,\n",
              "           0.21622,     0.21722,     0.21822,     0.21922,     0.22022,     0.22122,     0.22222,     0.22322,     0.22422,     0.22523,     0.22623,     0.22723,     0.22823,     0.22923,     0.23023,     0.23123,     0.23223,     0.23323,     0.23423,     0.23524,     0.23624,     0.23724,     0.23824,     0.23924,\n",
              "           0.24024,     0.24124,     0.24224,     0.24324,     0.24424,     0.24525,     0.24625,     0.24725,     0.24825,     0.24925,     0.25025,     0.25125,     0.25225,     0.25325,     0.25425,     0.25526,     0.25626,     0.25726,     0.25826,     0.25926,     0.26026,     0.26126,     0.26226,     0.26326,\n",
              "           0.26426,     0.26527,     0.26627,     0.26727,     0.26827,     0.26927,     0.27027,     0.27127,     0.27227,     0.27327,     0.27427,     0.27528,     0.27628,     0.27728,     0.27828,     0.27928,     0.28028,     0.28128,     0.28228,     0.28328,     0.28428,     0.28529,     0.28629,     0.28729,\n",
              "           0.28829,     0.28929,     0.29029,     0.29129,     0.29229,     0.29329,     0.29429,      0.2953,      0.2963,      0.2973,      0.2983,      0.2993,      0.3003,      0.3013,      0.3023,      0.3033,      0.3043,     0.30531,     0.30631,     0.30731,     0.30831,     0.30931,     0.31031,     0.31131,\n",
              "           0.31231,     0.31331,     0.31431,     0.31532,     0.31632,     0.31732,     0.31832,     0.31932,     0.32032,     0.32132,     0.32232,     0.32332,     0.32432,     0.32533,     0.32633,     0.32733,     0.32833,     0.32933,     0.33033,     0.33133,     0.33233,     0.33333,     0.33433,     0.33534,\n",
              "           0.33634,     0.33734,     0.33834,     0.33934,     0.34034,     0.34134,     0.34234,     0.34334,     0.34434,     0.34535,     0.34635,     0.34735,     0.34835,     0.34935,     0.35035,     0.35135,     0.35235,     0.35335,     0.35435,     0.35536,     0.35636,     0.35736,     0.35836,     0.35936,\n",
              "           0.36036,     0.36136,     0.36236,     0.36336,     0.36436,     0.36537,     0.36637,     0.36737,     0.36837,     0.36937,     0.37037,     0.37137,     0.37237,     0.37337,     0.37437,     0.37538,     0.37638,     0.37738,     0.37838,     0.37938,     0.38038,     0.38138,     0.38238,     0.38338,\n",
              "           0.38438,     0.38539,     0.38639,     0.38739,     0.38839,     0.38939,     0.39039,     0.39139,     0.39239,     0.39339,     0.39439,      0.3954,      0.3964,      0.3974,      0.3984,      0.3994,      0.4004,      0.4014,      0.4024,      0.4034,      0.4044,     0.40541,     0.40641,     0.40741,\n",
              "           0.40841,     0.40941,     0.41041,     0.41141,     0.41241,     0.41341,     0.41441,     0.41542,     0.41642,     0.41742,     0.41842,     0.41942,     0.42042,     0.42142,     0.42242,     0.42342,     0.42442,     0.42543,     0.42643,     0.42743,     0.42843,     0.42943,     0.43043,     0.43143,\n",
              "           0.43243,     0.43343,     0.43443,     0.43544,     0.43644,     0.43744,     0.43844,     0.43944,     0.44044,     0.44144,     0.44244,     0.44344,     0.44444,     0.44545,     0.44645,     0.44745,     0.44845,     0.44945,     0.45045,     0.45145,     0.45245,     0.45345,     0.45445,     0.45546,\n",
              "           0.45646,     0.45746,     0.45846,     0.45946,     0.46046,     0.46146,     0.46246,     0.46346,     0.46446,     0.46547,     0.46647,     0.46747,     0.46847,     0.46947,     0.47047,     0.47147,     0.47247,     0.47347,     0.47447,     0.47548,     0.47648,     0.47748,     0.47848,     0.47948,\n",
              "           0.48048,     0.48148,     0.48248,     0.48348,     0.48448,     0.48549,     0.48649,     0.48749,     0.48849,     0.48949,     0.49049,     0.49149,     0.49249,     0.49349,     0.49449,      0.4955,      0.4965,      0.4975,      0.4985,      0.4995,      0.5005,      0.5015,      0.5025,      0.5035,\n",
              "            0.5045,     0.50551,     0.50651,     0.50751,     0.50851,     0.50951,     0.51051,     0.51151,     0.51251,     0.51351,     0.51451,     0.51552,     0.51652,     0.51752,     0.51852,     0.51952,     0.52052,     0.52152,     0.52252,     0.52352,     0.52452,     0.52553,     0.52653,     0.52753,\n",
              "           0.52853,     0.52953,     0.53053,     0.53153,     0.53253,     0.53353,     0.53453,     0.53554,     0.53654,     0.53754,     0.53854,     0.53954,     0.54054,     0.54154,     0.54254,     0.54354,     0.54454,     0.54555,     0.54655,     0.54755,     0.54855,     0.54955,     0.55055,     0.55155,\n",
              "           0.55255,     0.55355,     0.55455,     0.55556,     0.55656,     0.55756,     0.55856,     0.55956,     0.56056,     0.56156,     0.56256,     0.56356,     0.56456,     0.56557,     0.56657,     0.56757,     0.56857,     0.56957,     0.57057,     0.57157,     0.57257,     0.57357,     0.57457,     0.57558,\n",
              "           0.57658,     0.57758,     0.57858,     0.57958,     0.58058,     0.58158,     0.58258,     0.58358,     0.58458,     0.58559,     0.58659,     0.58759,     0.58859,     0.58959,     0.59059,     0.59159,     0.59259,     0.59359,     0.59459,      0.5956,      0.5966,      0.5976,      0.5986,      0.5996,\n",
              "            0.6006,      0.6016,      0.6026,      0.6036,      0.6046,     0.60561,     0.60661,     0.60761,     0.60861,     0.60961,     0.61061,     0.61161,     0.61261,     0.61361,     0.61461,     0.61562,     0.61662,     0.61762,     0.61862,     0.61962,     0.62062,     0.62162,     0.62262,     0.62362,\n",
              "           0.62462,     0.62563,     0.62663,     0.62763,     0.62863,     0.62963,     0.63063,     0.63163,     0.63263,     0.63363,     0.63463,     0.63564,     0.63664,     0.63764,     0.63864,     0.63964,     0.64064,     0.64164,     0.64264,     0.64364,     0.64464,     0.64565,     0.64665,     0.64765,\n",
              "           0.64865,     0.64965,     0.65065,     0.65165,     0.65265,     0.65365,     0.65465,     0.65566,     0.65666,     0.65766,     0.65866,     0.65966,     0.66066,     0.66166,     0.66266,     0.66366,     0.66466,     0.66567,     0.66667,     0.66767,     0.66867,     0.66967,     0.67067,     0.67167,\n",
              "           0.67267,     0.67367,     0.67467,     0.67568,     0.67668,     0.67768,     0.67868,     0.67968,     0.68068,     0.68168,     0.68268,     0.68368,     0.68468,     0.68569,     0.68669,     0.68769,     0.68869,     0.68969,     0.69069,     0.69169,     0.69269,     0.69369,     0.69469,      0.6957,\n",
              "            0.6967,      0.6977,      0.6987,      0.6997,      0.7007,      0.7017,      0.7027,      0.7037,      0.7047,     0.70571,     0.70671,     0.70771,     0.70871,     0.70971,     0.71071,     0.71171,     0.71271,     0.71371,     0.71471,     0.71572,     0.71672,     0.71772,     0.71872,     0.71972,\n",
              "           0.72072,     0.72172,     0.72272,     0.72372,     0.72472,     0.72573,     0.72673,     0.72773,     0.72873,     0.72973,     0.73073,     0.73173,     0.73273,     0.73373,     0.73473,     0.73574,     0.73674,     0.73774,     0.73874,     0.73974,     0.74074,     0.74174,     0.74274,     0.74374,\n",
              "           0.74474,     0.74575,     0.74675,     0.74775,     0.74875,     0.74975,     0.75075,     0.75175,     0.75275,     0.75375,     0.75475,     0.75576,     0.75676,     0.75776,     0.75876,     0.75976,     0.76076,     0.76176,     0.76276,     0.76376,     0.76476,     0.76577,     0.76677,     0.76777,\n",
              "           0.76877,     0.76977,     0.77077,     0.77177,     0.77277,     0.77377,     0.77477,     0.77578,     0.77678,     0.77778,     0.77878,     0.77978,     0.78078,     0.78178,     0.78278,     0.78378,     0.78478,     0.78579,     0.78679,     0.78779,     0.78879,     0.78979,     0.79079,     0.79179,\n",
              "           0.79279,     0.79379,     0.79479,      0.7958,      0.7968,      0.7978,      0.7988,      0.7998,      0.8008,      0.8018,      0.8028,      0.8038,      0.8048,     0.80581,     0.80681,     0.80781,     0.80881,     0.80981,     0.81081,     0.81181,     0.81281,     0.81381,     0.81481,     0.81582,\n",
              "           0.81682,     0.81782,     0.81882,     0.81982,     0.82082,     0.82182,     0.82282,     0.82382,     0.82482,     0.82583,     0.82683,     0.82783,     0.82883,     0.82983,     0.83083,     0.83183,     0.83283,     0.83383,     0.83483,     0.83584,     0.83684,     0.83784,     0.83884,     0.83984,\n",
              "           0.84084,     0.84184,     0.84284,     0.84384,     0.84484,     0.84585,     0.84685,     0.84785,     0.84885,     0.84985,     0.85085,     0.85185,     0.85285,     0.85385,     0.85485,     0.85586,     0.85686,     0.85786,     0.85886,     0.85986,     0.86086,     0.86186,     0.86286,     0.86386,\n",
              "           0.86486,     0.86587,     0.86687,     0.86787,     0.86887,     0.86987,     0.87087,     0.87187,     0.87287,     0.87387,     0.87487,     0.87588,     0.87688,     0.87788,     0.87888,     0.87988,     0.88088,     0.88188,     0.88288,     0.88388,     0.88488,     0.88589,     0.88689,     0.88789,\n",
              "           0.88889,     0.88989,     0.89089,     0.89189,     0.89289,     0.89389,     0.89489,      0.8959,      0.8969,      0.8979,      0.8989,      0.8999,      0.9009,      0.9019,      0.9029,      0.9039,      0.9049,     0.90591,     0.90691,     0.90791,     0.90891,     0.90991,     0.91091,     0.91191,\n",
              "           0.91291,     0.91391,     0.91491,     0.91592,     0.91692,     0.91792,     0.91892,     0.91992,     0.92092,     0.92192,     0.92292,     0.92392,     0.92492,     0.92593,     0.92693,     0.92793,     0.92893,     0.92993,     0.93093,     0.93193,     0.93293,     0.93393,     0.93493,     0.93594,\n",
              "           0.93694,     0.93794,     0.93894,     0.93994,     0.94094,     0.94194,     0.94294,     0.94394,     0.94494,     0.94595,     0.94695,     0.94795,     0.94895,     0.94995,     0.95095,     0.95195,     0.95295,     0.95395,     0.95495,     0.95596,     0.95696,     0.95796,     0.95896,     0.95996,\n",
              "           0.96096,     0.96196,     0.96296,     0.96396,     0.96496,     0.96597,     0.96697,     0.96797,     0.96897,     0.96997,     0.97097,     0.97197,     0.97297,     0.97397,     0.97497,     0.97598,     0.97698,     0.97798,     0.97898,     0.97998,     0.98098,     0.98198,     0.98298,     0.98398,\n",
              "           0.98498,     0.98599,     0.98699,     0.98799,     0.98899,     0.98999,     0.99099,     0.99199,     0.99299,     0.99399,     0.99499,       0.996,       0.997,       0.998,       0.999,           1]), array([[    0.77973,     0.77973,     0.82724,      0.8417,     0.85359,      0.8612,     0.86733,     0.87377,     0.87784,     0.88043,     0.88367,     0.88663,     0.88759,     0.88934,     0.89179,     0.89401,     0.89599,     0.89695,      0.8985,     0.90023,     0.90144,     0.90225,     0.90397,\n",
              "            0.90533,     0.90646,     0.90837,     0.90897,     0.90987,        0.91,     0.91021,     0.91074,     0.91151,     0.91276,     0.91368,     0.91412,     0.91471,     0.91475,     0.91509,     0.91617,     0.91671,     0.91853,     0.91952,     0.92083,     0.92175,     0.92184,     0.92193,\n",
              "            0.92248,     0.92331,     0.92401,     0.92419,     0.92449,     0.92508,     0.92544,     0.92618,     0.92685,     0.92735,     0.92788,     0.92814,     0.92827,     0.92865,     0.92894,     0.92902,     0.92911,     0.92948,     0.92959,      0.9297,     0.92985,     0.93006,     0.93069,\n",
              "            0.93084,     0.93083,     0.93139,     0.93149,     0.93159,     0.93174,     0.93197,     0.93203,     0.93209,     0.93215,     0.93221,     0.93246,     0.93309,     0.93422,     0.93434,     0.93448,     0.93502,     0.93513,     0.93539,      0.9357,     0.93636,     0.93675,     0.93682,\n",
              "             0.9369,     0.93697,     0.93725,     0.93735,     0.93743,     0.93751,     0.93786,     0.93793,     0.93799,     0.93805,     0.93811,      0.9383,     0.93849,     0.93863,     0.93875,     0.93887,     0.93898,     0.93911,     0.93925,     0.93946,     0.93966,     0.93982,     0.93981,\n",
              "            0.93981,     0.93981,     0.93981,      0.9398,     0.93996,     0.94026,     0.94054,     0.94094,     0.94101,     0.94107,     0.94114,      0.9412,     0.94128,     0.94136,     0.94145,     0.94188,     0.94226,     0.94237,     0.94237,     0.94236,      0.9425,     0.94265,     0.94271,\n",
              "            0.94278,     0.94284,      0.9429,     0.94299,     0.94311,     0.94322,      0.9435,     0.94378,     0.94387,       0.944,     0.94419,     0.94471,     0.94495,     0.94514,      0.9453,     0.94544,     0.94573,     0.94592,     0.94608,     0.94622,     0.94636,     0.94764,      0.9478,\n",
              "            0.94796,     0.94813,     0.94845,     0.94866,     0.94885,     0.94901,     0.94908,     0.94915,     0.94922,      0.9493,     0.94937,     0.94944,     0.94951,     0.94957,     0.94962,     0.94972,     0.94982,     0.94981,      0.9498,     0.94986,     0.94997,     0.95007,     0.95016,\n",
              "            0.95024,     0.95033,      0.9506,     0.95098,     0.95114,     0.95128,     0.95134,      0.9514,     0.95146,     0.95153,     0.95156,     0.95155,     0.95155,     0.95155,     0.95154,     0.95153,     0.95152,     0.95196,     0.95213,     0.95221,     0.95229,     0.95237,     0.95254,\n",
              "            0.95269,     0.95269,     0.95269,     0.95268,     0.95268,     0.95268,     0.95268,     0.95268,     0.95268,     0.95287,     0.95297,     0.95297,     0.95296,     0.95296,     0.95296,     0.95304,     0.95326,     0.95328,     0.95329,     0.95331,     0.95333,     0.95335,     0.95336,\n",
              "            0.95338,      0.9534,     0.95341,     0.95343,     0.95345,     0.95346,     0.95348,      0.9535,     0.95351,     0.95353,     0.95361,     0.95413,     0.95413,     0.95416,     0.95426,     0.95436,      0.9545,      0.9547,     0.95492,     0.95525,     0.95542,     0.95555,     0.95568,\n",
              "            0.95581,     0.95594,     0.95604,     0.95614,     0.95628,     0.95649,     0.95679,     0.95678,     0.95678,     0.95696,      0.9571,     0.95715,     0.95721,     0.95727,     0.95733,     0.95738,     0.95741,     0.95744,     0.95747,     0.95751,     0.95754,     0.95757,      0.9576,\n",
              "            0.95763,     0.95766,     0.95802,      0.9581,     0.95818,     0.95825,     0.95833,     0.95841,     0.95848,     0.95856,     0.95886,     0.95886,     0.95885,     0.95885,     0.95884,     0.95905,     0.95916,     0.95921,     0.95925,      0.9593,     0.95935,     0.95939,     0.95944,\n",
              "            0.95963,     0.95973,     0.95973,     0.95997,     0.96035,     0.96038,     0.96041,     0.96044,     0.96047,      0.9605,     0.96053,     0.96057,      0.9606,     0.96062,     0.96062,     0.96062,     0.96062,     0.96062,     0.96062,     0.96062,     0.96062,     0.96062,     0.96061,\n",
              "            0.96061,     0.96063,     0.96066,     0.96069,     0.96071,     0.96074,     0.96077,      0.9608,     0.96082,     0.96085,     0.96088,      0.9609,      0.9609,     0.96133,     0.96149,     0.96181,     0.96182,     0.96184,     0.96186,     0.96188,      0.9619,     0.96191,     0.96193,\n",
              "            0.96195,     0.96197,     0.96199,       0.962,     0.96202,     0.96204,     0.96206,     0.96208,     0.96209,     0.96221,      0.9624,      0.9624,      0.9624,     0.96242,     0.96243,     0.96245,     0.96246,     0.96247,     0.96249,      0.9625,     0.96251,     0.96253,     0.96254,\n",
              "            0.96256,     0.96257,     0.96258,      0.9626,     0.96261,     0.96263,     0.96264,     0.96265,     0.96267,     0.96268,      0.9627,     0.96299,     0.96299,     0.96331,     0.96339,     0.96346,     0.96354,     0.96359,     0.96359,     0.96359,     0.96358,     0.96358,     0.96358,\n",
              "            0.96358,     0.96369,     0.96379,     0.96393,      0.9643,     0.96449,     0.96448,     0.96448,     0.96447,     0.96447,     0.96447,     0.96455,     0.96465,     0.96475,     0.96504,     0.96507,     0.96506,     0.96506,     0.96506,     0.96506,     0.96505,     0.96505,     0.96505,\n",
              "            0.96542,      0.9656,     0.96568,     0.96572,     0.96575,     0.96579,     0.96582,     0.96586,      0.9659,     0.96593,     0.96598,     0.96614,     0.96627,     0.96626,     0.96632,     0.96658,     0.96666,     0.96674,     0.96681,     0.96689,     0.96695,     0.96702,     0.96709,\n",
              "            0.96715,     0.96717,     0.96717,     0.96717,     0.96717,     0.96717,     0.96717,     0.96716,     0.96716,     0.96716,     0.96716,     0.96745,     0.96757,     0.96767,     0.96777,     0.96777,     0.96793,     0.96837,     0.96836,     0.96835,     0.96834,     0.96834,     0.96834,\n",
              "            0.96849,     0.96872,     0.96888,     0.96913,     0.96956,     0.96956,     0.96956,     0.96956,     0.96956,     0.96955,     0.96955,     0.96955,     0.96954,     0.96954,     0.96954,     0.96954,     0.96953,     0.96953,     0.96953,     0.96953,     0.96953,     0.96953,     0.96953,\n",
              "            0.96953,     0.96953,     0.96953,     0.96953,     0.96952,     0.96952,     0.96952,     0.96952,     0.96952,     0.96952,     0.96952,     0.96952,     0.96952,     0.96952,     0.96952,     0.96952,     0.96952,     0.96952,     0.96952,     0.96952,     0.96952,     0.96952,     0.96952,\n",
              "            0.96951,     0.96951,     0.96973,     0.96986,     0.96991,     0.96997,     0.97002,     0.97007,     0.97012,     0.97013,     0.97013,     0.97012,     0.97012,     0.97012,     0.97011,     0.97019,     0.97027,     0.97035,     0.97042,     0.97042,      0.9705,     0.97058,     0.97066,\n",
              "            0.97072,     0.97072,     0.97072,     0.97072,     0.97071,     0.97071,     0.97071,     0.97071,     0.97071,     0.97071,      0.9707,      0.9707,     0.97087,     0.97101,       0.971,       0.971,     0.97099,     0.97099,     0.97099,     0.97099,     0.97099,     0.97099,     0.97098,\n",
              "            0.97098,     0.97111,     0.97127,     0.97129,     0.97128,     0.97128,     0.97128,     0.97128,     0.97127,     0.97127,     0.97127,     0.97126,     0.97135,     0.97151,     0.97156,     0.97166,     0.97182,     0.97194,     0.97205,     0.97216,     0.97242,     0.97248,     0.97247,\n",
              "            0.97247,     0.97247,     0.97247,     0.97247,     0.97246,     0.97246,     0.97246,     0.97263,      0.9728,     0.97287,     0.97293,     0.97299,     0.97306,     0.97307,     0.97306,     0.97305,     0.97304,     0.97304,     0.97303,     0.97303,     0.97302,       0.973,     0.97304,\n",
              "            0.97315,     0.97326,     0.97331,     0.97331,      0.9733,      0.9733,      0.9733,      0.9733,      0.9733,     0.97329,     0.97329,     0.97329,     0.97328,     0.97332,     0.97348,      0.9737,     0.97389,     0.97388,     0.97388,     0.97387,     0.97387,     0.97387,     0.97385,\n",
              "            0.97385,     0.97385,     0.97385,     0.97385,     0.97384,     0.97383,     0.97383,     0.97383,     0.97382,     0.97382,     0.97382,     0.97382,     0.97393,     0.97413,     0.97413,     0.97412,     0.97412,     0.97442,     0.97443,     0.97453,     0.97464,     0.97475,     0.97482,\n",
              "            0.97489,     0.97496,     0.97503,     0.97537,     0.97536,     0.97536,     0.97536,     0.97545,     0.97577,     0.97598,     0.97628,     0.97633,     0.97639,     0.97645,     0.97651,     0.97657,     0.97659,     0.97693,     0.97699,     0.97705,      0.9771,     0.97716,     0.97721,\n",
              "             0.9772,      0.9772,     0.97727,     0.97736,     0.97745,     0.97762,     0.97782,     0.97782,     0.97782,     0.97782,     0.97782,     0.97782,     0.97782,     0.97781,     0.97813,     0.97812,      0.9781,      0.9781,     0.97809,     0.97809,     0.97809,     0.97815,     0.97839,\n",
              "            0.97839,      0.9787,      0.9787,     0.97878,     0.97899,     0.97899,     0.97928,     0.97961,     0.98016,     0.98028,     0.98027,     0.98027,     0.98027,     0.98034,     0.98047,     0.98058,     0.98058,     0.98058,     0.98058,     0.98057,     0.98056,     0.98055,     0.98054,\n",
              "            0.98054,     0.98054,     0.98053,     0.98053,     0.98053,     0.98053,      0.9809,     0.98099,     0.98109,     0.98117,     0.98169,     0.98182,     0.98182,     0.98181,     0.98181,     0.98181,     0.98181,      0.9818,      0.9818,     0.98186,     0.98208,     0.98211,     0.98239,\n",
              "            0.98241,     0.98241,     0.98241,     0.98239,     0.98271,      0.9827,     0.98302,     0.98301,     0.98301,       0.983,       0.983,     0.98332,     0.98332,      0.9833,      0.9833,     0.98394,     0.98394,     0.98393,     0.98393,     0.98393,      0.9842,     0.98424,     0.98423,\n",
              "            0.98434,     0.98456,     0.98455,     0.98454,     0.98453,     0.98456,     0.98485,     0.98484,     0.98483,     0.98483,     0.98481,      0.9848,     0.98513,     0.98512,     0.98512,      0.9851,      0.9851,     0.98509,     0.98509,     0.98508,     0.98573,     0.98572,     0.98571,\n",
              "            0.98603,     0.98623,     0.98636,     0.98635,     0.98634,     0.98633,     0.98631,      0.9863,     0.98629,     0.98629,     0.98661,     0.98689,     0.98693,     0.98692,     0.98689,     0.98689,     0.98688,     0.98688,     0.98721,     0.98718,     0.98718,     0.98716,     0.98716,\n",
              "            0.98714,     0.98746,     0.98746,      0.9876,     0.98779,     0.98777,     0.98776,     0.98774,     0.98772,      0.9877,      0.9877,     0.98769,     0.98799,     0.98799,     0.98796,     0.98794,     0.98794,     0.98826,     0.98824,      0.9882,     0.98818,      0.9884,     0.98884,\n",
              "            0.98919,     0.98933,     0.99005,     0.99019,     0.99017,     0.99015,      0.9905,     0.99047,     0.99081,      0.9908,     0.99115,      0.9915,     0.99146,     0.99144,     0.99139,     0.99173,      0.9917,     0.99167,     0.99165,     0.99164,       0.992,     0.99196,      0.9923,\n",
              "            0.99226,     0.99221,     0.99217,     0.99214,     0.99248,     0.99244,      0.9924,     0.99235,     0.99267,     0.99382,     0.99377,     0.99372,     0.99368,     0.99489,     0.99482,     0.99519,     0.99559,     0.99552,     0.99549,      0.9959,     0.99633,     0.99627,     0.99622,\n",
              "            0.99618,     0.99613,     0.99607,     0.99602,     0.99598,     0.99589,     0.99684,      0.9973,     0.99725,      0.9972,     0.99826,     0.99822,     0.99815,     0.99874,     0.99868,     0.99865,     0.99858,     0.99851,     0.99923,     0.99918,     0.99915,           1,           1,\n",
              "                  1,           1,           1,           1,           1,           1,           1,           1,           1,           1,           1,           1,           1,           1,           1,           1,           1,           1,           1,           1,           1,           1,           1,\n",
              "                  1,           1,           1,           1,           1,           1,           1,           1,           1,           1,           1,           1,           1,           1,           1,           1,           1,           1,           1,           1,           1,           1,           1,\n",
              "                  1,           1,           1,           1,           1,           1,           1,           1,           1,           1,           1,           1,           1,           1,           1,           1,           1,           1,           1,           1,           1,           1,           1,\n",
              "                  1,           1,           1,           1,           1,           1,           1,           1,           1,           1,           1,           1,           1,           1,           1,           1,           1,           1,           1,           1,           1,           1,           1,\n",
              "                  1,           1,           1,           1,           1,           1,           1,           1,           1,           1,           1]]), 'Confidence', 'Precision'], [array([          0,    0.001001,    0.002002,    0.003003,    0.004004,    0.005005,    0.006006,    0.007007,    0.008008,    0.009009,     0.01001,    0.011011,    0.012012,    0.013013,    0.014014,    0.015015,    0.016016,    0.017017,    0.018018,    0.019019,     0.02002,    0.021021,    0.022022,    0.023023,\n",
              "          0.024024,    0.025025,    0.026026,    0.027027,    0.028028,    0.029029,     0.03003,    0.031031,    0.032032,    0.033033,    0.034034,    0.035035,    0.036036,    0.037037,    0.038038,    0.039039,     0.04004,    0.041041,    0.042042,    0.043043,    0.044044,    0.045045,    0.046046,    0.047047,\n",
              "          0.048048,    0.049049,     0.05005,    0.051051,    0.052052,    0.053053,    0.054054,    0.055055,    0.056056,    0.057057,    0.058058,    0.059059,     0.06006,    0.061061,    0.062062,    0.063063,    0.064064,    0.065065,    0.066066,    0.067067,    0.068068,    0.069069,     0.07007,    0.071071,\n",
              "          0.072072,    0.073073,    0.074074,    0.075075,    0.076076,    0.077077,    0.078078,    0.079079,     0.08008,    0.081081,    0.082082,    0.083083,    0.084084,    0.085085,    0.086086,    0.087087,    0.088088,    0.089089,     0.09009,    0.091091,    0.092092,    0.093093,    0.094094,    0.095095,\n",
              "          0.096096,    0.097097,    0.098098,    0.099099,      0.1001,      0.1011,      0.1021,      0.1031,      0.1041,     0.10511,     0.10611,     0.10711,     0.10811,     0.10911,     0.11011,     0.11111,     0.11211,     0.11311,     0.11411,     0.11512,     0.11612,     0.11712,     0.11812,     0.11912,\n",
              "           0.12012,     0.12112,     0.12212,     0.12312,     0.12412,     0.12513,     0.12613,     0.12713,     0.12813,     0.12913,     0.13013,     0.13113,     0.13213,     0.13313,     0.13413,     0.13514,     0.13614,     0.13714,     0.13814,     0.13914,     0.14014,     0.14114,     0.14214,     0.14314,\n",
              "           0.14414,     0.14515,     0.14615,     0.14715,     0.14815,     0.14915,     0.15015,     0.15115,     0.15215,     0.15315,     0.15415,     0.15516,     0.15616,     0.15716,     0.15816,     0.15916,     0.16016,     0.16116,     0.16216,     0.16316,     0.16416,     0.16517,     0.16617,     0.16717,\n",
              "           0.16817,     0.16917,     0.17017,     0.17117,     0.17217,     0.17317,     0.17417,     0.17518,     0.17618,     0.17718,     0.17818,     0.17918,     0.18018,     0.18118,     0.18218,     0.18318,     0.18418,     0.18519,     0.18619,     0.18719,     0.18819,     0.18919,     0.19019,     0.19119,\n",
              "           0.19219,     0.19319,     0.19419,      0.1952,      0.1962,      0.1972,      0.1982,      0.1992,      0.2002,      0.2012,      0.2022,      0.2032,      0.2042,     0.20521,     0.20621,     0.20721,     0.20821,     0.20921,     0.21021,     0.21121,     0.21221,     0.21321,     0.21421,     0.21522,\n",
              "           0.21622,     0.21722,     0.21822,     0.21922,     0.22022,     0.22122,     0.22222,     0.22322,     0.22422,     0.22523,     0.22623,     0.22723,     0.22823,     0.22923,     0.23023,     0.23123,     0.23223,     0.23323,     0.23423,     0.23524,     0.23624,     0.23724,     0.23824,     0.23924,\n",
              "           0.24024,     0.24124,     0.24224,     0.24324,     0.24424,     0.24525,     0.24625,     0.24725,     0.24825,     0.24925,     0.25025,     0.25125,     0.25225,     0.25325,     0.25425,     0.25526,     0.25626,     0.25726,     0.25826,     0.25926,     0.26026,     0.26126,     0.26226,     0.26326,\n",
              "           0.26426,     0.26527,     0.26627,     0.26727,     0.26827,     0.26927,     0.27027,     0.27127,     0.27227,     0.27327,     0.27427,     0.27528,     0.27628,     0.27728,     0.27828,     0.27928,     0.28028,     0.28128,     0.28228,     0.28328,     0.28428,     0.28529,     0.28629,     0.28729,\n",
              "           0.28829,     0.28929,     0.29029,     0.29129,     0.29229,     0.29329,     0.29429,      0.2953,      0.2963,      0.2973,      0.2983,      0.2993,      0.3003,      0.3013,      0.3023,      0.3033,      0.3043,     0.30531,     0.30631,     0.30731,     0.30831,     0.30931,     0.31031,     0.31131,\n",
              "           0.31231,     0.31331,     0.31431,     0.31532,     0.31632,     0.31732,     0.31832,     0.31932,     0.32032,     0.32132,     0.32232,     0.32332,     0.32432,     0.32533,     0.32633,     0.32733,     0.32833,     0.32933,     0.33033,     0.33133,     0.33233,     0.33333,     0.33433,     0.33534,\n",
              "           0.33634,     0.33734,     0.33834,     0.33934,     0.34034,     0.34134,     0.34234,     0.34334,     0.34434,     0.34535,     0.34635,     0.34735,     0.34835,     0.34935,     0.35035,     0.35135,     0.35235,     0.35335,     0.35435,     0.35536,     0.35636,     0.35736,     0.35836,     0.35936,\n",
              "           0.36036,     0.36136,     0.36236,     0.36336,     0.36436,     0.36537,     0.36637,     0.36737,     0.36837,     0.36937,     0.37037,     0.37137,     0.37237,     0.37337,     0.37437,     0.37538,     0.37638,     0.37738,     0.37838,     0.37938,     0.38038,     0.38138,     0.38238,     0.38338,\n",
              "           0.38438,     0.38539,     0.38639,     0.38739,     0.38839,     0.38939,     0.39039,     0.39139,     0.39239,     0.39339,     0.39439,      0.3954,      0.3964,      0.3974,      0.3984,      0.3994,      0.4004,      0.4014,      0.4024,      0.4034,      0.4044,     0.40541,     0.40641,     0.40741,\n",
              "           0.40841,     0.40941,     0.41041,     0.41141,     0.41241,     0.41341,     0.41441,     0.41542,     0.41642,     0.41742,     0.41842,     0.41942,     0.42042,     0.42142,     0.42242,     0.42342,     0.42442,     0.42543,     0.42643,     0.42743,     0.42843,     0.42943,     0.43043,     0.43143,\n",
              "           0.43243,     0.43343,     0.43443,     0.43544,     0.43644,     0.43744,     0.43844,     0.43944,     0.44044,     0.44144,     0.44244,     0.44344,     0.44444,     0.44545,     0.44645,     0.44745,     0.44845,     0.44945,     0.45045,     0.45145,     0.45245,     0.45345,     0.45445,     0.45546,\n",
              "           0.45646,     0.45746,     0.45846,     0.45946,     0.46046,     0.46146,     0.46246,     0.46346,     0.46446,     0.46547,     0.46647,     0.46747,     0.46847,     0.46947,     0.47047,     0.47147,     0.47247,     0.47347,     0.47447,     0.47548,     0.47648,     0.47748,     0.47848,     0.47948,\n",
              "           0.48048,     0.48148,     0.48248,     0.48348,     0.48448,     0.48549,     0.48649,     0.48749,     0.48849,     0.48949,     0.49049,     0.49149,     0.49249,     0.49349,     0.49449,      0.4955,      0.4965,      0.4975,      0.4985,      0.4995,      0.5005,      0.5015,      0.5025,      0.5035,\n",
              "            0.5045,     0.50551,     0.50651,     0.50751,     0.50851,     0.50951,     0.51051,     0.51151,     0.51251,     0.51351,     0.51451,     0.51552,     0.51652,     0.51752,     0.51852,     0.51952,     0.52052,     0.52152,     0.52252,     0.52352,     0.52452,     0.52553,     0.52653,     0.52753,\n",
              "           0.52853,     0.52953,     0.53053,     0.53153,     0.53253,     0.53353,     0.53453,     0.53554,     0.53654,     0.53754,     0.53854,     0.53954,     0.54054,     0.54154,     0.54254,     0.54354,     0.54454,     0.54555,     0.54655,     0.54755,     0.54855,     0.54955,     0.55055,     0.55155,\n",
              "           0.55255,     0.55355,     0.55455,     0.55556,     0.55656,     0.55756,     0.55856,     0.55956,     0.56056,     0.56156,     0.56256,     0.56356,     0.56456,     0.56557,     0.56657,     0.56757,     0.56857,     0.56957,     0.57057,     0.57157,     0.57257,     0.57357,     0.57457,     0.57558,\n",
              "           0.57658,     0.57758,     0.57858,     0.57958,     0.58058,     0.58158,     0.58258,     0.58358,     0.58458,     0.58559,     0.58659,     0.58759,     0.58859,     0.58959,     0.59059,     0.59159,     0.59259,     0.59359,     0.59459,      0.5956,      0.5966,      0.5976,      0.5986,      0.5996,\n",
              "            0.6006,      0.6016,      0.6026,      0.6036,      0.6046,     0.60561,     0.60661,     0.60761,     0.60861,     0.60961,     0.61061,     0.61161,     0.61261,     0.61361,     0.61461,     0.61562,     0.61662,     0.61762,     0.61862,     0.61962,     0.62062,     0.62162,     0.62262,     0.62362,\n",
              "           0.62462,     0.62563,     0.62663,     0.62763,     0.62863,     0.62963,     0.63063,     0.63163,     0.63263,     0.63363,     0.63463,     0.63564,     0.63664,     0.63764,     0.63864,     0.63964,     0.64064,     0.64164,     0.64264,     0.64364,     0.64464,     0.64565,     0.64665,     0.64765,\n",
              "           0.64865,     0.64965,     0.65065,     0.65165,     0.65265,     0.65365,     0.65465,     0.65566,     0.65666,     0.65766,     0.65866,     0.65966,     0.66066,     0.66166,     0.66266,     0.66366,     0.66466,     0.66567,     0.66667,     0.66767,     0.66867,     0.66967,     0.67067,     0.67167,\n",
              "           0.67267,     0.67367,     0.67467,     0.67568,     0.67668,     0.67768,     0.67868,     0.67968,     0.68068,     0.68168,     0.68268,     0.68368,     0.68468,     0.68569,     0.68669,     0.68769,     0.68869,     0.68969,     0.69069,     0.69169,     0.69269,     0.69369,     0.69469,      0.6957,\n",
              "            0.6967,      0.6977,      0.6987,      0.6997,      0.7007,      0.7017,      0.7027,      0.7037,      0.7047,     0.70571,     0.70671,     0.70771,     0.70871,     0.70971,     0.71071,     0.71171,     0.71271,     0.71371,     0.71471,     0.71572,     0.71672,     0.71772,     0.71872,     0.71972,\n",
              "           0.72072,     0.72172,     0.72272,     0.72372,     0.72472,     0.72573,     0.72673,     0.72773,     0.72873,     0.72973,     0.73073,     0.73173,     0.73273,     0.73373,     0.73473,     0.73574,     0.73674,     0.73774,     0.73874,     0.73974,     0.74074,     0.74174,     0.74274,     0.74374,\n",
              "           0.74474,     0.74575,     0.74675,     0.74775,     0.74875,     0.74975,     0.75075,     0.75175,     0.75275,     0.75375,     0.75475,     0.75576,     0.75676,     0.75776,     0.75876,     0.75976,     0.76076,     0.76176,     0.76276,     0.76376,     0.76476,     0.76577,     0.76677,     0.76777,\n",
              "           0.76877,     0.76977,     0.77077,     0.77177,     0.77277,     0.77377,     0.77477,     0.77578,     0.77678,     0.77778,     0.77878,     0.77978,     0.78078,     0.78178,     0.78278,     0.78378,     0.78478,     0.78579,     0.78679,     0.78779,     0.78879,     0.78979,     0.79079,     0.79179,\n",
              "           0.79279,     0.79379,     0.79479,      0.7958,      0.7968,      0.7978,      0.7988,      0.7998,      0.8008,      0.8018,      0.8028,      0.8038,      0.8048,     0.80581,     0.80681,     0.80781,     0.80881,     0.80981,     0.81081,     0.81181,     0.81281,     0.81381,     0.81481,     0.81582,\n",
              "           0.81682,     0.81782,     0.81882,     0.81982,     0.82082,     0.82182,     0.82282,     0.82382,     0.82482,     0.82583,     0.82683,     0.82783,     0.82883,     0.82983,     0.83083,     0.83183,     0.83283,     0.83383,     0.83483,     0.83584,     0.83684,     0.83784,     0.83884,     0.83984,\n",
              "           0.84084,     0.84184,     0.84284,     0.84384,     0.84484,     0.84585,     0.84685,     0.84785,     0.84885,     0.84985,     0.85085,     0.85185,     0.85285,     0.85385,     0.85485,     0.85586,     0.85686,     0.85786,     0.85886,     0.85986,     0.86086,     0.86186,     0.86286,     0.86386,\n",
              "           0.86486,     0.86587,     0.86687,     0.86787,     0.86887,     0.86987,     0.87087,     0.87187,     0.87287,     0.87387,     0.87487,     0.87588,     0.87688,     0.87788,     0.87888,     0.87988,     0.88088,     0.88188,     0.88288,     0.88388,     0.88488,     0.88589,     0.88689,     0.88789,\n",
              "           0.88889,     0.88989,     0.89089,     0.89189,     0.89289,     0.89389,     0.89489,      0.8959,      0.8969,      0.8979,      0.8989,      0.8999,      0.9009,      0.9019,      0.9029,      0.9039,      0.9049,     0.90591,     0.90691,     0.90791,     0.90891,     0.90991,     0.91091,     0.91191,\n",
              "           0.91291,     0.91391,     0.91491,     0.91592,     0.91692,     0.91792,     0.91892,     0.91992,     0.92092,     0.92192,     0.92292,     0.92392,     0.92492,     0.92593,     0.92693,     0.92793,     0.92893,     0.92993,     0.93093,     0.93193,     0.93293,     0.93393,     0.93493,     0.93594,\n",
              "           0.93694,     0.93794,     0.93894,     0.93994,     0.94094,     0.94194,     0.94294,     0.94394,     0.94494,     0.94595,     0.94695,     0.94795,     0.94895,     0.94995,     0.95095,     0.95195,     0.95295,     0.95395,     0.95495,     0.95596,     0.95696,     0.95796,     0.95896,     0.95996,\n",
              "           0.96096,     0.96196,     0.96296,     0.96396,     0.96496,     0.96597,     0.96697,     0.96797,     0.96897,     0.96997,     0.97097,     0.97197,     0.97297,     0.97397,     0.97497,     0.97598,     0.97698,     0.97798,     0.97898,     0.97998,     0.98098,     0.98198,     0.98298,     0.98398,\n",
              "           0.98498,     0.98599,     0.98699,     0.98799,     0.98899,     0.98999,     0.99099,     0.99199,     0.99299,     0.99399,     0.99499,       0.996,       0.997,       0.998,       0.999,           1]), array([[    0.99871,     0.99871,     0.99871,     0.99871,     0.99871,     0.99775,     0.99775,     0.99775,     0.99743,     0.99743,     0.99743,     0.99743,     0.99743,     0.99743,     0.99743,     0.99743,     0.99743,     0.99711,     0.99711,     0.99679,     0.99679,     0.99679,     0.99679,\n",
              "            0.99679,     0.99679,     0.99679,     0.99679,     0.99647,     0.99614,     0.99614,     0.99614,     0.99614,     0.99614,     0.99614,     0.99614,     0.99599,     0.99582,     0.99582,     0.99582,      0.9955,     0.99518,     0.99518,     0.99518,     0.99518,     0.99518,     0.99518,\n",
              "            0.99518,     0.99518,     0.99518,     0.99498,     0.99486,     0.99486,     0.99486,     0.99486,     0.99486,     0.99486,     0.99486,     0.99486,     0.99486,     0.99486,     0.99486,     0.99486,     0.99486,     0.99486,     0.99486,     0.99486,     0.99486,     0.99486,     0.99486,\n",
              "            0.99476,      0.9946,     0.99454,     0.99454,     0.99454,     0.99454,     0.99454,     0.99454,     0.99454,     0.99454,     0.99454,     0.99454,     0.99422,     0.99422,     0.99422,     0.99422,     0.99416,     0.99389,     0.99389,     0.99389,     0.99389,     0.99389,     0.99389,\n",
              "            0.99389,     0.99389,     0.99389,     0.99389,     0.99389,     0.99389,     0.99389,     0.99389,     0.99389,     0.99389,     0.99389,     0.99357,     0.99357,     0.99357,     0.99357,     0.99357,     0.99357,     0.99357,     0.99357,     0.99357,     0.99357,     0.99357,     0.99351,\n",
              "            0.99346,     0.99341,     0.99335,      0.9933,     0.99325,     0.99325,     0.99325,     0.99325,     0.99325,     0.99325,     0.99325,     0.99325,     0.99325,     0.99325,     0.99325,     0.99325,     0.99325,     0.99319,     0.99307,     0.99295,     0.99293,     0.99293,     0.99293,\n",
              "            0.99293,     0.99293,     0.99293,     0.99293,     0.99293,     0.99293,     0.99273,      0.9926,     0.99229,     0.99229,     0.99229,     0.99229,     0.99229,     0.99229,     0.99229,     0.99229,     0.99229,     0.99229,     0.99229,     0.99229,     0.99229,     0.99229,     0.99229,\n",
              "            0.99229,     0.99229,     0.99229,     0.99229,     0.99229,     0.99229,     0.99229,     0.99229,     0.99229,     0.99229,     0.99229,     0.99229,     0.99229,      0.9922,     0.99165,     0.99165,     0.99165,     0.99126,     0.99108,       0.991,       0.991,       0.991,       0.991,\n",
              "              0.991,       0.991,       0.991,       0.991,       0.991,       0.991,       0.991,       0.991,       0.991,       0.991,     0.99097,     0.99091,     0.99084,     0.99078,     0.99072,     0.99043,     0.99013,     0.99004,     0.99004,     0.99004,     0.99004,     0.99004,     0.99004,\n",
              "            0.99003,     0.98999,     0.98995,     0.98991,     0.98987,     0.98984,      0.9898,     0.98976,     0.98972,     0.98972,     0.98968,     0.98962,     0.98956,     0.98951,     0.98945,      0.9894,      0.9894,      0.9894,      0.9894,      0.9894,      0.9894,      0.9894,      0.9894,\n",
              "             0.9894,      0.9894,      0.9894,      0.9894,      0.9894,      0.9894,      0.9894,      0.9894,      0.9894,      0.9894,      0.9894,     0.98932,     0.98917,     0.98907,     0.98907,     0.98907,     0.98907,     0.98907,     0.98907,     0.98907,     0.98907,     0.98907,     0.98907,\n",
              "            0.98907,     0.98907,     0.98907,     0.98907,     0.98907,     0.98907,     0.98904,      0.9889,     0.98875,     0.98875,     0.98875,     0.98875,     0.98875,     0.98875,     0.98875,     0.98875,     0.98875,     0.98875,     0.98875,     0.98875,     0.98875,     0.98875,     0.98875,\n",
              "            0.98875,     0.98875,     0.98875,     0.98875,     0.98875,     0.98875,     0.98875,     0.98875,     0.98875,     0.98875,     0.98873,      0.9886,     0.98847,      0.9883,     0.98811,     0.98811,     0.98811,     0.98811,     0.98811,     0.98811,     0.98811,     0.98811,     0.98811,\n",
              "            0.98811,     0.98802,     0.98783,     0.98779,     0.98779,     0.98779,     0.98779,     0.98779,     0.98779,     0.98779,     0.98779,     0.98779,     0.98779,     0.98779,     0.98776,     0.98772,     0.98769,     0.98766,     0.98763,      0.9876,     0.98757,     0.98754,     0.98751,\n",
              "            0.98747,     0.98747,     0.98747,     0.98747,     0.98747,     0.98747,     0.98747,     0.98747,     0.98747,     0.98747,     0.98747,     0.98747,     0.98721,     0.98715,     0.98715,     0.98715,     0.98715,     0.98715,     0.98715,     0.98715,     0.98715,     0.98715,     0.98715,\n",
              "            0.98715,     0.98715,     0.98715,     0.98715,     0.98715,     0.98715,     0.98715,     0.98715,     0.98715,     0.98715,     0.98708,     0.98689,     0.98683,     0.98683,     0.98683,     0.98683,     0.98683,     0.98683,     0.98683,     0.98683,     0.98683,     0.98683,     0.98683,\n",
              "            0.98683,     0.98683,     0.98683,     0.98683,     0.98683,     0.98683,     0.98683,     0.98683,     0.98683,     0.98683,     0.98683,     0.98683,     0.98664,      0.9865,      0.9865,      0.9865,      0.9865,     0.98648,     0.98643,     0.98638,     0.98633,     0.98628,     0.98623,\n",
              "            0.98618,     0.98618,     0.98618,     0.98618,     0.98618,     0.98612,     0.98595,     0.98582,     0.98573,     0.98565,     0.98556,     0.98554,     0.98554,     0.98554,     0.98554,     0.98537,     0.98521,     0.98516,     0.98512,     0.98507,     0.98502,     0.98497,     0.98493,\n",
              "             0.9849,      0.9849,      0.9849,      0.9849,      0.9849,      0.9849,      0.9849,      0.9849,      0.9849,      0.9849,      0.9849,      0.9849,     0.98487,     0.98471,     0.98458,     0.98458,     0.98458,     0.98458,     0.98458,     0.98458,     0.98458,     0.98458,     0.98458,\n",
              "            0.98458,     0.98455,     0.98452,     0.98449,     0.98445,     0.98442,     0.98439,     0.98436,     0.98432,     0.98429,     0.98426,     0.98425,     0.98425,     0.98425,     0.98424,     0.98393,     0.98393,     0.98389,     0.98349,     0.98316,     0.98292,     0.98281,      0.9827,\n",
              "            0.98265,     0.98265,     0.98265,     0.98265,     0.98262,     0.98257,     0.98253,     0.98248,     0.98243,     0.98238,     0.98234,     0.98207,     0.98195,     0.98189,     0.98182,     0.98176,     0.98169,     0.98166,     0.98163,      0.9816,     0.98158,     0.98155,     0.98152,\n",
              "            0.98149,     0.98147,     0.98144,     0.98141,     0.98138,     0.98136,     0.98134,     0.98133,     0.98131,     0.98129,     0.98128,     0.98126,     0.98124,     0.98123,     0.98121,     0.98119,     0.98118,     0.98116,     0.98114,     0.98113,     0.98111,      0.9811,     0.98108,\n",
              "            0.98106,     0.98105,     0.98104,     0.98104,     0.98104,     0.98104,     0.98104,     0.98104,     0.98104,     0.98098,     0.98092,     0.98085,     0.98079,     0.98072,      0.9804,      0.9804,      0.9804,      0.9804,     0.98036,     0.98008,     0.98008,     0.98008,     0.98008,\n",
              "            0.98007,     0.98003,     0.97999,     0.97994,      0.9799,     0.97986,     0.97982,     0.97978,     0.97972,     0.97964,     0.97956,     0.97947,     0.97943,     0.97937,     0.97926,     0.97915,     0.97891,     0.97876,     0.97871,     0.97867,     0.97862,     0.97857,     0.97853,\n",
              "            0.97848,     0.97847,     0.97847,     0.97836,     0.97822,     0.97811,     0.97803,     0.97795,     0.97787,     0.97774,     0.97758,     0.97732,     0.97719,     0.97719,     0.97697,     0.97686,     0.97686,     0.97686,     0.97686,     0.97686,     0.97654,     0.97641,     0.97624,\n",
              "            0.97617,     0.97612,     0.97606,     0.97601,     0.97595,      0.9759,     0.97568,     0.97558,     0.97558,     0.97558,     0.97558,     0.97558,     0.97558,     0.97535,     0.97502,     0.97449,     0.97433,     0.97416,       0.974,     0.97369,     0.97336,     0.97281,     0.97269,\n",
              "            0.97269,     0.97269,      0.9726,     0.97244,     0.97233,     0.97226,      0.9722,     0.97213,     0.97207,     0.97195,     0.97182,     0.97168,     0.97152,      0.9714,      0.9714,      0.9714,     0.97096,     0.97063,     0.97038,     0.97025,     0.97012,     0.96996,     0.96947,\n",
              "            0.96939,     0.96931,     0.96922,     0.96913,     0.96891,     0.96848,     0.96844,     0.96839,     0.96835,      0.9683,     0.96826,     0.96822,     0.96819,     0.96807,     0.96782,     0.96768,     0.96755,     0.96754,     0.96723,     0.96722,     0.96722,     0.96722,     0.96722,\n",
              "            0.96722,     0.96722,     0.96722,       0.967,     0.96684,     0.96674,     0.96665,     0.96658,     0.96658,     0.96604,     0.96566,     0.96562,     0.96562,     0.96562,     0.96562,     0.96562,     0.96513,     0.96465,     0.96465,     0.96465,     0.96465,     0.96465,     0.96455,\n",
              "            0.96422,     0.96406,     0.96401,     0.96401,     0.96401,     0.96401,     0.96335,     0.96332,     0.96328,     0.96324,      0.9632,     0.96316,     0.96312,     0.96308,     0.96303,     0.96238,      0.9617,     0.96137,     0.96126,     0.96115,     0.96097,     0.96048,     0.96042,\n",
              "             0.9602,     0.95971,     0.95954,     0.95855,     0.95847,     0.95825,     0.95823,     0.95823,     0.95823,     0.95818,     0.95809,     0.95799,     0.95786,     0.95758,     0.95758,     0.95754,     0.95725,     0.95715,     0.95706,     0.95696,     0.95646,     0.95588,     0.95545,\n",
              "            0.95523,     0.95509,     0.95498,     0.95488,     0.95479,     0.95469,     0.95469,     0.95469,     0.95469,     0.95465,     0.95437,     0.95433,     0.95425,     0.95418,     0.95411,     0.95398,      0.9537,     0.95356,     0.95343,     0.95276,     0.95276,     0.95248,     0.95212,\n",
              "            0.95142,     0.95129,     0.95116,     0.95036,     0.94954,      0.9492,     0.94872,     0.94819,     0.94806,     0.94759,     0.94737,     0.94719,     0.94702,      0.9461,     0.94585,       0.945,     0.94484,     0.94466,     0.94444,     0.94412,     0.94377,     0.94346,     0.94265,\n",
              "            0.94248,     0.94247,     0.94172,     0.94118,     0.94102,     0.94023,     0.93982,     0.93937,     0.93883,     0.93867,     0.93758,     0.93717,     0.93653,     0.93631,     0.93609,     0.93497,     0.93452,     0.93425,     0.93384,     0.93349,     0.93252,     0.93186,     0.93074,\n",
              "            0.93023,     0.92995,     0.92955,      0.9291,     0.92791,     0.92715,     0.92595,     0.92521,     0.92475,     0.92453,     0.92332,      0.9232,     0.92196,     0.92131,      0.9194,     0.91888,      0.9184,     0.91817,     0.91757,      0.9158,     0.91544,     0.91414,     0.91375,\n",
              "             0.9125,     0.91126,     0.91093,     0.91035,     0.90979,     0.90857,     0.90736,     0.90596,     0.90498,     0.90316,     0.90283,     0.90204,       0.899,     0.89879,     0.89637,     0.89524,     0.89489,     0.89295,     0.89101,      0.8883,     0.88647,     0.88528,     0.88265,\n",
              "            0.88193,     0.87918,     0.87789,     0.87545,     0.87409,     0.87221,     0.87091,       0.868,     0.86605,      0.8649,     0.86409,     0.86183,     0.85796,     0.85633,     0.85085,     0.84827,     0.84504,     0.84186,     0.83986,     0.83824,     0.83694,     0.83307,     0.82791,\n",
              "            0.82372,     0.81888,     0.81469,     0.81114,     0.80566,     0.80179,     0.79727,     0.79243,     0.78374,     0.77473,     0.76893,     0.76249,     0.75733,     0.75056,     0.74027,     0.73125,     0.72481,     0.71451,     0.70935,     0.70227,     0.69807,     0.68713,      0.6778,\n",
              "            0.67071,     0.66202,      0.6514,     0.64367,     0.63691,      0.6234,     0.60828,     0.59316,     0.58254,     0.57224,     0.55166,     0.54072,     0.52078,     0.50759,     0.48733,     0.47478,     0.45259,     0.43169,     0.41528,     0.38988,     0.37701,     0.35739,      0.3397,\n",
              "            0.32105,       0.304,     0.28503,      0.2638,     0.24001,     0.22103,     0.20816,     0.18822,     0.17375,     0.15991,     0.14223,        0.13,     0.11263,     0.10297,    0.092032,    0.081412,    0.071435,    0.064349,    0.056621,    0.050178,    0.041807,    0.035364,    0.031492,\n",
              "           0.025371,    0.020535,    0.014437,    0.013433,     0.01181,    0.010188,   0.0084598,   0.0066207,   0.0046766,   0.0036957,   0.0034908,   0.0033261,   0.0030056,   0.0026194,   0.0021894,   0.0020247,    0.001792,   0.0015106,    0.001291,   0.0011249,  0.00095645,  0.00064167,  0.00062042,\n",
              "         0.00059917,  0.00057792,  0.00055667,  0.00053542,  0.00051417,  0.00049292,  0.00047167,  0.00045042,  0.00042916,  0.00040791,  0.00038666,  0.00036541,  0.00034416,  0.00032291,           0,           0,           0,           0,           0,           0,           0,           0,           0,\n",
              "                  0,           0,           0,           0,           0,           0,           0,           0,           0,           0,           0,           0,           0,           0,           0,           0,           0,           0,           0,           0,           0,           0,           0,\n",
              "                  0,           0,           0,           0,           0,           0,           0,           0,           0,           0,           0]]), 'Confidence', 'Recall']]\n",
              "fitness: np.float64(0.8362294246470885)\n",
              "keys: ['metrics/precision(B)', 'metrics/recall(B)', 'metrics/mAP50(B)', 'metrics/mAP50-95(B)']\n",
              "maps: array([    0.81905])\n",
              "names: {0: 'Palm-Oil'}\n",
              "nt_per_class: array([3112])\n",
              "nt_per_image: array([216])\n",
              "results_dict: {'metrics/precision(B)': np.float64(0.9695376147863232), 'metrics/recall(B)': np.float64(0.9818212171039935), 'metrics/mAP50(B)': np.float64(0.9908221974996348), 'metrics/mAP50-95(B)': np.float64(0.8190524498856945), 'fitness': np.float64(0.8362294246470885)}\n",
              "save_dir: PosixPath('/content/drive/MyDrive/GeoAI/hasil_training_model/yolov11x_deteksi_sawit')\n",
              "speed: {'preprocess': 0.5414595916035354, 'inference': 12.620240389309444, 'loss': 0.001043893129088052, 'postprocess': 4.548355240459587}\n",
              "stats: {'tp': [], 'conf': [], 'pred_cls': [], 'target_cls': [], 'target_img': []}\n",
              "task: 'detect'"
            ]
          },
          "metadata": {},
          "execution_count": 5
        }
      ]
    },
    {
      "cell_type": "code",
      "execution_count": null,
      "id": "d25b1eab-e4d0-4199-bcff-84e440cca645",
      "metadata": {
        "id": "d25b1eab-e4d0-4199-bcff-84e440cca645"
      },
      "outputs": [],
      "source": [
        "# Step 4 : konversi ke format ONNX\n",
        "\n",
        "from ultralytics import YOLO\n",
        "\n",
        "# Load model hasil training\n",
        "model = YOLO('/content/drive/MyDrive/hasil_training_model/yolov11x_deteksi_sawit/weights/best.pt')\n",
        "\n",
        "# Export ke format ONNX\n",
        "model.export(format='onnx')"
      ]
    }
  ],
  "metadata": {
    "kernelspec": {
      "display_name": "Python 3",
      "name": "python3"
    },
    "language_info": {
      "codemirror_mode": {
        "name": "ipython",
        "version": 3
      },
      "file_extension": ".py",
      "mimetype": "text/x-python",
      "name": "python",
      "nbconvert_exporter": "python",
      "pygments_lexer": "ipython3",
      "version": "3.12.10"
    },
    "colab": {
      "provenance": [],
      "gpuType": "T4"
    },
    "accelerator": "GPU"
  },
  "nbformat": 4,
  "nbformat_minor": 5
}